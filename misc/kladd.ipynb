{
 "cells": [
  {
   "cell_type": "code",
   "execution_count": 1,
   "metadata": {},
   "outputs": [
    {
     "data": {
      "text/plain": [
       "(1, 2, 3)"
      ]
     },
     "execution_count": 1,
     "metadata": {},
     "output_type": "execute_result"
    }
   ],
   "source": [
    "\n",
    "# tuple - store data in a collection\n",
    "# immutable\n",
    "t1 = (1,2,3)\n",
    "t1"
   ]
  },
  {
   "cell_type": "code",
   "execution_count": 2,
   "metadata": {},
   "outputs": [
    {
     "data": {
      "text/plain": [
       "2"
      ]
     },
     "execution_count": 2,
     "metadata": {},
     "output_type": "execute_result"
    }
   ],
   "source": [
    "t1[1]"
   ]
  },
  {
   "cell_type": "code",
   "execution_count": 3,
   "metadata": {},
   "outputs": [
    {
     "ename": "TypeError",
     "evalue": "'tuple' object does not support item assignment",
     "output_type": "error",
     "traceback": [
      "\u001b[0;31m---------------------------------------------------------------------------\u001b[0m",
      "\u001b[0;31mTypeError\u001b[0m                                 Traceback (most recent call last)",
      "Cell \u001b[0;32mIn[3], line 1\u001b[0m\n\u001b[0;32m----> 1\u001b[0m \u001b[43mt1\u001b[49m\u001b[43m[\u001b[49m\u001b[38;5;241;43m1\u001b[39;49m\u001b[43m]\u001b[49m \u001b[38;5;241m=\u001b[39m \u001b[38;5;241m5\u001b[39m\n",
      "\u001b[0;31mTypeError\u001b[0m: 'tuple' object does not support item assignment"
     ]
    }
   ],
   "source": [
    "t1[1] = 5"
   ]
  },
  {
   "cell_type": "code",
   "execution_count": 4,
   "metadata": {},
   "outputs": [
    {
     "data": {
      "text/plain": [
       "[1, 6, 3]"
      ]
     },
     "execution_count": 4,
     "metadata": {},
     "output_type": "execute_result"
    }
   ],
   "source": [
    "l1 = [1,2,3]\n",
    "l1[1] = 6\n",
    "l1"
   ]
  },
  {
   "cell_type": "code",
   "execution_count": 5,
   "metadata": {},
   "outputs": [
    {
     "data": {
      "text/plain": [
       "{1, 2}"
      ]
     },
     "execution_count": 5,
     "metadata": {},
     "output_type": "execute_result"
    }
   ],
   "source": [
    "# set (mängd)\n",
    "{1,2,1,1,1,1}"
   ]
  },
  {
   "cell_type": "code",
   "execution_count": 6,
   "metadata": {},
   "outputs": [
    {
     "data": {
      "text/plain": [
       "[0, 1, 2, 3, 4]"
      ]
     },
     "execution_count": 6,
     "metadata": {},
     "output_type": "execute_result"
    }
   ],
   "source": [
    "[i for i in range(5)]"
   ]
  },
  {
   "cell_type": "code",
   "execution_count": 7,
   "metadata": {},
   "outputs": [
    {
     "data": {
      "text/plain": [
       "<generator object <genexpr> at 0x104e36080>"
      ]
     },
     "execution_count": 7,
     "metadata": {},
     "output_type": "execute_result"
    }
   ],
   "source": [
    "(i for i in range(5))"
   ]
  },
  {
   "cell_type": "code",
   "execution_count": 8,
   "metadata": {},
   "outputs": [
    {
     "data": {
      "text/plain": [
       "(0, 1, 2, 3, 4)"
      ]
     },
     "execution_count": 8,
     "metadata": {},
     "output_type": "execute_result"
    }
   ],
   "source": [
    "tuple(i for i in range(5))"
   ]
  },
  {
   "cell_type": "code",
   "execution_count": 10,
   "metadata": {},
   "outputs": [
    {
     "data": {
      "text/plain": [
       "(23, 24)"
      ]
     },
     "execution_count": 10,
     "metadata": {},
     "output_type": "execute_result"
    }
   ],
   "source": [
    "text = \"(23,24)\"\n",
    "\n",
    "data = eval(text)\n",
    "data"
   ]
  },
  {
   "cell_type": "code",
   "execution_count": 13,
   "metadata": {},
   "outputs": [
    {
     "data": {
      "text/plain": [
       "23"
      ]
     },
     "execution_count": 13,
     "metadata": {},
     "output_type": "execute_result"
    }
   ],
   "source": [
    "data[0]"
   ]
  },
  {
   "cell_type": "code",
   "execution_count": 14,
   "metadata": {},
   "outputs": [],
   "source": [
    "list_2d = [[20,23], [22,10], [15,15]]"
   ]
  },
  {
   "cell_type": "code",
   "execution_count": 15,
   "metadata": {},
   "outputs": [
    {
     "data": {
      "text/plain": [
       "[[20, 23], [22, 10], [15, 15]]"
      ]
     },
     "execution_count": 15,
     "metadata": {},
     "output_type": "execute_result"
    }
   ],
   "source": [
    "list_2d"
   ]
  },
  {
   "cell_type": "code",
   "execution_count": 16,
   "metadata": {},
   "outputs": [
    {
     "data": {
      "text/plain": [
       "[20, 23]"
      ]
     },
     "execution_count": 16,
     "metadata": {},
     "output_type": "execute_result"
    }
   ],
   "source": [
    "list_2d[0]"
   ]
  },
  {
   "cell_type": "code",
   "execution_count": 17,
   "metadata": {},
   "outputs": [
    {
     "name": "stdout",
     "output_type": "stream",
     "text": [
      "(23,24)\n",
      "(20,20)\n",
      "(10,15)\n"
     ]
    }
   ],
   "source": [
    "raw = \"(23,24)\\n(20,20)\\n(10,15)\"\n",
    "print(raw)"
   ]
  },
  {
   "cell_type": "code",
   "execution_count": 22,
   "metadata": {},
   "outputs": [
    {
     "data": {
      "text/plain": [
       "[(23, 24), (20, 20), (10, 15)]"
      ]
     },
     "execution_count": 22,
     "metadata": {},
     "output_type": "execute_result"
    }
   ],
   "source": [
    "# list comprehension\n",
    "data = [eval(coordinate) for coordinate in raw.split(\"\\n\")]\n",
    "data"
   ]
  },
  {
   "cell_type": "code",
   "execution_count": 25,
   "metadata": {},
   "outputs": [
    {
     "data": {
      "text/plain": [
       "[(23, 24), (20, 20), (10, 15)]"
      ]
     },
     "execution_count": 25,
     "metadata": {},
     "output_type": "execute_result"
    }
   ],
   "source": [
    "data = []\n",
    "for coordinate in raw.split(\"\\n\"):\n",
    "    data.append(eval(coordinate))\n",
    "\n",
    "data"
   ]
  },
  {
   "cell_type": "code",
   "execution_count": 26,
   "metadata": {},
   "outputs": [
    {
     "data": {
      "text/plain": [
       "(12, 32)"
      ]
     },
     "execution_count": 26,
     "metadata": {},
     "output_type": "execute_result"
    }
   ],
   "source": [
    "raw = \"(12,32)\"\n",
    "data = eval(raw)\n",
    "data"
   ]
  },
  {
   "cell_type": "code",
   "execution_count": 28,
   "metadata": {},
   "outputs": [
    {
     "data": {
      "text/plain": [
       "12"
      ]
     },
     "execution_count": 28,
     "metadata": {},
     "output_type": "execute_result"
    }
   ],
   "source": [
    "data[0]"
   ]
  },
  {
   "cell_type": "code",
   "execution_count": 3,
   "metadata": {},
   "outputs": [
    {
     "name": "stdout",
     "output_type": "stream",
     "text": [
      "(width (cm), height (cm))\n",
      "(18.137772263313835, 44.951493566608946)\n",
      "(26.648661832322336, 41.49878057639454)\n",
      "(26.180524428318897, 39.38100083914504)\n",
      "(24.44364396490554, 40.175758410355904)\n",
      "(21.201902279430513, 36.21004195868266)\n",
      "(25.691541582957697, 37.24697337031557)\n",
      "(19.338626083150515, 38.38085562147455)\n",
      "(23.21718300802926, 40.88308718457233)\n",
      "(23.444684475950478, 37.30114732596577)\n",
      "(29.445791130252964, 37.20217384451559)\n",
      "(28.51023528453833, 35.709930860090324)\n",
      "(21.16066860901309, 41.31102957270099)\n",
      "(24.00703335660358, 37.28941783811155)\n",
      "(20.143822566361578, 44.054200130061275)\n",
      "(28.951534072137846, 43.59635400253747)\n",
      "(28.4462228380412, 35.70857349888654)\n",
      "(21.581337497383593, 37.380046343689955)\n",
      "(25.66739393839206, 41.68977778296281)\n",
      "(25.30764253725807, 37.14236807370439)\n",
      "(19.834071222595618, 36.32311848725025)\n",
      "(27.150129600901813, 44.35514240580671)\n",
      "(24.472548361435507, 40.710430933252844)\n",
      "(27.3435177435667, 39.726710263117944)\n",
      "(24.36424406634213, 42.846194242907536)\n",
      "(18.006862753535323, 43.074969977666434)\n",
      "(21.889872684056076, 36.90409914361878)\n",
      "(18.233720908629987, 35.969308142288234)\n",
      "(29.149183395175406, 39.310511824063774)\n",
      "(28.54466253387821, 39.23578623019921)\n",
      "(27.97998635233415, 39.67024668036675)\n",
      "(21.690169504831935, 42.290758494598506)\n",
      "(18.69510199793025, 41.73364547293301)\n",
      "(28.536115190448484, 44.84165211365966)\n",
      "(29.36339334357593, 35.98417871151959)\n",
      "(19.027841424814547, 39.02621282102269)\n",
      "(23.831885559799368, 38.39302605394963)\n",
      "(18.830550221620605, 43.61672536352791)\n",
      "(27.12722598308678, 37.48656333920286)\n",
      "(27.190013151683853, 36.90208908440812)\n",
      "(19.540697573997154, 39.48613547833132)\n",
      "(23.703388537184775, 39.21881639834404)\n",
      "(24.597643121939328, 37.785451446669406)\n",
      "(21.18067954728071, 37.49806447882101)\n",
      "(28.46919649302309, 44.23265599276013)\n",
      "(23.077655282410642, 39.43130745053457)\n",
      "(20.541578465304983, 43.613491047618304)\n",
      "(24.4715530653535, 40.50325312449848)\n",
      "(26.759172829079716, 35.505883295248815)\n",
      "(20.41381276067635, 44.992824684127264)\n",
      "(21.74059549561074, 43.36027585079952)\n",
      "\n"
     ]
    }
   ],
   "source": [
    "with open(\"../data/python/pikachu.txt\", \"r\") as file:\n",
    "    raw = file.read()\n",
    "\n",
    "print(raw)"
   ]
  },
  {
   "cell_type": "code",
   "execution_count": 9,
   "metadata": {},
   "outputs": [
    {
     "data": {
      "text/plain": [
       "(18.137772263313835, 44.951493566608946)"
      ]
     },
     "execution_count": 9,
     "metadata": {},
     "output_type": "execute_result"
    }
   ],
   "source": [
    "data_text = raw.split(\"\\n\")[1:-1]\n",
    "eval(data_text[0])"
   ]
  },
  {
   "cell_type": "code",
   "execution_count": 12,
   "metadata": {},
   "outputs": [
    {
     "data": {
      "text/plain": [
       "68.13777226331383"
      ]
     },
     "execution_count": 12,
     "metadata": {},
     "output_type": "execute_result"
    }
   ],
   "source": [
    "eval(data_text[0])[0] + 50"
   ]
  },
  {
   "cell_type": "code",
   "execution_count": 21,
   "metadata": {},
   "outputs": [
    {
     "data": {
      "text/plain": [
       "'18.137772263313835, 44.951493566608946'"
      ]
     },
     "execution_count": 21,
     "metadata": {},
     "output_type": "execute_result"
    }
   ],
   "source": [
    "test = raw.split(\"\\n\")[1:-1][0]\n",
    "\n",
    "test_string = test[1:-1]\n",
    "test_string"
   ]
  },
  {
   "cell_type": "code",
   "execution_count": 26,
   "metadata": {},
   "outputs": [
    {
     "data": {
      "text/plain": [
       "['18.137772263313835', '44.951493566608946']"
      ]
     },
     "execution_count": 26,
     "metadata": {},
     "output_type": "execute_result"
    }
   ],
   "source": [
    "test_string.split(\", \")"
   ]
  },
  {
   "cell_type": "code",
   "execution_count": 28,
   "metadata": {},
   "outputs": [
    {
     "data": {
      "text/plain": [
       "(18.137772263313835, 44.951493566608946)"
      ]
     },
     "execution_count": 28,
     "metadata": {},
     "output_type": "execute_result"
    }
   ],
   "source": [
    "data_point1 = float(test_string.split(\", \")[0]), float(test_string.split(\", \")[1])\n",
    "data_point1"
   ]
  },
  {
   "cell_type": "code",
   "execution_count": null,
   "metadata": {},
   "outputs": [],
   "source": []
  }
 ],
 "metadata": {
  "kernelspec": {
   "display_name": "venv",
   "language": "python",
   "name": "python3"
  },
  "language_info": {
   "codemirror_mode": {
    "name": "ipython",
    "version": 3
   },
   "file_extension": ".py",
   "mimetype": "text/x-python",
   "name": "python",
   "nbconvert_exporter": "python",
   "pygments_lexer": "ipython3",
   "version": "3.12.0"
  }
 },
 "nbformat": 4,
 "nbformat_minor": 2
}
