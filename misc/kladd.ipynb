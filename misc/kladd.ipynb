{
 "cells": [
  {
   "cell_type": "code",
   "execution_count": 1,
   "metadata": {},
   "outputs": [
    {
     "data": {
      "text/plain": [
       "(1, 2, 3)"
      ]
     },
     "execution_count": 1,
     "metadata": {},
     "output_type": "execute_result"
    }
   ],
   "source": [
    "\n",
    "# tuple - store data in a collection\n",
    "# immutable\n",
    "t1 = (1,2,3)\n",
    "t1"
   ]
  },
  {
   "cell_type": "code",
   "execution_count": 2,
   "metadata": {},
   "outputs": [
    {
     "data": {
      "text/plain": [
       "2"
      ]
     },
     "execution_count": 2,
     "metadata": {},
     "output_type": "execute_result"
    }
   ],
   "source": [
    "t1[1]"
   ]
  },
  {
   "cell_type": "code",
   "execution_count": 3,
   "metadata": {},
   "outputs": [
    {
     "ename": "TypeError",
     "evalue": "'tuple' object does not support item assignment",
     "output_type": "error",
     "traceback": [
      "\u001b[0;31m---------------------------------------------------------------------------\u001b[0m",
      "\u001b[0;31mTypeError\u001b[0m                                 Traceback (most recent call last)",
      "Cell \u001b[0;32mIn[3], line 1\u001b[0m\n\u001b[0;32m----> 1\u001b[0m \u001b[43mt1\u001b[49m\u001b[43m[\u001b[49m\u001b[38;5;241;43m1\u001b[39;49m\u001b[43m]\u001b[49m \u001b[38;5;241m=\u001b[39m \u001b[38;5;241m5\u001b[39m\n",
      "\u001b[0;31mTypeError\u001b[0m: 'tuple' object does not support item assignment"
     ]
    }
   ],
   "source": [
    "t1[1] = 5"
   ]
  },
  {
   "cell_type": "code",
   "execution_count": 4,
   "metadata": {},
   "outputs": [
    {
     "data": {
      "text/plain": [
       "[1, 6, 3]"
      ]
     },
     "execution_count": 4,
     "metadata": {},
     "output_type": "execute_result"
    }
   ],
   "source": [
    "l1 = [1,2,3]\n",
    "l1[1] = 6\n",
    "l1"
   ]
  },
  {
   "cell_type": "code",
   "execution_count": 5,
   "metadata": {},
   "outputs": [
    {
     "data": {
      "text/plain": [
       "{1, 2}"
      ]
     },
     "execution_count": 5,
     "metadata": {},
     "output_type": "execute_result"
    }
   ],
   "source": [
    "# set (mängd)\n",
    "{1,2,1,1,1,1}"
   ]
  },
  {
   "cell_type": "code",
   "execution_count": 6,
   "metadata": {},
   "outputs": [
    {
     "data": {
      "text/plain": [
       "[0, 1, 2, 3, 4]"
      ]
     },
     "execution_count": 6,
     "metadata": {},
     "output_type": "execute_result"
    }
   ],
   "source": [
    "[i for i in range(5)]"
   ]
  },
  {
   "cell_type": "code",
   "execution_count": 7,
   "metadata": {},
   "outputs": [
    {
     "data": {
      "text/plain": [
       "<generator object <genexpr> at 0x104e36080>"
      ]
     },
     "execution_count": 7,
     "metadata": {},
     "output_type": "execute_result"
    }
   ],
   "source": [
    "(i for i in range(5))"
   ]
  },
  {
   "cell_type": "code",
   "execution_count": 8,
   "metadata": {},
   "outputs": [
    {
     "data": {
      "text/plain": [
       "(0, 1, 2, 3, 4)"
      ]
     },
     "execution_count": 8,
     "metadata": {},
     "output_type": "execute_result"
    }
   ],
   "source": [
    "tuple(i for i in range(5))"
   ]
  },
  {
   "cell_type": "code",
   "execution_count": 10,
   "metadata": {},
   "outputs": [
    {
     "data": {
      "text/plain": [
       "(23, 24)"
      ]
     },
     "execution_count": 10,
     "metadata": {},
     "output_type": "execute_result"
    }
   ],
   "source": [
    "text = \"(23,24)\"\n",
    "\n",
    "data = eval(text)\n",
    "data"
   ]
  },
  {
   "cell_type": "code",
   "execution_count": 13,
   "metadata": {},
   "outputs": [
    {
     "data": {
      "text/plain": [
       "23"
      ]
     },
     "execution_count": 13,
     "metadata": {},
     "output_type": "execute_result"
    }
   ],
   "source": [
    "data[0]"
   ]
  },
  {
   "cell_type": "code",
   "execution_count": 14,
   "metadata": {},
   "outputs": [],
   "source": [
    "list_2d = [[20,23], [22,10], [15,15]]"
   ]
  },
  {
   "cell_type": "code",
   "execution_count": 15,
   "metadata": {},
   "outputs": [
    {
     "data": {
      "text/plain": [
       "[[20, 23], [22, 10], [15, 15]]"
      ]
     },
     "execution_count": 15,
     "metadata": {},
     "output_type": "execute_result"
    }
   ],
   "source": [
    "list_2d"
   ]
  },
  {
   "cell_type": "code",
   "execution_count": 16,
   "metadata": {},
   "outputs": [
    {
     "data": {
      "text/plain": [
       "[20, 23]"
      ]
     },
     "execution_count": 16,
     "metadata": {},
     "output_type": "execute_result"
    }
   ],
   "source": [
    "list_2d[0]"
   ]
  },
  {
   "cell_type": "code",
   "execution_count": 17,
   "metadata": {},
   "outputs": [
    {
     "name": "stdout",
     "output_type": "stream",
     "text": [
      "(23,24)\n",
      "(20,20)\n",
      "(10,15)\n"
     ]
    }
   ],
   "source": [
    "raw = \"(23,24)\\n(20,20)\\n(10,15)\"\n",
    "print(raw)"
   ]
  },
  {
   "cell_type": "code",
   "execution_count": 22,
   "metadata": {},
   "outputs": [
    {
     "data": {
      "text/plain": [
       "[(23, 24), (20, 20), (10, 15)]"
      ]
     },
     "execution_count": 22,
     "metadata": {},
     "output_type": "execute_result"
    }
   ],
   "source": [
    "# list comprehension\n",
    "data = [eval(coordinate) for coordinate in raw.split(\"\\n\")]\n",
    "data"
   ]
  },
  {
   "cell_type": "code",
   "execution_count": 25,
   "metadata": {},
   "outputs": [
    {
     "data": {
      "text/plain": [
       "[(23, 24), (20, 20), (10, 15)]"
      ]
     },
     "execution_count": 25,
     "metadata": {},
     "output_type": "execute_result"
    }
   ],
   "source": [
    "data = []\n",
    "for coordinate in raw.split(\"\\n\"):\n",
    "    data.append(eval(coordinate))\n",
    "\n",
    "data"
   ]
  },
  {
   "cell_type": "code",
   "execution_count": 26,
   "metadata": {},
   "outputs": [
    {
     "data": {
      "text/plain": [
       "(12, 32)"
      ]
     },
     "execution_count": 26,
     "metadata": {},
     "output_type": "execute_result"
    }
   ],
   "source": [
    "raw = \"(12,32)\"\n",
    "data = eval(raw)\n",
    "data"
   ]
  },
  {
   "cell_type": "code",
   "execution_count": 28,
   "metadata": {},
   "outputs": [
    {
     "data": {
      "text/plain": [
       "12"
      ]
     },
     "execution_count": 28,
     "metadata": {},
     "output_type": "execute_result"
    }
   ],
   "source": [
    "data[0]"
   ]
  },
  {
   "cell_type": "code",
   "execution_count": 3,
   "metadata": {},
   "outputs": [
    {
     "name": "stdout",
     "output_type": "stream",
     "text": [
      "(width (cm), height (cm))\n",
      "(18.137772263313835, 44.951493566608946)\n",
      "(26.648661832322336, 41.49878057639454)\n",
      "(26.180524428318897, 39.38100083914504)\n",
      "(24.44364396490554, 40.175758410355904)\n",
      "(21.201902279430513, 36.21004195868266)\n",
      "(25.691541582957697, 37.24697337031557)\n",
      "(19.338626083150515, 38.38085562147455)\n",
      "(23.21718300802926, 40.88308718457233)\n",
      "(23.444684475950478, 37.30114732596577)\n",
      "(29.445791130252964, 37.20217384451559)\n",
      "(28.51023528453833, 35.709930860090324)\n",
      "(21.16066860901309, 41.31102957270099)\n",
      "(24.00703335660358, 37.28941783811155)\n",
      "(20.143822566361578, 44.054200130061275)\n",
      "(28.951534072137846, 43.59635400253747)\n",
      "(28.4462228380412, 35.70857349888654)\n",
      "(21.581337497383593, 37.380046343689955)\n",
      "(25.66739393839206, 41.68977778296281)\n",
      "(25.30764253725807, 37.14236807370439)\n",
      "(19.834071222595618, 36.32311848725025)\n",
      "(27.150129600901813, 44.35514240580671)\n",
      "(24.472548361435507, 40.710430933252844)\n",
      "(27.3435177435667, 39.726710263117944)\n",
      "(24.36424406634213, 42.846194242907536)\n",
      "(18.006862753535323, 43.074969977666434)\n",
      "(21.889872684056076, 36.90409914361878)\n",
      "(18.233720908629987, 35.969308142288234)\n",
      "(29.149183395175406, 39.310511824063774)\n",
      "(28.54466253387821, 39.23578623019921)\n",
      "(27.97998635233415, 39.67024668036675)\n",
      "(21.690169504831935, 42.290758494598506)\n",
      "(18.69510199793025, 41.73364547293301)\n",
      "(28.536115190448484, 44.84165211365966)\n",
      "(29.36339334357593, 35.98417871151959)\n",
      "(19.027841424814547, 39.02621282102269)\n",
      "(23.831885559799368, 38.39302605394963)\n",
      "(18.830550221620605, 43.61672536352791)\n",
      "(27.12722598308678, 37.48656333920286)\n",
      "(27.190013151683853, 36.90208908440812)\n",
      "(19.540697573997154, 39.48613547833132)\n",
      "(23.703388537184775, 39.21881639834404)\n",
      "(24.597643121939328, 37.785451446669406)\n",
      "(21.18067954728071, 37.49806447882101)\n",
      "(28.46919649302309, 44.23265599276013)\n",
      "(23.077655282410642, 39.43130745053457)\n",
      "(20.541578465304983, 43.613491047618304)\n",
      "(24.4715530653535, 40.50325312449848)\n",
      "(26.759172829079716, 35.505883295248815)\n",
      "(20.41381276067635, 44.992824684127264)\n",
      "(21.74059549561074, 43.36027585079952)\n",
      "\n"
     ]
    }
   ],
   "source": [
    "with open(\"../data/python/pikachu.txt\", \"r\") as file:\n",
    "    raw = file.read()\n",
    "\n",
    "print(raw)"
   ]
  },
  {
   "cell_type": "code",
   "execution_count": 9,
   "metadata": {},
   "outputs": [
    {
     "data": {
      "text/plain": [
       "(18.137772263313835, 44.951493566608946)"
      ]
     },
     "execution_count": 9,
     "metadata": {},
     "output_type": "execute_result"
    }
   ],
   "source": [
    "data_text = raw.split(\"\\n\")[1:-1]\n",
    "eval(data_text[0])"
   ]
  },
  {
   "cell_type": "code",
   "execution_count": 12,
   "metadata": {},
   "outputs": [
    {
     "data": {
      "text/plain": [
       "68.13777226331383"
      ]
     },
     "execution_count": 12,
     "metadata": {},
     "output_type": "execute_result"
    }
   ],
   "source": [
    "eval(data_text[0])[0] + 50"
   ]
  },
  {
   "cell_type": "code",
   "execution_count": 21,
   "metadata": {},
   "outputs": [
    {
     "data": {
      "text/plain": [
       "'18.137772263313835, 44.951493566608946'"
      ]
     },
     "execution_count": 21,
     "metadata": {},
     "output_type": "execute_result"
    }
   ],
   "source": [
    "test = raw.split(\"\\n\")[1:-1][0]\n",
    "\n",
    "test_string = test[1:-1]\n",
    "test_string"
   ]
  },
  {
   "cell_type": "code",
   "execution_count": 26,
   "metadata": {},
   "outputs": [
    {
     "data": {
      "text/plain": [
       "['18.137772263313835', '44.951493566608946']"
      ]
     },
     "execution_count": 26,
     "metadata": {},
     "output_type": "execute_result"
    }
   ],
   "source": [
    "test_string.split(\", \")"
   ]
  },
  {
   "cell_type": "code",
   "execution_count": 28,
   "metadata": {},
   "outputs": [
    {
     "data": {
      "text/plain": [
       "(18.137772263313835, 44.951493566608946)"
      ]
     },
     "execution_count": 28,
     "metadata": {},
     "output_type": "execute_result"
    }
   ],
   "source": [
    "data_point1 = float(test_string.split(\", \")[0]), float(test_string.split(\", \")[1])\n",
    "data_point1"
   ]
  },
  {
   "cell_type": "code",
   "execution_count": 14,
   "metadata": {},
   "outputs": [
    {
     "data": {
      "text/plain": [
       "[array([2, 3]), array([12, 32])]"
      ]
     },
     "execution_count": 14,
     "metadata": {},
     "output_type": "execute_result"
    }
   ],
   "source": [
    "import numpy as np \n",
    "merged_data = []\n",
    "data_list = np.array([(2,3), (12,32)])\n",
    "for point in data_list:\n",
    "    merged_data.append(point)\n",
    "\n",
    "merged_data\n"
   ]
  },
  {
   "cell_type": "code",
   "execution_count": 22,
   "metadata": {},
   "outputs": [
    {
     "data": {
      "text/plain": [
       "array([[ 2.,  3.,  1.],\n",
       "       [12., 32.,  1.]])"
      ]
     },
     "execution_count": 22,
     "metadata": {},
     "output_type": "execute_result"
    }
   ],
   "source": [
    "x = np.concatenate([np.array(merged_data), np.ones((2,1))], axis = 1)\n",
    "\n",
    "x"
   ]
  },
  {
   "cell_type": "code",
   "execution_count": 24,
   "metadata": {},
   "outputs": [
    {
     "data": {
      "text/plain": [
       "array([ 1., 81.])"
      ]
     },
     "execution_count": 24,
     "metadata": {},
     "output_type": "execute_result"
    }
   ],
   "source": [
    "(x[:,0]-3)**2"
   ]
  },
  {
   "cell_type": "code",
   "execution_count": 2,
   "metadata": {},
   "outputs": [
    {
     "data": {
      "text/plain": [
       "array([[3, 6],\n",
       "       [2, 4],\n",
       "       [3, 6],\n",
       "       [6, 1],\n",
       "       [6, 1],\n",
       "       [5, 2],\n",
       "       [2, 6],\n",
       "       [5, 2],\n",
       "       [2, 2],\n",
       "       [5, 1],\n",
       "       [3, 1],\n",
       "       [6, 3],\n",
       "       [1, 2],\n",
       "       [4, 2],\n",
       "       [3, 6],\n",
       "       [5, 5],\n",
       "       [4, 6],\n",
       "       [2, 3],\n",
       "       [6, 4],\n",
       "       [1, 2]])"
      ]
     },
     "execution_count": 2,
     "metadata": {},
     "output_type": "execute_result"
    }
   ],
   "source": [
    "import numpy as np \n",
    "\n",
    "data = np.random.randint(1,7, (20,2))\n",
    "data"
   ]
  },
  {
   "cell_type": "code",
   "execution_count": 6,
   "metadata": {},
   "outputs": [
    {
     "data": {
      "text/plain": [
       "array([29.41088234, 31.6227766 , 29.41088234, 32.20248438, 32.20248438,\n",
       "       31.76476035, 30.        , 31.76476035, 33.28663395, 32.64965543,\n",
       "       33.61547263, 30.41381265, 33.83784863, 32.24903099, 29.41088234,\n",
       "       29.15475947, 28.8444102 , 32.44996148, 29.52964612, 33.83784863])"
      ]
     },
     "execution_count": 6,
     "metadata": {},
     "output_type": "execute_result"
    }
   ],
   "source": [
    "test = (20,30)\n",
    "# vectorisation in numpy\n",
    "np.sqrt((data[:,0] - test[0])**2 + (data[:,1]-test[1])**2)\n"
   ]
  },
  {
   "cell_type": "code",
   "execution_count": null,
   "metadata": {},
   "outputs": [],
   "source": []
  },
  {
   "cell_type": "code",
   "execution_count": 8,
   "metadata": {},
   "outputs": [
    {
     "data": {
      "text/plain": [
       "'(23, 32), (13,23), (22,19), (10,15)'"
      ]
     },
     "execution_count": 8,
     "metadata": {},
     "output_type": "execute_result"
    }
   ],
   "source": [
    "test_data = \"(23, 32), (13,23), (22,19), (10,15)\"\n",
    "test_data"
   ]
  },
  {
   "cell_type": "code",
   "execution_count": 15,
   "metadata": {},
   "outputs": [
    {
     "data": {
      "text/plain": [
       "[(23, 32), (13, 23), (22, 19), (10, 15)]"
      ]
     },
     "execution_count": 15,
     "metadata": {},
     "output_type": "execute_result"
    }
   ],
   "source": [
    "cleaned_test = eval(f\"[{test_data}]\")\n",
    "cleaned_test"
   ]
  },
  {
   "cell_type": "code",
   "execution_count": 26,
   "metadata": {},
   "outputs": [
    {
     "data": {
      "text/plain": [
       "array([[5., 4., 0.],\n",
       "       [3., 5., 0.],\n",
       "       [3., 1., 0.],\n",
       "       [3., 5., 0.],\n",
       "       [4., 2., 0.],\n",
       "       [2., 1., 0.],\n",
       "       [2., 4., 0.],\n",
       "       [5., 5., 0.],\n",
       "       [2., 4., 0.],\n",
       "       [1., 4., 0.],\n",
       "       [1., 6., 1.],\n",
       "       [5., 1., 1.],\n",
       "       [2., 6., 1.],\n",
       "       [1., 5., 1.],\n",
       "       [4., 4., 1.],\n",
       "       [1., 6., 1.],\n",
       "       [1., 2., 1.],\n",
       "       [6., 5., 1.],\n",
       "       [5., 6., 1.],\n",
       "       [1., 2., 1.]])"
      ]
     },
     "execution_count": 26,
     "metadata": {},
     "output_type": "execute_result"
    }
   ],
   "source": [
    "fake_data = np.concatenate([np.random.randint(1,7,(20,2)), np.ones((20,1))], axis=1)\n",
    "fake_data[:10,2] = 0\n",
    "fake_data"
   ]
  },
  {
   "cell_type": "code",
   "execution_count": 38,
   "metadata": {},
   "outputs": [],
   "source": [
    "fake_data[10:,1] = fake_data[10:,1]+20\n"
   ]
  },
  {
   "cell_type": "code",
   "execution_count": 40,
   "metadata": {},
   "outputs": [
    {
     "data": {
      "text/plain": [
       "array([[ 5.,  4.,  0.],\n",
       "       [ 3.,  5.,  0.],\n",
       "       [ 3.,  1.,  0.],\n",
       "       [ 3.,  5.,  0.],\n",
       "       [ 4.,  2.,  0.],\n",
       "       [ 2.,  1.,  0.],\n",
       "       [ 2.,  4.,  0.],\n",
       "       [ 5.,  5.,  0.],\n",
       "       [ 2.,  4.,  0.],\n",
       "       [ 1.,  4.,  0.],\n",
       "       [21., 26.,  1.],\n",
       "       [25., 21.,  1.],\n",
       "       [22., 26.,  1.],\n",
       "       [21., 25.,  1.],\n",
       "       [24., 24.,  1.],\n",
       "       [21., 26.,  1.],\n",
       "       [21., 22.,  1.],\n",
       "       [26., 25.,  1.],\n",
       "       [25., 26.,  1.],\n",
       "       [21., 22.,  1.]])"
      ]
     },
     "execution_count": 40,
     "metadata": {},
     "output_type": "execute_result"
    }
   ],
   "source": [
    "fake_data[10:,0] = fake_data[10:,0]+20\n",
    "fake_data"
   ]
  },
  {
   "cell_type": "code",
   "execution_count": 50,
   "metadata": {},
   "outputs": [
    {
     "data": {
      "text/plain": [
       "array([11.66190379, 13.        , 15.        , 13.        , 13.60147051,\n",
       "       15.8113883 , 14.31782106, 11.18033989, 14.31782106, 15.23154621,\n",
       "       17.08800749, 14.86606875, 17.4642492 , 16.15549442, 16.64331698,\n",
       "       17.08800749, 13.41640786, 18.60107524, 18.86796226, 13.41640786])"
      ]
     },
     "execution_count": 50,
     "metadata": {},
     "output_type": "execute_result"
    }
   ],
   "source": [
    "test = (15,10)\n",
    "distances = np.sqrt((fake_data[:,0] - test[0])**2 + (fake_data[:,1] - test[1])**2)\n",
    "distances"
   ]
  },
  {
   "cell_type": "code",
   "execution_count": 51,
   "metadata": {},
   "outputs": [
    {
     "data": {
      "text/plain": [
       "array([11.18033989, 11.66190379, 13.        , 13.        , 13.41640786,\n",
       "       13.41640786, 13.60147051, 14.31782106, 14.31782106, 14.86606875,\n",
       "       15.        , 15.23154621, 15.8113883 , 16.15549442, 16.64331698,\n",
       "       17.08800749, 17.08800749, 17.4642492 , 18.60107524, 18.86796226])"
      ]
     },
     "execution_count": 51,
     "metadata": {},
     "output_type": "execute_result"
    }
   ],
   "source": [
    "sorted_indices = np.argsort(distances)\n",
    "distances[sorted_indices]"
   ]
  },
  {
   "cell_type": "code",
   "execution_count": 52,
   "metadata": {},
   "outputs": [
    {
     "data": {
      "text/plain": [
       "array([0., 0., 0., 0., 1., 1., 0., 0., 0., 1., 0., 0., 0., 1., 1., 1., 1.,\n",
       "       1., 1., 1.])"
      ]
     },
     "execution_count": 52,
     "metadata": {},
     "output_type": "execute_result"
    }
   ],
   "source": [
    "fake_data[:,2][sorted_indices]"
   ]
  },
  {
   "cell_type": "code",
   "execution_count": 55,
   "metadata": {},
   "outputs": [
    {
     "data": {
      "text/plain": [
       "1.0"
      ]
     },
     "execution_count": 55,
     "metadata": {},
     "output_type": "execute_result"
    }
   ],
   "source": [
    "fake_data[:,2][sorted_indices][:5].sum() # > 3 -> pikachu else pichu"
   ]
  },
  {
   "cell_type": "markdown",
   "metadata": {},
   "source": [
    "---"
   ]
  },
  {
   "cell_type": "code",
   "execution_count": 56,
   "metadata": {},
   "outputs": [
    {
     "data": {
      "text/plain": [
       "array([[ 5.,  4.,  0.],\n",
       "       [ 3.,  5.,  0.],\n",
       "       [ 3.,  1.,  0.],\n",
       "       [ 3.,  5.,  0.],\n",
       "       [ 4.,  2.,  0.],\n",
       "       [ 2.,  1.,  0.],\n",
       "       [ 2.,  4.,  0.],\n",
       "       [ 5.,  5.,  0.],\n",
       "       [ 2.,  4.,  0.],\n",
       "       [ 1.,  4.,  0.],\n",
       "       [21., 26.,  1.],\n",
       "       [25., 21.,  1.],\n",
       "       [22., 26.,  1.],\n",
       "       [21., 25.,  1.],\n",
       "       [24., 24.,  1.],\n",
       "       [21., 26.,  1.],\n",
       "       [21., 22.,  1.],\n",
       "       [26., 25.,  1.],\n",
       "       [25., 26.,  1.],\n",
       "       [21., 22.,  1.]])"
      ]
     },
     "execution_count": 56,
     "metadata": {},
     "output_type": "execute_result"
    }
   ],
   "source": [
    "fake_data"
   ]
  },
  {
   "cell_type": "code",
   "execution_count": 63,
   "metadata": {},
   "outputs": [
    {
     "data": {
      "text/plain": [
       "11"
      ]
     },
     "execution_count": 63,
     "metadata": {},
     "output_type": "execute_result"
    }
   ],
   "source": [
    "np.argmin(np.sqrt((fake_data[:,1] - 20)**2 + (fake_data[:,0] - 25)**2))"
   ]
  },
  {
   "cell_type": "markdown",
   "metadata": {},
   "source": [
    "Training\n",
    "- 45 pikachu\n",
    "- 45 pichu\n",
    "\n",
    "Test \n",
    "- 5 pikachu\n",
    "- 5 pichu\n",
    "\n",
    "- Test point - classify the test points \n",
    "- check the accuracy"
   ]
  },
  {
   "cell_type": "markdown",
   "metadata": {},
   "source": [
    "---"
   ]
  },
  {
   "cell_type": "code",
   "execution_count": 2,
   "metadata": {},
   "outputs": [
    {
     "data": {
      "text/plain": [
       "'(43.2, 23)'"
      ]
     },
     "execution_count": 2,
     "metadata": {},
     "output_type": "execute_result"
    }
   ],
   "source": [
    "string = \"(43.2, 23)\"\n",
    "string"
   ]
  },
  {
   "cell_type": "code",
   "execution_count": 4,
   "metadata": {},
   "outputs": [
    {
     "data": {
      "text/plain": [
       "(43.2, 23)"
      ]
     },
     "execution_count": 4,
     "metadata": {},
     "output_type": "execute_result"
    }
   ],
   "source": [
    "data = eval(string)\n",
    "data "
   ]
  },
  {
   "cell_type": "code",
   "execution_count": 5,
   "metadata": {},
   "outputs": [
    {
     "data": {
      "text/plain": [
       "43.2"
      ]
     },
     "execution_count": 5,
     "metadata": {},
     "output_type": "execute_result"
    }
   ],
   "source": [
    "data[0]"
   ]
  },
  {
   "cell_type": "code",
   "execution_count": 6,
   "metadata": {},
   "outputs": [
    {
     "data": {
      "text/plain": [
       "23"
      ]
     },
     "execution_count": 6,
     "metadata": {},
     "output_type": "execute_result"
    }
   ],
   "source": [
    "data[1]"
   ]
  },
  {
   "cell_type": "code",
   "execution_count": 7,
   "metadata": {},
   "outputs": [
    {
     "data": {
      "text/plain": [
       "'('"
      ]
     },
     "execution_count": 7,
     "metadata": {},
     "output_type": "execute_result"
    }
   ],
   "source": [
    "string[0]"
   ]
  },
  {
   "cell_type": "code",
   "execution_count": 3,
   "metadata": {},
   "outputs": [
    {
     "name": "stdout",
     "output_type": "stream",
     "text": [
      ".Aqua Kana\n",
      ".Keyboard\n",
      ".New York\n",
      ".SF Arabic\n",
      ".SF Compact\n",
      ".SF Compact Rounded\n",
      ".SF NS Mono\n",
      ".SF NS Rounded\n",
      "Academy Engraved LET\n",
      "Al Bayan\n",
      "Al Nile\n",
      "Al Tarikh\n",
      "American Typewriter\n",
      "Andale Mono\n",
      "Apple Braille\n",
      "Apple Chancery\n",
      "Apple SD Gothic Neo\n",
      "Apple Symbols\n",
      "AppleGothic\n",
      "AppleMyungjo\n",
      "Arial\n",
      "Arial Black\n",
      "Arial Hebrew\n",
      "Arial Narrow\n",
      "Arial Rounded MT Bold\n",
      "Arial Unicode MS\n",
      "Athelas\n",
      "Avenir\n",
      "Avenir Next\n",
      "Avenir Next Condensed\n",
      "Ayuthaya\n",
      "Baghdad\n",
      "Bangla MN\n",
      "Bangla Sangam MN\n",
      "Baskerville\n",
      "Beirut\n",
      "Big Caslon\n",
      "Bodoni 72\n",
      "Bodoni 72 Oldstyle\n",
      "Bodoni 72 Smallcaps\n",
      "Bodoni Ornaments\n",
      "Bradley Hand\n",
      "Brush Script MT\n",
      "Chalkboard\n",
      "Chalkboard SE\n",
      "Chalkduster\n",
      "Charter\n",
      "Cochin\n",
      "Comic Sans MS\n",
      "Copperplate\n",
      "Corsiva Hebrew\n",
      "Courier\n",
      "Courier New\n",
      "DIN Alternate\n",
      "DIN Condensed\n",
      "Damascus\n",
      "DecoType Naskh\n",
      "DejaVu Sans\n",
      "DejaVu Sans Display\n",
      "DejaVu Sans Mono\n",
      "DejaVu Serif\n",
      "DejaVu Serif Display\n",
      "Devanagari MT\n",
      "Devanagari Sangam MN\n",
      "Didot\n",
      "Diwan Kufi\n",
      "Diwan Thuluth\n",
      "Euphemia UCAS\n",
      "Farah\n",
      "Farisi\n",
      "Futura\n",
      "Galvji\n",
      "Geeza Pro\n",
      "Geneva\n",
      "Georgia\n",
      "Gill Sans\n",
      "Gujarati MT\n",
      "Gujarati Sangam MN\n",
      "Gurmukhi MN\n",
      "Gurmukhi MT\n",
      "Gurmukhi Sangam MN\n",
      "Heiti TC\n",
      "Helvetica\n",
      "Helvetica Neue\n",
      "Herculanum\n",
      "Hiragino Maru Gothic Pro\n",
      "Hiragino Mincho ProN\n",
      "Hiragino Sans\n",
      "Hiragino Sans GB\n",
      "Hoefler Text\n",
      "ITF Devanagari\n",
      "Impact\n",
      "InaiMathi\n",
      "Iowan Old Style\n",
      "Kailasa\n",
      "Kannada MN\n",
      "Kannada Sangam MN\n",
      "Kefa\n",
      "Khmer MN\n",
      "Khmer Sangam MN\n",
      "Kohinoor Bangla\n",
      "Kohinoor Devanagari\n",
      "Kohinoor Gujarati\n",
      "Kohinoor Telugu\n",
      "Kokonor\n",
      "Krungthep\n",
      "KufiStandardGK\n",
      "Lao MN\n",
      "Lao Sangam MN\n",
      "Lucida Grande\n",
      "Luminari\n",
      "Malayalam MN\n",
      "Malayalam Sangam MN\n",
      "Marion\n",
      "Marker Felt\n",
      "Menlo\n",
      "Microsoft Sans Serif\n",
      "Mishafi\n",
      "Mishafi Gold\n",
      "Monaco\n",
      "Mshtakan\n",
      "Mukta Mahee\n",
      "Muna\n",
      "Myanmar MN\n",
      "Myanmar Sangam MN\n",
      "Nadeem\n",
      "New Peninim MT\n",
      "Noteworthy\n",
      "Noto Nastaliq Urdu\n",
      "Noto Sans Adlam\n",
      "Noto Sans Armenian\n",
      "Noto Sans Avestan\n",
      "Noto Sans Bamum\n",
      "Noto Sans Bassa Vah\n",
      "Noto Sans Batak\n",
      "Noto Sans Bhaiksuki\n",
      "Noto Sans Brahmi\n",
      "Noto Sans Buginese\n",
      "Noto Sans Buhid\n",
      "Noto Sans Carian\n",
      "Noto Sans Caucasian Albanian\n",
      "Noto Sans Chakma\n",
      "Noto Sans Cham\n",
      "Noto Sans Coptic\n",
      "Noto Sans Cuneiform\n",
      "Noto Sans Cypriot\n",
      "Noto Sans Duployan\n",
      "Noto Sans Egyptian Hieroglyphs\n",
      "Noto Sans Elbasan\n",
      "Noto Sans Glagolitic\n",
      "Noto Sans Gothic\n",
      "Noto Sans Gunjala Gondi\n",
      "Noto Sans Hanifi Rohingya\n",
      "Noto Sans Hanunoo\n",
      "Noto Sans Hatran\n",
      "Noto Sans Imperial Aramaic\n",
      "Noto Sans Inscriptional Pahlavi\n",
      "Noto Sans Inscriptional Parthian\n",
      "Noto Sans Javanese\n",
      "Noto Sans Kaithi\n",
      "Noto Sans Kannada\n",
      "Noto Sans Kayah Li\n",
      "Noto Sans Kharoshthi\n",
      "Noto Sans Khojki\n",
      "Noto Sans Khudawadi\n",
      "Noto Sans Lepcha\n",
      "Noto Sans Limbu\n",
      "Noto Sans Linear A\n",
      "Noto Sans Linear B\n",
      "Noto Sans Lisu\n",
      "Noto Sans Lycian\n",
      "Noto Sans Lydian\n",
      "Noto Sans Mahajani\n",
      "Noto Sans Mandaic\n",
      "Noto Sans Manichaean\n",
      "Noto Sans Marchen\n",
      "Noto Sans Masaram Gondi\n",
      "Noto Sans Meetei Mayek\n",
      "Noto Sans Mende Kikakui\n",
      "Noto Sans Meroitic\n",
      "Noto Sans Miao\n",
      "Noto Sans Modi\n",
      "Noto Sans Mongolian\n",
      "Noto Sans Mro\n",
      "Noto Sans Multani\n",
      "Noto Sans Myanmar\n",
      "Noto Sans NKo\n",
      "Noto Sans Nabataean\n",
      "Noto Sans New Tai Lue\n",
      "Noto Sans Newa\n",
      "Noto Sans Ol Chiki\n",
      "Noto Sans Old Hungarian\n",
      "Noto Sans Old Italic\n",
      "Noto Sans Old North Arabian\n",
      "Noto Sans Old Permic\n",
      "Noto Sans Old Persian\n",
      "Noto Sans Old South Arabian\n",
      "Noto Sans Old Turkic\n",
      "Noto Sans Oriya\n",
      "Noto Sans Osage\n",
      "Noto Sans Osmanya\n",
      "Noto Sans Pahawh Hmong\n",
      "Noto Sans Palmyrene\n",
      "Noto Sans Pau Cin Hau\n",
      "Noto Sans PhagsPa\n",
      "Noto Sans Phoenician\n",
      "Noto Sans Psalter Pahlavi\n",
      "Noto Sans Rejang\n",
      "Noto Sans Samaritan\n",
      "Noto Sans Saurashtra\n",
      "Noto Sans Sharada\n",
      "Noto Sans Siddham\n",
      "Noto Sans Sora Sompeng\n",
      "Noto Sans Sundanese\n",
      "Noto Sans Syloti Nagri\n",
      "Noto Sans Syriac\n",
      "Noto Sans Tagalog\n",
      "Noto Sans Tagbanwa\n",
      "Noto Sans Tai Le\n",
      "Noto Sans Tai Tham\n",
      "Noto Sans Tai Viet\n",
      "Noto Sans Takri\n",
      "Noto Sans Thaana\n",
      "Noto Sans Tifinagh\n",
      "Noto Sans Tirhuta\n",
      "Noto Sans Ugaritic\n",
      "Noto Sans Vai\n",
      "Noto Sans Wancho\n",
      "Noto Sans Warang Citi\n",
      "Noto Sans Yi\n",
      "Noto Serif Ahom\n",
      "Noto Serif Balinese\n",
      "Noto Serif Myanmar\n",
      "Noto Serif Yezidi\n",
      "Optima\n",
      "Oriya MN\n",
      "Oriya Sangam MN\n",
      "PT Mono\n",
      "PT Sans\n",
      "PT Serif\n",
      "PT Serif Caption\n",
      "Palatino\n",
      "Papyrus\n",
      "Party LET\n",
      "Phosphate\n",
      "PingFang HK\n",
      "Plantagenet Cherokee\n",
      "Raanana\n",
      "Rockwell\n",
      "STIXGeneral\n",
      "STIXIntegralsD\n",
      "STIXIntegralsSm\n",
      "STIXIntegralsUp\n",
      "STIXIntegralsUpD\n",
      "STIXIntegralsUpSm\n",
      "STIXNonUnicode\n",
      "STIXSizeFiveSym\n",
      "STIXSizeFourSym\n",
      "STIXSizeOneSym\n",
      "STIXSizeThreeSym\n",
      "STIXSizeTwoSym\n",
      "STIXVariants\n",
      "Sana\n",
      "Sathu\n",
      "Savoye LET\n",
      "Seravek\n",
      "Shree Devanagari 714\n",
      "SignPainter\n",
      "Silom\n",
      "Sinhala MN\n",
      "Sinhala Sangam MN\n",
      "Skia\n",
      "Snell Roundhand\n",
      "Songti SC\n",
      "Sukhumvit Set\n",
      "Superclarendon\n",
      "Symbol\n",
      "System Font\n",
      "Tahoma\n",
      "Tamil MN\n",
      "Tamil Sangam MN\n",
      "Telugu MN\n",
      "Telugu Sangam MN\n",
      "Thonburi\n",
      "Times\n",
      "Times New Roman\n",
      "Trattatello\n",
      "Trebuchet MS\n",
      "Verdana\n",
      "Waseem\n",
      "Webdings\n",
      "Wingdings\n",
      "Wingdings 2\n",
      "Wingdings 3\n",
      "Zapf Dingbats\n",
      "Zapfino\n",
      "cmb10\n",
      "cmex10\n",
      "cmmi10\n",
      "cmr10\n",
      "cmss10\n",
      "cmsy10\n",
      "cmtt10\n"
     ]
    }
   ],
   "source": [
    "import matplotlib.font_manager\n",
    "\n",
    "fonts = set(f.name for f in matplotlib.font_manager.fontManager.ttflist)\n",
    "for font in sorted(fonts):\n",
    "    print(font)\n"
   ]
  },
  {
   "cell_type": "code",
   "execution_count": 4,
   "metadata": {},
   "outputs": [
    {
     "data": {
      "text/html": [
       "<div>\n",
       "<style scoped>\n",
       "    .dataframe tbody tr th:only-of-type {\n",
       "        vertical-align: middle;\n",
       "    }\n",
       "\n",
       "    .dataframe tbody tr th {\n",
       "        vertical-align: top;\n",
       "    }\n",
       "\n",
       "    .dataframe thead th {\n",
       "        text-align: right;\n",
       "    }\n",
       "</style>\n",
       "<table border=\"1\" class=\"dataframe\">\n",
       "  <thead>\n",
       "    <tr style=\"text-align: right;\">\n",
       "      <th></th>\n",
       "      <th>FoodCategory</th>\n",
       "      <th>FoodItem</th>\n",
       "      <th>per100grams</th>\n",
       "      <th>Cals_per100grams</th>\n",
       "      <th>KJ_per100grams</th>\n",
       "    </tr>\n",
       "  </thead>\n",
       "  <tbody>\n",
       "    <tr>\n",
       "      <th>0</th>\n",
       "      <td>CannedFruit</td>\n",
       "      <td>Applesauce</td>\n",
       "      <td>100g</td>\n",
       "      <td>62 cal</td>\n",
       "      <td>260 kJ</td>\n",
       "    </tr>\n",
       "    <tr>\n",
       "      <th>1</th>\n",
       "      <td>CannedFruit</td>\n",
       "      <td>Canned Apricots</td>\n",
       "      <td>100g</td>\n",
       "      <td>48 cal</td>\n",
       "      <td>202 kJ</td>\n",
       "    </tr>\n",
       "    <tr>\n",
       "      <th>2</th>\n",
       "      <td>CannedFruit</td>\n",
       "      <td>Canned Blackberries</td>\n",
       "      <td>100g</td>\n",
       "      <td>92 cal</td>\n",
       "      <td>386 kJ</td>\n",
       "    </tr>\n",
       "    <tr>\n",
       "      <th>3</th>\n",
       "      <td>CannedFruit</td>\n",
       "      <td>Canned Blueberries</td>\n",
       "      <td>100g</td>\n",
       "      <td>88 cal</td>\n",
       "      <td>370 kJ</td>\n",
       "    </tr>\n",
       "    <tr>\n",
       "      <th>4</th>\n",
       "      <td>CannedFruit</td>\n",
       "      <td>Canned Cherries</td>\n",
       "      <td>100g</td>\n",
       "      <td>54 cal</td>\n",
       "      <td>227 kJ</td>\n",
       "    </tr>\n",
       "  </tbody>\n",
       "</table>\n",
       "</div>"
      ],
      "text/plain": [
       "  FoodCategory             FoodItem per100grams Cals_per100grams  \\\n",
       "0  CannedFruit           Applesauce        100g           62 cal   \n",
       "1  CannedFruit      Canned Apricots        100g           48 cal   \n",
       "2  CannedFruit  Canned Blackberries        100g           92 cal   \n",
       "3  CannedFruit   Canned Blueberries        100g           88 cal   \n",
       "4  CannedFruit      Canned Cherries        100g           54 cal   \n",
       "\n",
       "  KJ_per100grams  \n",
       "0         260 kJ  \n",
       "1         202 kJ  \n",
       "2         386 kJ  \n",
       "3         370 kJ  \n",
       "4         227 kJ  "
      ]
     },
     "execution_count": 4,
     "metadata": {},
     "output_type": "execute_result"
    }
   ],
   "source": [
    "import pandas as pd\n",
    "\n",
    "df = pd.read_excel(\"../data/data_processing/calories.xlsx\")\n",
    "df.head()"
   ]
  },
  {
   "cell_type": "code",
   "execution_count": 17,
   "metadata": {},
   "outputs": [],
   "source": [
    "df[\"Cals_per100grams\"] = df[\"Cals_per100grams\"].str[:-4].astype(int) \n",
    "df[\"KJ_per100grams\"] = df[\"KJ_per100grams\"].str[:-2].astype(int) \n"
   ]
  },
  {
   "cell_type": "code",
   "execution_count": 22,
   "metadata": {},
   "outputs": [
    {
     "data": {
      "text/plain": [
       "0       0.761538\n",
       "1       0.762376\n",
       "2       0.761658\n",
       "3       0.762162\n",
       "4       0.762115\n",
       "          ...   \n",
       "2220    0.761868\n",
       "2221    0.762002\n",
       "2222    0.761873\n",
       "2223    0.761905\n",
       "2224    0.761865\n",
       "Length: 2225, dtype: float64"
      ]
     },
     "execution_count": 22,
     "metadata": {},
     "output_type": "execute_result"
    }
   ],
   "source": [
    "(df[\"KJ_per100grams\"] - df[\"Cals_per100grams\"])/df[\"KJ_per100grams\"]"
   ]
  },
  {
   "cell_type": "code",
   "execution_count": null,
   "metadata": {},
   "outputs": [],
   "source": []
  }
 ],
 "metadata": {
  "kernelspec": {
   "display_name": "venv",
   "language": "python",
   "name": "python3"
  },
  "language_info": {
   "codemirror_mode": {
    "name": "ipython",
    "version": 3
   },
   "file_extension": ".py",
   "mimetype": "text/x-python",
   "name": "python",
   "nbconvert_exporter": "python",
   "pygments_lexer": "ipython3",
   "version": "3.12.0"
  }
 },
 "nbformat": 4,
 "nbformat_minor": 2
}
