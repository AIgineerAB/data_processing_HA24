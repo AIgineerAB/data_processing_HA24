{
 "cells": [
  {
   "cell_type": "markdown",
   "metadata": {},
   "source": [
    "\n",
    "<div style=\"max-width:66ch;\">\n",
    "\n",
    "# Lecture notes - while-statement\n",
    "\n",
    "This is the lecture note for **while-statement**, but it's built upon contents from previous lectures such as: \n",
    "- input-output\n",
    "- variables\n",
    "- if-statement\n",
    "\n",
    "Informally you can view a while statement as an \"if-loop\" where code is repeated as long as the condition evaluates to True. Note that the code that is repeated is under the code scope, that is indented. \n",
    "\n",
    "```python\n",
    "while condition:\n",
    "    statements\n",
    "    ...\n",
    "```\n",
    "\n",
    "While loop is preferred when not knowing in beforehand the number of iterations\n",
    "\n",
    "Read more [w3schools while](https://www.w3schools.com/python/python_while_loops.asp)\n",
    "\n",
    "\n",
    "</div>"
   ]
  },
  {
   "cell_type": "code",
   "execution_count": 1,
   "metadata": {},
   "outputs": [
    {
     "name": "stdout",
     "output_type": "stream",
     "text": [
      "Hello 0\n",
      "Hello 1\n",
      "Hello 2\n",
      "Hello 3\n",
      "Hello 4\n"
     ]
    }
   ],
   "source": [
    "n = 0\n",
    "while n < 5: \n",
    "    print(f\"Hello {n}\")\n",
    "    n += 1 # adds one to n"
   ]
  },
  {
   "cell_type": "markdown",
   "metadata": {},
   "source": [
    "<div style=\"max-width:66ch;\">\n",
    "\n",
    "## Example - oil leakage\n",
    "There is an oil leakage causing the bird population in an island to 1/2 in each year. From start there were 80000 birds, how many years does it take for it to have 1/10 remaining?\n",
    "\n",
    "</div>"
   ]
  },
  {
   "cell_type": "code",
   "execution_count": 2,
   "metadata": {},
   "outputs": [
    {
     "name": "stdout",
     "output_type": "stream",
     "text": [
      "Year 0 there were 80000 birds\n",
      "Year 1 there were 40000 birds\n",
      "Year 2 there were 20000 birds\n",
      "Year 3 there were 10000 birds\n",
      "It takes 4 years for the birds to have 1/10 remaining\n"
     ]
    }
   ],
   "source": [
    "birds = 80000\n",
    "year = 0\n",
    "\n",
    "while birds > 8000:\n",
    "    print(f\"Year {year} there were {birds:.0f} birds\") \n",
    "    birds /= 2 # divide by half \n",
    "    year += 1\n",
    "\n",
    "print(f\"It takes {year} years for the birds to have 1/10 remaining\")"
   ]
  },
  {
   "cell_type": "markdown",
   "metadata": {},
   "source": [
    "<div style=\"max-width:66ch;\">\n",
    "\n",
    "## Assignment operators\n",
    "\n",
    "As we have seen already in previous examples, assignment operators can be useful in loops. Used for assigning values to variables. For example\n",
    "\n",
    "```python\n",
    "x = 0 # assigns 0 to variable x\n",
    "x += 1 # x = x + 1 i.e. adds one to x\n",
    "```\n",
    "\n",
    "<table style=\"display:inline-block; text-align:left;\">\n",
    "  <tr style=\"background-color: #174A7E; color: white;\">\n",
    "      <th>Operator</th>\n",
    "      <th>Example</th>\n",
    "      <th>Result</th>\n",
    "    </tr>\n",
    "\n",
    "  <tbody>\n",
    "    <tr>\n",
    "      <td>=</td>\n",
    "      <td>x = 4</td>\n",
    "      <td>x = 4</td>\n",
    "    </tr>\n",
    "    <tr>\n",
    "      <td>+=</td>\n",
    "      <td>x += 2</td>\n",
    "      <td>x = x + 2</td>\n",
    "    </tr>\n",
    "    <tr>\n",
    "      <td>-=</td>\n",
    "      <td>x -= 2</td>\n",
    "      <td>x = x - 2</td>\n",
    "    </tr>\n",
    "    <tr>\n",
    "      <td>/=</td>\n",
    "      <td>x /= 2</td>\n",
    "      <td>x = x / 2</td>\n",
    "    </tr>\n",
    "    <tr>\n",
    "      <td>*=</td>\n",
    "      <td>x *= 2</td>\n",
    "      <td>x = x * 2</td>\n",
    "    </tr>\n",
    "  </tbody>\n",
    "</table>\n",
    "\n",
    "For more assignment operators see [w3schools - assignment operators](https://www.w3schools.com/python/gloss_python_assignment_operators.asp)\n",
    "\n",
    "\n",
    "</div>\n"
   ]
  },
  {
   "cell_type": "code",
   "execution_count": 3,
   "metadata": {},
   "outputs": [
    {
     "name": "stdout",
     "output_type": "stream",
     "text": [
      "-9 -7 -5 -3 -1 1 3 5 7 9 "
     ]
    }
   ],
   "source": [
    "# print out all odd numbers between -10 and 10 \n",
    "n = -9 \n",
    "while n <= 10:\n",
    "    print(n, end=\" \") # by default print ends with \\n a newline, but here we end it with an empty space\n",
    "    n += 2 "
   ]
  },
  {
   "cell_type": "markdown",
   "metadata": {},
   "source": [
    "<div style=\"max-width:66ch;\">\n",
    "\n",
    "## break statement\n",
    "\n",
    "With the **break** statement, we can break a while loop when it is running. A common use case for this is when you have an infinite loop.  \n",
    "\n",
    "\n",
    "</div>"
   ]
  },
  {
   "cell_type": "code",
   "execution_count": 4,
   "metadata": {},
   "outputs": [
    {
     "name": "stdout",
     "output_type": "stream",
     "text": [
      "5 is unfortunately wrong\n",
      "Have a nice day!\n"
     ]
    }
   ],
   "source": [
    "import random as rnd # this module has functions for generating random numbers \n",
    "\n",
    "while True: \n",
    "    number1 = rnd.randint(1,10)\n",
    "    number2 = rnd.randint(1,10)\n",
    "\n",
    "    user_answer = int(input(f\"What is {number1}*{number2}? \"))\n",
    "    if user_answer == number1*number2:\n",
    "        print(\"Correct\")\n",
    "    else:\n",
    "        print(f\"{user_answer} is unfortunately wrong\")\n",
    "\n",
    "    play_again = input(\"Wanna play again (y for yes)? \")\n",
    "    \n",
    "    if play_again != \"y\":\n",
    "        print(\"Have a nice day!\")\n",
    "        break"
   ]
  },
  {
   "cell_type": "markdown",
   "metadata": {},
   "source": [
    "<div style=\"background-color: #FFF; color: #212121; border-radius: 1px; width:22ch; box-shadow: rgba(0, 0, 0, 0.16) 0px 1px 4px; display: flex; justify-content: center; align-items: center;\">\n",
    "<div style=\"padding: 1.5em 0; width: 70%;\">\n",
    "    <h2 style=\"font-size: 1.2rem;\">Kokchun Giang</h2>\n",
    "    <a href=\"https://www.linkedin.com/in/kokchungiang/\" target=\"_blank\" style=\"display: flex; align-items: center; gap: .4em; color:#0A66C2;\">\n",
    "        <img src=\"https://content.linkedin.com/content/dam/me/business/en-us/amp/brand-site/v2/bg/LI-Bug.svg.original.svg\" width=\"20\"> \n",
    "        LinkedIn profile\n",
    "    </a>\n",
    "    <a href=\"https://github.com/kokchun/Portfolio-Kokchun-Giang\" target=\"_blank\" style=\"display: flex; align-items: center; gap: .4em; margin: 1em 0; color:#0A66C2;\">\n",
    "        <img src=\"https://github.githubassets.com/images/modules/logos_page/GitHub-Mark.png\" width=\"20\"> \n",
    "        Github portfolio\n",
    "    </a>\n",
    "    <span>AIgineer AB</span>\n",
    "<div>\n",
    "</div>\n"
   ]
  }
 ],
 "metadata": {
  "kernelspec": {
   "display_name": "Python 3.9.6 64-bit",
   "language": "python",
   "name": "python3"
  },
  "language_info": {
   "codemirror_mode": {
    "name": "ipython",
    "version": 3
   },
   "file_extension": ".py",
   "mimetype": "text/x-python",
   "name": "python",
   "nbconvert_exporter": "python",
   "pygments_lexer": "ipython3",
   "version": "3.9.9"
  },
  "orig_nbformat": 4,
  "vscode": {
   "interpreter": {
    "hash": "0da836a34428266995a795f1e1e27b816fa1c02f148d9728b3fbbbc5459afca6"
   }
  }
 },
 "nbformat": 4,
 "nbformat_minor": 2
}
