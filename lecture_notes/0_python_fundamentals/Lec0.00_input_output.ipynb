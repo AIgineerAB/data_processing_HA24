{
 "cells": [
  {
   "cell_type": "markdown",
   "metadata": {},
   "source": [
    "# Lecture notes - input and output\n",
    "\n",
    "<div style=\"max-width:66ch;\">\n",
    "\n",
    "This is the lecture note for **input**, **output** and **variables**. You will learn: \n",
    "- comments\n",
    "- how to use print\n",
    "- how to create variables\n",
    "- how to prompt user for input \n",
    "- basic f-strings\n",
    "\n",
    "Since this is the first lecture you should know that Python can be written in: \n",
    "- Python interactive shell\n",
    "- a Python script file (.py)\n",
    "- a Jupyter Notebook file (.ipynb)\n",
    "\n",
    "In this course we will work extensively in jupyter notebooks, but will move towards python scripts further in the next course. Jupyter notebooks are great for interactive learning, explorations and testing out things, but when creating real applications for production you need to master python scripts. A common workflow is then to test out smaller chunks of codes and concepts in notebooks and then moving working code into python scripts. \n",
    "\n",
    "---\n",
    "\n",
    "</div>"
   ]
  },
  {
   "cell_type": "markdown",
   "metadata": {},
   "source": [
    "<div style=\"max-width:66ch;\">\n",
    "\n",
    "## Print statement\n",
    "\n",
    "- Read more here: [w3schools - print()](https://www.w3schools.com/python/ref_func_print.asp)\n",
    "\n",
    "</div>"
   ]
  },
  {
   "cell_type": "code",
   "execution_count": 1,
   "metadata": {},
   "outputs": [
    {
     "name": "stdout",
     "output_type": "stream",
     "text": [
      "Hello world!\n",
      "My name is Kokchun\n"
     ]
    }
   ],
   "source": [
    "# this is a comment starting with hashtag. Comments are ignored by Python interpretor\n",
    "print(\"Hello world!\") # prints Hello world!\n",
    "print('My name is Kokchun') # notice that you can write strings with '' as well as with \"\""
   ]
  },
  {
   "cell_type": "markdown",
   "metadata": {},
   "source": [
    "<div style=\"max-width:66ch;\">\n",
    "\n",
    "---\n",
    "## Variables \n",
    "With variables you store data in a container. You create variable and assigns a value to it. The data type is inferred by the interpretor. Important when creating variable name is to use describing names, so that it is easy to understand your code.\n",
    "\n",
    "<img src=\"https://github.com/kokchun/assets/blob/main/python/variables.png?raw=true\" width=100%>\n",
    "\n",
    "Read more here: \n",
    "- [w3schools - variables](https://www.w3schools.com/python/python_variables.asp)\n",
    "- [w3schools - data type](https://www.w3schools.com/python/python_datatypes.asp)\n",
    "- [real python - f-strings](https://realpython.com/python-f-strings/)\n",
    "\n",
    "</div>"
   ]
  },
  {
   "cell_type": "code",
   "execution_count": 3,
   "metadata": {},
   "outputs": [
    {
     "name": "stdout",
     "output_type": "stream",
     "text": [
      "My name is Kokchun Giang\n",
      "My age is 32\n",
      "More specifically, I am 32.9 years old\n"
     ]
    }
   ],
   "source": [
    "firstname = \"Kokchun\" # firstname is assigned with the value \"Kokchun\"\n",
    "lastname = \"Giang\" \n",
    "age = 32 \n",
    "\n",
    "# this is an f-string, which allows you to incorporate variable into the strings\n",
    "print(f\"My name is {firstname} {lastname}\")\n",
    "print(f\"My age is {age}\")\n",
    "\n",
    "# reassign another value to an existing variable\n",
    "age = 32.9\n",
    "print(f\"More specifically, I am {age} years old\")"
   ]
  },
  {
   "cell_type": "markdown",
   "metadata": {},
   "source": [
    "<div style=\"max-width:66ch;\">\n",
    "\n",
    "---\n",
    "## Input from user\n",
    "\n",
    "Read more here: \n",
    "- [w3schools - input](https://www.w3schools.com/python/ref_func_input.asp)\n",
    "\n",
    "</div>"
   ]
  },
  {
   "cell_type": "code",
   "execution_count": 4,
   "metadata": {},
   "outputs": [
    {
     "name": "stdout",
     "output_type": "stream",
     "text": [
      "Gore is 42 years old\n"
     ]
    }
   ],
   "source": [
    "name = input(\"What is your name? \") # Gore\n",
    "age = input(\"How old are you {name}? \") # 42\n",
    "print(f\"{name} is {age} years old\")"
   ]
  },
  {
   "cell_type": "markdown",
   "metadata": {},
   "source": [
    "<div style=\"max-width:66ch;\">\n",
    "\n",
    "---\n",
    "## Type conversions\n",
    "\n",
    "Sometimes you need to convert data types from one type to another. For example when prompting users for a number using ```input()```, you need to convert it to either an **int** or a **float** to be able to do calculations with it. Note that it has to be numeric in order for it to work, e.g. ```int(\"five\")``` will generate a ValueError.\n",
    "\n",
    "</div>"
   ]
  },
  {
   "cell_type": "markdown",
   "metadata": {},
   "source": [
    "### Force"
   ]
  },
  {
   "cell_type": "code",
   "execution_count": 5,
   "metadata": {},
   "outputs": [
    {
     "name": "stdout",
     "output_type": "stream",
     "text": [
      "Your force is 638.3000000000001N\n",
      "Your force is 638.3N\n"
     ]
    }
   ],
   "source": [
    "gravity = 9.82\n",
    "# converts the string from input() to float\n",
    "mass = float(input(\"Enter your weight in kg? \")) # try to skip the conversion and see what happens\n",
    "force = mass*gravity\n",
    "\n",
    "# entered 65, note the output has floating point precision error\n",
    "print(f\"Your force is {force}N\") \n",
    "\n",
    "# you can use f-string to format the output to 1 decimal\n",
    "print(f\"Your force is {force:.1f}N\")"
   ]
  },
  {
   "cell_type": "markdown",
   "metadata": {},
   "source": [
    "<div style=\"max-width:66ch;\">\n",
    "\n",
    "### Circle geometry\n",
    "\n",
    "$\n",
    "A_{circle} = \\pi r^2\n",
    "$\n",
    "<br>\n",
    "$\n",
    "O_{circle} = 2\\pi r\n",
    "$\n",
    "\n",
    "\n",
    "</div>"
   ]
  },
  {
   "cell_type": "code",
   "execution_count": 6,
   "metadata": {},
   "outputs": [
    {
     "name": "stdout",
     "output_type": "stream",
     "text": [
      "Circle with radius 100.0 has \n",
      " area: 31415.93 a.u. \n",
      " circumference: 628.32 l.u.\n"
     ]
    }
   ],
   "source": [
    "import math  # math module has many constants and functions for mathematics\n",
    "\n",
    "radius = float(input(\"Enter a radius: \"))\n",
    "area = math.pi * radius**2  # ** is the power operator\n",
    "circumference = 2 * math.pi * radius\n",
    "\n",
    "# \\n gives newlines in prints\n",
    "print(\n",
    "    f\"Circle with radius {radius} has \\n area: {area:.2f} a.u. \\n circumference: {circumference:.2f} l.u.\"\n",
    ")"
   ]
  },
  {
   "cell_type": "markdown",
   "metadata": {},
   "source": [
    "<div style=\"background-color: #FFF; color: #212121; border-radius: 1px; width:22ch; box-shadow: rgba(0, 0, 0, 0.16) 0px 1px 4px; display: flex; justify-content: center; align-items: center;\">\n",
    "<div style=\"padding: 1.5em 0; width: 70%;\">\n",
    "    <h2 style=\"font-size: 1.2rem;\">Kokchun Giang</h2>\n",
    "    <a href=\"https://www.linkedin.com/in/kokchungiang/\" target=\"_blank\" style=\"display: flex; align-items: center; gap: .4em; color:#0A66C2;\">\n",
    "        <img src=\"https://content.linkedin.com/content/dam/me/business/en-us/amp/brand-site/v2/bg/LI-Bug.svg.original.svg\" width=\"20\"> \n",
    "        LinkedIn profile\n",
    "    </a>\n",
    "    <a href=\"https://github.com/kokchun/Portfolio-Kokchun-Giang\" target=\"_blank\" style=\"display: flex; align-items: center; gap: .4em; margin: 1em 0; color:#0A66C2;\">\n",
    "        <img src=\"https://github.githubassets.com/images/modules/logos_page/GitHub-Mark.png\" width=\"20\"> \n",
    "        Github portfolio\n",
    "    </a>\n",
    "    <span>AIgineer AB</span>\n",
    "<div>\n",
    "</div>\n"
   ]
  }
 ],
 "metadata": {
  "kernelspec": {
   "display_name": "Python 3.9.6 64-bit",
   "language": "python",
   "name": "python3"
  },
  "language_info": {
   "codemirror_mode": {
    "name": "ipython",
    "version": 3
   },
   "file_extension": ".py",
   "mimetype": "text/x-python",
   "name": "python",
   "nbconvert_exporter": "python",
   "pygments_lexer": "ipython3",
   "version": "3.9.9"
  },
  "orig_nbformat": 4,
  "vscode": {
   "interpreter": {
    "hash": "0da836a34428266995a795f1e1e27b816fa1c02f148d9728b3fbbbc5459afca6"
   }
  }
 },
 "nbformat": 4,
 "nbformat_minor": 2
}
