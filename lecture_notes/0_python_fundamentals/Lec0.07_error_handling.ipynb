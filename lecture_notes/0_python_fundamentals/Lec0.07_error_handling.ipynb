{
 "cells": [
  {
   "cell_type": "markdown",
   "metadata": {},
   "source": [
    "\n",
    "<div style=\"max-width:66ch;\">\n",
    "\n",
    "# Lecture notes - error handling\n",
    "\n",
    "This is the lecture note for **error handling**, but it's built upon contents from previous lectures such as: \n",
    "- input-output\n",
    "- variables\n",
    "- if-statement\n",
    "- for loop\n",
    "- while \n",
    "- lists\n",
    "- random\n",
    "- strings\n",
    "- functions\n",
    "\n",
    "<p class = \"alert alert-info\" role=\"alert\"><b>Note</b> that this lecture note gives a brief introduction to error handling. I encourage you to read further about error handling.\n",
    "\n",
    "Read more [programiz - exception handling](https://www.programiz.com/python-programming/exception-handling)\n",
    "\n",
    "Read more [w3schools - try except](https://www.w3schools.com/python/python_try_except.asp)\n",
    "\n",
    "</div>"
   ]
  },
  {
   "cell_type": "markdown",
   "metadata": {},
   "source": [
    "<div style=\"max-width:66ch;\">\n",
    "\n",
    "## Error types\n",
    "\n",
    "- syntax error - basic errors Python parser don't understand the code\n",
    "- logic errors - hard to find - give unpredictable results\n",
    "- exception error - Python parser knows what to do but can't perform it\n",
    "\n",
    "[wikibooks - Python errors](https://en.wikibooks.org/wiki/Python_Programming/Errors)\n",
    "\n",
    "\n",
    "\n",
    "</div>"
   ]
  },
  {
   "cell_type": "code",
   "execution_count": 1,
   "metadata": {},
   "outputs": [
    {
     "ename": "NameError",
     "evalue": "name 'squarer' is not defined",
     "output_type": "error",
     "traceback": [
      "\u001b[0;31m---------------------------------------------------------------------------\u001b[0m",
      "\u001b[0;31mNameError\u001b[0m                                 Traceback (most recent call last)",
      "\u001b[1;32m/Users/kokchungiang/Documents/AIgineer/AI-part-1-handelsakademin/lecture-notes/0. python-fundamentals/Lec0.07.ipynb Cell 3\u001b[0m line \u001b[0;36m1\n\u001b[0;32m----> <a href='vscode-notebook-cell:/Users/kokchungiang/Documents/AIgineer/AI-part-1-handelsakademin/lecture-notes/0.%20python-fundamentals/Lec0.07.ipynb#W2sZmlsZQ%3D%3D?line=0'>1</a>\u001b[0m \u001b[39mprint\u001b[39m(squarer(\u001b[39m3\u001b[39m))\n",
      "\u001b[0;31mNameError\u001b[0m: name 'squarer' is not defined"
     ]
    }
   ],
   "source": [
    "print(squarer(3))\n"
   ]
  },
  {
   "cell_type": "code",
   "execution_count": 2,
   "metadata": {},
   "outputs": [
    {
     "ename": "IndexError",
     "evalue": "list index out of range",
     "output_type": "error",
     "traceback": [
      "\u001b[0;31m---------------------------------------------------------------------------\u001b[0m",
      "\u001b[0;31mIndexError\u001b[0m                                Traceback (most recent call last)",
      "\u001b[1;32m/Users/kokchungiang/Documents/AIgineer/AI-part-1-handelsakademin/lecture-notes/0. python-fundamentals/Lec0.07.ipynb Cell 4\u001b[0m line \u001b[0;36m3\n\u001b[1;32m      <a href='vscode-notebook-cell:/Users/kokchungiang/Documents/AIgineer/AI-part-1-handelsakademin/lecture-notes/0.%20python-fundamentals/Lec0.07.ipynb#X25sZmlsZQ%3D%3D?line=0'>1</a>\u001b[0m \u001b[39m# exception errors\u001b[39;00m\n\u001b[1;32m      <a href='vscode-notebook-cell:/Users/kokchungiang/Documents/AIgineer/AI-part-1-handelsakademin/lecture-notes/0.%20python-fundamentals/Lec0.07.ipynb#X25sZmlsZQ%3D%3D?line=1'>2</a>\u001b[0m numbers \u001b[39m=\u001b[39m \u001b[39mlist\u001b[39m(\u001b[39mrange\u001b[39m(\u001b[39m5\u001b[39m))\n\u001b[0;32m----> <a href='vscode-notebook-cell:/Users/kokchungiang/Documents/AIgineer/AI-part-1-handelsakademin/lecture-notes/0.%20python-fundamentals/Lec0.07.ipynb#X25sZmlsZQ%3D%3D?line=2'>3</a>\u001b[0m numbers[\u001b[39m10\u001b[39;49m] \n\u001b[1;32m      <a href='vscode-notebook-cell:/Users/kokchungiang/Documents/AIgineer/AI-part-1-handelsakademin/lecture-notes/0.%20python-fundamentals/Lec0.07.ipynb#X25sZmlsZQ%3D%3D?line=3'>4</a>\u001b[0m \u001b[39m# Python parser knows what to do i.e. access element at index 10, \u001b[39;00m\n\u001b[1;32m      <a href='vscode-notebook-cell:/Users/kokchungiang/Documents/AIgineer/AI-part-1-handelsakademin/lecture-notes/0.%20python-fundamentals/Lec0.07.ipynb#X25sZmlsZQ%3D%3D?line=4'>5</a>\u001b[0m \u001b[39m# but can't access that element as it doesn't exist\u001b[39;00m\n",
      "\u001b[0;31mIndexError\u001b[0m: list index out of range"
     ]
    }
   ],
   "source": [
    "# exception errors\n",
    "numbers = list(range(5))\n",
    "numbers[10] \n",
    "# Python parser knows what to do i.e. access element at index 10, \n",
    "# but can't access that element as it doesn't exist"
   ]
  },
  {
   "cell_type": "code",
   "execution_count": 3,
   "metadata": {},
   "outputs": [
    {
     "data": {
      "text/plain": [
       "6.283185307179586"
      ]
     },
     "execution_count": 3,
     "metadata": {},
     "output_type": "execute_result"
    }
   ],
   "source": [
    "# logical errors\n",
    "import numpy as np \n",
    "# this function calculates the circumference, not area\n",
    "area_circle = lambda radius: 2*np.pi*radius \n",
    "area_circle(1)"
   ]
  },
  {
   "cell_type": "markdown",
   "metadata": {},
   "source": [
    "<div style=\"max-width:66ch;\">\n",
    "\n",
    "## Try - except\n",
    "\n",
    "- try block for testing \"dangerous code\" i.e. code that can generate error\n",
    "\n",
    "- except block - handles the error instead of crashing the program\n",
    "\n",
    "- raise - to raise exception of chosen type and chosen text\n",
    "\n",
    "</div>\n"
   ]
  },
  {
   "cell_type": "code",
   "execution_count": 4,
   "metadata": {},
   "outputs": [
    {
     "name": "stdout",
     "output_type": "stream",
     "text": [
      "Åldern måste vara mellan 0 and 125\n"
     ]
    }
   ],
   "source": [
    "age = input(\"Ange din ålder\") # -5\n",
    "\n",
    "try: \n",
    "    age = float(age)\n",
    "    if not 0<=age<=125: \n",
    "        raise ValueError(\"Åldern måste vara mellan 0 and 125\") \n",
    "    print(f\"Du är {age} år gammal\")\n",
    "except ValueError as err:\n",
    "    print(err)"
   ]
  },
  {
   "cell_type": "code",
   "execution_count": 5,
   "metadata": {},
   "outputs": [
    {
     "name": "stdout",
     "output_type": "stream",
     "text": [
      "Åldern måste vara mellan 0 and 125\n",
      "Åldern måste vara mellan 0 and 125\n",
      "Du är 53.0 år gammal\n"
     ]
    }
   ],
   "source": [
    "# want user to try again \n",
    "while True: \n",
    "    try:\n",
    "        age = float(input(\"Ange din ålder\"))\n",
    "        if not 0<=age<=125:\n",
    "            raise ValueError(\"Åldern måste vara mellan 0 and 125\")\n",
    "        print(f\"Du är {age} år gammal\")\n",
    "        break # breaks out of while loop if nothing went wrong\n",
    "    except ValueError as err:\n",
    "        print(err)    "
   ]
  },
  {
   "cell_type": "markdown",
   "metadata": {},
   "source": [
    "<div style=\"background-color: #FFF; color: #212121; border-radius: 1px; width:22ch; box-shadow: rgba(0, 0, 0, 0.16) 0px 1px 4px; display: flex; justify-content: center; align-items: center;\">\n",
    "<div style=\"padding: 1.5em 0; width: 70%;\">\n",
    "    <h2 style=\"font-size: 1.2rem;\">Kokchun Giang</h2>\n",
    "    <a href=\"https://www.linkedin.com/in/kokchungiang/\" target=\"_blank\" style=\"display: flex; align-items: center; gap: .4em; color:#0A66C2;\">\n",
    "        <img src=\"https://content.linkedin.com/content/dam/me/business/en-us/amp/brand-site/v2/bg/LI-Bug.svg.original.svg\" width=\"20\"> \n",
    "        LinkedIn profile\n",
    "    </a>\n",
    "    <a href=\"https://github.com/kokchun/Portfolio-Kokchun-Giang\" target=\"_blank\" style=\"display: flex; align-items: center; gap: .4em; margin: 1em 0; color:#0A66C2;\">\n",
    "        <img src=\"https://github.githubassets.com/images/modules/logos_page/GitHub-Mark.png\" width=\"20\"> \n",
    "        Github portfolio\n",
    "    </a>\n",
    "    <span>AIgineer AB</span>\n",
    "<div>\n",
    "</div>\n"
   ]
  }
 ],
 "metadata": {
  "kernelspec": {
   "display_name": "Python 3.9.6 64-bit",
   "language": "python",
   "name": "python3"
  },
  "language_info": {
   "codemirror_mode": {
    "name": "ipython",
    "version": 3
   },
   "file_extension": ".py",
   "mimetype": "text/x-python",
   "name": "python",
   "nbconvert_exporter": "python",
   "pygments_lexer": "ipython3",
   "version": "3.9.9"
  },
  "orig_nbformat": 4,
  "vscode": {
   "interpreter": {
    "hash": "0da836a34428266995a795f1e1e27b816fa1c02f148d9728b3fbbbc5459afca6"
   }
  }
 },
 "nbformat": 4,
 "nbformat_minor": 2
}
