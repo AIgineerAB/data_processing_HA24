{
 "cells": [
  {
   "cell_type": "markdown",
   "metadata": {},
   "source": [
    "\n",
    "<div style=\"max-width:66ch;\">\n",
    "\n",
    "# Lecture notes - OOP theoretical\n",
    "\n",
    "This is the lecture note for **OOP inheritance** - but it's built upon contents from previous lectures such as: \n",
    "- input-output\n",
    "- variables\n",
    "- if-statement\n",
    "- for loop\n",
    "- while \n",
    "- lists\n",
    "- random\n",
    "- strings\n",
    "- functions\n",
    "- error handling\n",
    "- file handling\n",
    "- dictionary\n",
    "- OOP\n",
    "\n",
    "<p class = \"alert alert-info\" role=\"alert\"><b>Note</b> that this lecture note gives some theoretical depth to Python OOP, but it's not covering everything. Please read more for in depth understanding.\n",
    "\n",
    "\n",
    "Read more \n",
    "\n",
    "- [Classes - Python docs](https://docs.python.org/3/tutorial/classes.html)\n",
    "  \n",
    "</div>"
   ]
  },
  {
   "cell_type": "markdown",
   "metadata": {},
   "source": [
    "\n",
    "<div style=\"max-width:66ch;\">\n",
    "\n",
    "## Class instantiation process\n",
    "\n",
    "A class is itself an object of type type. Each class in Python is a callable which means we can call it using ()\n",
    "When we call the class constructor to create a new instance object of a class the following happens\n",
    "\n",
    "1. Creating a new instance of the class (`__new__()` is run)\n",
    "2. The instance is initialized (i.e. `__init__()` is run) giving the instance object its initial state\n",
    "\n",
    "- [Class instantiation - Real Python](https://realpython.com/python-class-constructor/)\n",
    "\n",
    "</div>"
   ]
  },
  {
   "cell_type": "code",
   "execution_count": 1,
   "metadata": {},
   "outputs": [
    {
     "name": "stdout",
     "output_type": "stream",
     "text": [
      "<class '__main__.Student'>\n",
      "True\n",
      "True\n",
      "0x10a8025b0\n",
      "0x10a8026d0\n"
     ]
    },
    {
     "data": {
      "text/plain": [
       "<__main__.Student at 0x10a8025b0>"
      ]
     },
     "execution_count": 1,
     "metadata": {},
     "output_type": "execute_result"
    }
   ],
   "source": [
    "# a class Student is an object itself of type type\n",
    "class Student:\n",
    "    pass\n",
    "\n",
    "# we call the class Student's constructor using the callable syntax\n",
    "s1 = Student()\n",
    "print(type(s1))\n",
    "\n",
    "# instantiate another instance object s2\n",
    "s2 = Student()\n",
    "\n",
    "# s1 and s2 is an instance of Student\n",
    "print(isinstance(s1, Student))\n",
    "print(isinstance(s2, Student))\n",
    "\n",
    "# memory address of s1 and s2, note that they are different objects, and hence have different memory addresses\n",
    "print(hex(id(s1)))\n",
    "print(hex(id(s2)))\n",
    "\n",
    "# Student object at memory address of s1\n",
    "s1"
   ]
  },
  {
   "cell_type": "markdown",
   "metadata": {},
   "source": [
    "\n",
    "<div style=\"max-width:66ch;\">\n",
    "\n",
    "## Attributes \n",
    "\n",
    "Attributes of a class are state that holds data and methods for functionality or behavior. Attributes can belong to the class itself, or be instance attributes. The state is basically the values of the variables.\n",
    "\n",
    "- attributes can be created in the class \n",
    "- attributes can be created inside methods\n",
    "- attributes can be created on the fly using the dot notation .\n",
    "\n",
    "</div>"
   ]
  },
  {
   "cell_type": "code",
   "execution_count": 2,
   "metadata": {},
   "outputs": [
    {
     "name": "stdout",
     "output_type": "stream",
     "text": [
      "Ada\n",
      "{'name': 'Ada'}\n",
      "{'__module__': '__main__', '__dict__': <attribute '__dict__' of 'Student' objects>, '__weakref__': <attribute '__weakref__' of 'Student' objects>, '__doc__': None}\n",
      "{}\n",
      "'Student' object has no attribute 'name'\n"
     ]
    }
   ],
   "source": [
    "s1.name = \"Ada\"\n",
    "print(s1.name)\n",
    "\n",
    "# s1 has the name attribute\n",
    "print(s1.__dict__)\n",
    "# note that Student doesn't have name attribute\n",
    "print(Student.__dict__)\n",
    "\n",
    "# s2 doesn't have name attribute\n",
    "print(s2.__dict__)\n",
    "\n",
    "# this gives an exception\n",
    "try:\n",
    "    print(s2.name)\n",
    "except AttributeError as err:\n",
    "    print(err)\n"
   ]
  },
  {
   "cell_type": "markdown",
   "metadata": {},
   "source": [
    "\n",
    "<div style=\"max-width:66ch;\">\n",
    "\n",
    "### Methods \n",
    "\n",
    "The behavior of a class constitutes of their methods, which are also attributes of the class. \n",
    "\n",
    "</div>"
   ]
  },
  {
   "cell_type": "code",
   "execution_count": 3,
   "metadata": {},
   "outputs": [
    {
     "name": "stdout",
     "output_type": "stream",
     "text": [
      "<function Student.study at 0x106792dc0>\n",
      "study() missing 1 required positional argument: 'self'\n",
      "<bound method Student.study of <__main__.Student object at 0x106239a30>>\n",
      "Ada is studying\n"
     ]
    }
   ],
   "source": [
    "class Student: \n",
    "    def __init__(self, name) -> None:\n",
    "        self.name = name\n",
    "\n",
    "    def study(self):\n",
    "        return(f\"{self.name} is studying\")\n",
    "\n",
    "# this is an attribute of the class which is a plain function as its not bound to an object\n",
    "print(Student.study)\n",
    "\n",
    "# we see that we miss the positional argument self\n",
    "try: \n",
    "    print(Student.study())\n",
    "except TypeError as err:\n",
    "    print(err)\n",
    "\n",
    "# this however is bound to the instance object of type Student, it is a method\n",
    "# as a method the first parameter is the object itself that is injected, which in turn has the attribute name\n",
    "print(Student(\"Ada\").study)\n",
    "print(Student(\"Ada\").study())\n"
   ]
  },
  {
   "cell_type": "code",
   "execution_count": 4,
   "metadata": {},
   "outputs": [
    {
     "name": "stdout",
     "output_type": "stream",
     "text": [
      "Ada is studying\n"
     ]
    }
   ],
   "source": [
    "# this is same as passing in the instance object explicitly to the class function\n",
    "student = Student(\"Ada\")\n",
    "print(Student.study(student))"
   ]
  },
  {
   "cell_type": "markdown",
   "metadata": {},
   "source": [
    "\n",
    "<div style=\"max-width:66ch;\">\n",
    "\n",
    "## Namespaces\n",
    "\n",
    "Class attributes lives in the class namespace\n",
    "\n",
    "Namespace - a dictionary of symbolic names (keys): references to objects (values)\n",
    "\n",
    "Python will first search the local scope which is the innermost score of a function (or method) and then it will go on to the enclosing scope which the function or method reside. In a class this scope is the class namespace and then the interpreter goes to look in the global scope and finally the built-in scope.\n",
    "\n",
    "- [Python namespace scopes - Real Python](https://realpython.com/python-namespaces-scope/)\n",
    "- [Special methods](https://www.pythonlikeyoumeanit.com/Module4_OOP/Special_Methods.html)\n",
    "\n",
    "</div>"
   ]
  },
  {
   "cell_type": "code",
   "execution_count": 5,
   "metadata": {},
   "outputs": [
    {
     "name": "stdout",
     "output_type": "stream",
     "text": [
      "<class '__main__.Rabbit'>\n"
     ]
    },
    {
     "data": {
      "text/plain": [
       "({'name': 'Bella'}, {'name': 'Skutt'})"
      ]
     },
     "execution_count": 5,
     "metadata": {},
     "output_type": "execute_result"
    }
   ],
   "source": [
    "class Rabbit:\n",
    "    # class attributes\n",
    "    # they exist in the class namespace, not in the instance namespace\n",
    "    eyes = 2\n",
    "    nose = 1\n",
    "    has_tail = True\n",
    "\n",
    "    # ------------ behaviors (methods) -----------\n",
    "    # technically they are functions of the class, they become methods first when an instance object is instantiated from the class \n",
    "    # then they are methods, which are functions bound to the instance - this in turn means that the instance object itself is passed to \n",
    "    # the method as its first parameter. Then the method can access the attributes that exist in the instance itself.\n",
    "\n",
    "    # dunder init - special method or dunder methods, which will affect the object when an instance is created the init will run to initialize that \n",
    "    # instance\n",
    "    def __init__(self, name) -> None:\n",
    "        self.name = name\n",
    "\n",
    "    def binky(self) -> None:\n",
    "        print(f\"{self.name} är glad, hoppar runt och gör binkies\")\n",
    "\n",
    "# an instance object of symbol rabbit1 is instantiated from the class Rabbit\n",
    "# it \n",
    "rabbit1 = Rabbit(\"Bella\")\n",
    "rabbit2 = Rabbit(\"Skutt\")\n",
    "\n",
    "# an instance of Rabbit has type Rabbit\n",
    "print(type(rabbit1))\n",
    "\n",
    "# we see that in rabbits instances only has name in its namespace (the local namespace)\n",
    "rabbit1.__dict__, rabbit2.__dict__\n"
   ]
  },
  {
   "cell_type": "markdown",
   "metadata": {},
   "source": [
    "\n",
    "<div style=\"max-width:66ch;\">\n",
    "\n",
    "### Class scope (enclosing namespace)\n",
    "\n",
    "\n",
    "\n",
    "</div>"
   ]
  },
  {
   "cell_type": "code",
   "execution_count": 6,
   "metadata": {},
   "outputs": [
    {
     "name": "stdout",
     "output_type": "stream",
     "text": [
      "type object 'Rabbit' has no attribute 'name'\n"
     ]
    },
    {
     "data": {
      "text/plain": [
       "'Bella'"
      ]
     },
     "execution_count": 6,
     "metadata": {},
     "output_type": "execute_result"
    }
   ],
   "source": [
    "try:\n",
    "    # the Rabbit object doesn't have an attribute name, as only the instances of the Rabbit class has it \n",
    "    # this is due to __init__ hasn't ran yet, which only runs when an instance object is created  \n",
    "    print(Rabbit.name)\n",
    "except AttributeError as err:\n",
    "    print(err)\n",
    "\n",
    "# this works because an instance of Rabbit is created and the name attribute is initialized after __init__ has run \n",
    "Rabbit(\"Bella\").name"
   ]
  },
  {
   "cell_type": "code",
   "execution_count": 7,
   "metadata": {},
   "outputs": [
    {
     "data": {
      "text/plain": [
       "{'name': 'Bella'}"
      ]
     },
     "execution_count": 7,
     "metadata": {},
     "output_type": "execute_result"
    }
   ],
   "source": [
    "rabbit1 = Rabbit(\"Bella\")\n",
    "rabbit1.__dict__"
   ]
  },
  {
   "cell_type": "code",
   "execution_count": 8,
   "metadata": {},
   "outputs": [
    {
     "data": {
      "text/plain": [
       "{'name': 'Bella'}"
      ]
     },
     "execution_count": 8,
     "metadata": {},
     "output_type": "execute_result"
    }
   ],
   "source": [
    "# the name attribute exists in the instance namespace and not in the class namespace\n",
    "Rabbit(\"Bella\").__dict__"
   ]
  },
  {
   "cell_type": "code",
   "execution_count": 9,
   "metadata": {},
   "outputs": [
    {
     "data": {
      "text/plain": [
       "(2, True)"
      ]
     },
     "execution_count": 9,
     "metadata": {},
     "output_type": "execute_result"
    }
   ],
   "source": [
    "# note that this works as Python interpreter looks for eyes amd \n",
    "# has_tail attributes in the instance but can't find it\n",
    "# then it will look at its enclosing scope which is the Rabbit \n",
    "# class and finds those attributes and retrieves it\n",
    "\n",
    "rabbit1.eyes, rabbit1.has_tail"
   ]
  },
  {
   "cell_type": "code",
   "execution_count": 10,
   "metadata": {},
   "outputs": [
    {
     "data": {
      "text/plain": [
       "{'name': 'Bella', 'has_tail': False}"
      ]
     },
     "execution_count": 10,
     "metadata": {},
     "output_type": "execute_result"
    }
   ],
   "source": [
    "# if we change an instance attribute it doesn't change its class attribute\n",
    "# for example remove the tail from rabbit1\n",
    "rabbit1.has_tail = False\n",
    "rabbit1.__dict__"
   ]
  },
  {
   "cell_type": "code",
   "execution_count": 11,
   "metadata": {},
   "outputs": [
    {
     "data": {
      "text/plain": [
       "{'name': 'Skutt'}"
      ]
     },
     "execution_count": 11,
     "metadata": {},
     "output_type": "execute_result"
    }
   ],
   "source": [
    "rabbit2.__dict__ # doesn't have has_tail"
   ]
  },
  {
   "cell_type": "code",
   "execution_count": 12,
   "metadata": {},
   "outputs": [
    {
     "data": {
      "text/plain": [
       "mappingproxy({'__module__': '__main__',\n",
       "              'eyes': 2,\n",
       "              'nose': 1,\n",
       "              'has_tail': True,\n",
       "              '__init__': <function __main__.Rabbit.__init__(self, name) -> None>,\n",
       "              'binky': <function __main__.Rabbit.binky(self) -> None>,\n",
       "              '__dict__': <attribute '__dict__' of 'Rabbit' objects>,\n",
       "              '__weakref__': <attribute '__weakref__' of 'Rabbit' objects>,\n",
       "              '__doc__': None})"
      ]
     },
     "execution_count": 12,
     "metadata": {},
     "output_type": "execute_result"
    }
   ],
   "source": [
    "# has_tail is still True here since only an instance attribute has been changed\n",
    "Rabbit.__dict__"
   ]
  },
  {
   "cell_type": "markdown",
   "metadata": {},
   "source": [
    "\n",
    "<div style=\"max-width:66ch;\">\n",
    "\n",
    "\n",
    "</div>"
   ]
  },
  {
   "cell_type": "markdown",
   "metadata": {},
   "source": [
    "\n",
    "<div style=\"max-width:66ch;\">\n",
    "\n",
    "## Property\n",
    "\n",
    "Attributes that are directly accessed from outside of the class is called bare attributes. Directly accessing some bare attributes are discouraged in times as you want to have more control of the attribute, e.g. to compute a value and/or to have error handling.\n",
    "\n",
    "This can be done through properties where the bare attribute is private (pseudoprivate, private by convention in Python), and the attribute value itself is provided through the property interface. Many other languages uses getters and setters to provide this functionality, but in Python we have a property function which adds functionality to an existing attribute.\n",
    "\n",
    "\n",
    "\n",
    "</div>"
   ]
  },
  {
   "cell_type": "markdown",
   "metadata": {},
   "source": [
    "### Getters and setters\n",
    "\n",
    "To provide interface to an attribute "
   ]
  },
  {
   "cell_type": "code",
   "execution_count": 13,
   "metadata": {},
   "outputs": [
    {
     "name": "stdout",
     "output_type": "stream",
     "text": [
      "<bound method Square.get_side of <__main__.Square object at 0x10678af10>>\n",
      "10\n",
      "20\n"
     ]
    }
   ],
   "source": [
    "# in other languages\n",
    "\n",
    "class Square:\n",
    "    def __init__(self, side) -> None:\n",
    "        # make the attribute private by convention\n",
    "        self._side = side\n",
    "\n",
    "    def get_side(self):\n",
    "        return self._side\n",
    "    \n",
    "    # the setter has important error handling\n",
    "    def set_side(self, value):\n",
    "        if not isinstance(value, (int, float)) or value < 0:\n",
    "            raise ValueError(f\"Value must be non-negative number (int or float), not {type(value).__name__}\")\n",
    "        self._side = value\n",
    "    \n",
    "\n",
    "square = Square(10)\n",
    "\n",
    "# get_side is a bound method\n",
    "print(square.get_side)\n",
    "# need to call it using callable syntax\n",
    "print(square.get_side())\n",
    "\n",
    "# this syntax using get and set, is common in other languages but not Pythonic as it isn't as legible\n",
    "# as just calling the bare attribute, e.g. square.side, square.side = 20\n",
    "square.set_side(20)\n",
    "print(square.get_side())"
   ]
  },
  {
   "cell_type": "markdown",
   "metadata": {},
   "source": [
    "\n",
    "<div style=\"max-width:66ch;\">\n",
    "\n",
    "### Property\n",
    "\n",
    "We continue with getters and setters but, we add functionality to those methods using property function.\n",
    "\n",
    "This gives a clean syntax for accessing the attribute\n",
    "\n",
    "</div>"
   ]
  },
  {
   "cell_type": "code",
   "execution_count": 14,
   "metadata": {},
   "outputs": [
    {
     "name": "stdout",
     "output_type": "stream",
     "text": [
      "10\n",
      "20\n",
      "Value must be non-negative number (int or float), not int\n"
     ]
    }
   ],
   "source": [
    "class Square:\n",
    "    def __init__(self, side) -> None:\n",
    "        self._side = side\n",
    "\n",
    "    def get_side(self):\n",
    "        return self._side\n",
    "\n",
    "    def set_side(self, value):\n",
    "        if not isinstance(value, (int, float)) or value < 0:\n",
    "            raise ValueError(\n",
    "                f\"Value must be non-negative number (int or float), not {type(value).__name__}\"\n",
    "            )\n",
    "        self._side = value\n",
    "\n",
    "    side = property(fget=get_side, fset=set_side)\n",
    "\n",
    "square = Square(10)\n",
    "\n",
    "# now we can access it as we would access a bare attribute\n",
    "print(square.side)\n",
    "\n",
    "# also we can mutate it as we would a bare attribute, but we get the error checking\n",
    "square.side = 20\n",
    "print(square.side)\n",
    "\n",
    "# error checking\n",
    "try:\n",
    "    square.side = -2\n",
    "except ValueError as err:\n",
    "    print(err)"
   ]
  },
  {
   "cell_type": "markdown",
   "metadata": {},
   "source": [
    "### Property with decorator syntax"
   ]
  },
  {
   "cell_type": "code",
   "execution_count": 15,
   "metadata": {},
   "outputs": [
    {
     "name": "stdout",
     "output_type": "stream",
     "text": [
      "10\n",
      "20\n",
      "Value must be non-negative number (int or float), not int\n"
     ]
    },
    {
     "data": {
      "text/plain": [
       "400"
      ]
     },
     "execution_count": 15,
     "metadata": {},
     "output_type": "execute_result"
    }
   ],
   "source": [
    "class Square:\n",
    "    def __init__(self, side) -> None:\n",
    "        self._side = side\n",
    "\n",
    "    @property\n",
    "    def side(self):\n",
    "        return self._side\n",
    "\n",
    "    @side.setter\n",
    "    def side(self, value):\n",
    "        if not isinstance(value, (int, float)) or value < 0:\n",
    "            raise ValueError(\n",
    "                f\"Value must be non-negative number (int or float), not {type(value).__name__}\"\n",
    "            )\n",
    "        self._side = value\n",
    "\n",
    "    # this is a computed property\n",
    "    @property\n",
    "    def area(self):\n",
    "        return self.side**2\n",
    "\n",
    "square = Square(10)\n",
    "\n",
    "# now we can access it as we would access a bare attribute\n",
    "print(square.side)\n",
    "\n",
    "# also we can mutate it as we would a bare attribute, but we get the error checking\n",
    "square.side = 20\n",
    "print(square.side)\n",
    "\n",
    "# error checking\n",
    "try:\n",
    "    square.side = -2\n",
    "except ValueError as err:\n",
    "    print(err)\n",
    "\n",
    "square.area"
   ]
  },
  {
   "cell_type": "markdown",
   "metadata": {},
   "source": [
    "<div style=\"background-color: #FFF; color: #212121; border-radius: 1px; width:22ch; box-shadow: rgba(0, 0, 0, 0.16) 0px 1px 4px; display: flex; justify-content: center; align-items: center;\">\n",
    "<div style=\"padding: 1.5em 0; width: 70%;\">\n",
    "    <h2 style=\"font-size: 1.2rem;\">Kokchun Giang</h2>\n",
    "    <a href=\"https://www.linkedin.com/in/kokchungiang/\" target=\"_blank\" style=\"display: flex; align-items: center; gap: .4em; color:#0A66C2;\">\n",
    "        <img src=\"https://content.linkedin.com/content/dam/me/business/en-us/amp/brand-site/v2/bg/LI-Bug.svg.original.svg\" width=\"20\"> \n",
    "        LinkedIn profile\n",
    "    </a>\n",
    "    <a href=\"https://github.com/kokchun/Portfolio-Kokchun-Giang\" target=\"_blank\" style=\"display: flex; align-items: center; gap: .4em; margin: 1em 0; color:#0A66C2;\">\n",
    "        <img src=\"https://github.githubassets.com/images/modules/logos_page/GitHub-Mark.png\" width=\"20\"> \n",
    "        Github portfolio\n",
    "    </a>\n",
    "    <span>AIgineer AB</span>\n",
    "<div>\n",
    "</div>\n"
   ]
  }
 ],
 "metadata": {
  "kernelspec": {
   "display_name": "Python 3.9.6 64-bit",
   "language": "python",
   "name": "python3"
  },
  "language_info": {
   "codemirror_mode": {
    "name": "ipython",
    "version": 3
   },
   "file_extension": ".py",
   "mimetype": "text/x-python",
   "name": "python",
   "nbconvert_exporter": "python",
   "pygments_lexer": "ipython3",
   "version": "3.9.9"
  },
  "orig_nbformat": 4,
  "vscode": {
   "interpreter": {
    "hash": "0da836a34428266995a795f1e1e27b816fa1c02f148d9728b3fbbbc5459afca6"
   }
  }
 },
 "nbformat": 4,
 "nbformat_minor": 2
}
