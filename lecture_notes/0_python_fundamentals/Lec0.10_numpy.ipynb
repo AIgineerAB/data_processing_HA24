{
 "cells": [
  {
   "cell_type": "markdown",
   "metadata": {},
   "source": [
    "\n",
    "<div style=\"max-width:66ch;\">\n",
    "\n",
    "# Lecture notes - numpy arrays\n",
    "\n",
    "This is the lecture note for **numpy arrays**, but it's built upon contents from previous lectures such as: \n",
    "- input-output\n",
    "- variables\n",
    "- if-statement\n",
    "- for loop\n",
    "- random\n",
    "\n",
    "Numpy is a very important package for numerical computations in Python. It has a ndarrays for efficient arithmetic operations and tons of mathematical functionalities without loops.\n",
    "\n",
    "<p class = \"alert alert-info\" role=\"alert\"><b>Note</b> that this lecture note gives a brief introduction to lists. I encourage you to read further about lists, when there is some functionality that you need. If you haven't you need to install numpy using \n",
    "\n",
    "```py\n",
    "pip install numpy\n",
    "```\n",
    "\n",
    "\n",
    "\n",
    "</div>"
   ]
  },
  {
   "cell_type": "markdown",
   "metadata": {},
   "source": [
    "<div style=\"max-width:66ch;\">\n",
    "\n",
    "## Arrays (vector)\n",
    "\n",
    "Numpy arrays can't change size, after it's created. It is strongly typed, which means we can't change a value to a type that's different from its current data type. Numpy array is much more performant compared to lists. Also it is very well suited for performant mathematical operations. To master numpy and its power, one must know linear algebra, the concepts of vectors, matrices and different mathematical operations related to them. \n",
    "\n",
    "</div>"
   ]
  },
  {
   "cell_type": "code",
   "execution_count": 1,
   "metadata": {},
   "outputs": [
    {
     "name": "stdout",
     "output_type": "stream",
     "text": [
      "vector1=array([2, 5, 1])\n",
      "vector1*2=array([ 4, 10,  2])\n",
      "[2, 5, 1, 2, 5, 1]\n",
      "vector2=array([1., 1., 1.])\n",
      "vector1+vector2=array([3., 6., 2.])\n",
      "vector2=array([ 1.,  1., 99.])\n",
      "vector1=array([1, 2, 5])\n",
      "vector1.sum()=8\n",
      "vector1.mean()=2.67\n"
     ]
    }
   ],
   "source": [
    "import numpy as np \n",
    "\n",
    "# creating an array from list, it is also a data structure for representing a mathematical vector\n",
    "vector1 = np.array([2,5,1])\n",
    "print(f\"{vector1=}\")\n",
    "# the multiplication performs element-wise \n",
    "print(f\"{vector1*2=}\") \n",
    "# note the difference in list\n",
    "print([2,5,1]*2)\n",
    "\n",
    "vector2 = np.ones(3)\n",
    "print(f\"{vector2=}\")\n",
    "print(f\"{vector1+vector2=}\")\n",
    "vector2[-1]=99\n",
    "print(f\"{vector2=}\")\n",
    "\n",
    "# sort\n",
    "vector1.sort()\n",
    "print(f\"{vector1=}\")\n",
    "\n",
    "# mathematical methods\n",
    "print(f\"{vector1.sum()=}\")\n",
    "print(f\"{vector1.mean()=:.2f}\")"
   ]
  },
  {
   "cell_type": "markdown",
   "metadata": {},
   "source": [
    "## 2D array (matrix)\n",
    "\n",
    "- representing a matrix in mathematics with 2D arrays"
   ]
  },
  {
   "cell_type": "code",
   "execution_count": 2,
   "metadata": {},
   "outputs": [
    {
     "name": "stdout",
     "output_type": "stream",
     "text": [
      "Matrix\n",
      "[[1 2 3]\n",
      " [4 5 6]]\n",
      "[[ 1  2  3]\n",
      " [ 4  5 55]]\n",
      "Slicing\n",
      "All rows in column 2: [2 5]\n",
      "[[ 8  4  7  8]\n",
      " [ 3  2  1  6]\n",
      " [ 2  6  3  9]\n",
      " [ 3  0 -1  7]]\n",
      "[[0. 0. 0. 0.]\n",
      " [0. 0. 0. 0.]\n",
      " [0. 0. 0. 0.]]\n"
     ]
    }
   ],
   "source": [
    "matrix1 = np.array([[1, 2, 3], [4, 5, 6]])\n",
    "\n",
    "print(\"Matrix\")\n",
    "print(matrix1)\n",
    "\n",
    "# indexing\n",
    "matrix1[1,2]=55\n",
    "\n",
    "print(matrix1)\n",
    "\n",
    "print(\"Slicing\")\n",
    "print(f\"All rows in column 2: {matrix1[:,1]}\") # slicing :\n",
    "\n",
    "# random integer matrix\n",
    "print(f\"{np.random.randint(-1,10, size=(4,4))}\")\n",
    "# zeros\n",
    "print(f\"{np.zeros(shape=(3,4))}\")"
   ]
  },
  {
   "cell_type": "markdown",
   "metadata": {},
   "source": [
    "<div style=\"max-width:66ch;\">\n",
    "\n",
    "## Linspace\n",
    "\n",
    "- creates a vector between (start, end, number of values evenly spaced)\n",
    "- useful for creating graphs\n",
    "\n",
    "  \n",
    "</div>\n"
   ]
  },
  {
   "cell_type": "code",
   "execution_count": 4,
   "metadata": {},
   "outputs": [
    {
     "name": "stdout",
     "output_type": "stream",
     "text": [
      "[1.  1.5 2.  2.5 3.  3.5 4. ]\n",
      "x.shape=(50,)\n"
     ]
    },
    {
     "data": {
      "text/plain": [
       "Text(0.5, 1.0, '$f(x) = x^2$')"
      ]
     },
     "execution_count": 4,
     "metadata": {},
     "output_type": "execute_result"
    },
    {
     "data": {
      "image/png": "[encoded data removed]",
      "text/plain": [
       "<Figure size 640x480 with 1 Axes>"
      ]
     },
     "metadata": {},
     "output_type": "display_data"
    }
   ],
   "source": [
    "import matplotlib.pyplot as plt\n",
    "\n",
    "print(f\"{np.linspace(1,4,7)}\")\n",
    "\n",
    "x = np.linspace(-5,5) # default gives 50 points\n",
    "print(f\"{x.shape=}\")\n",
    "\n",
    "f = lambda x: x**2+2\n",
    "\n",
    "plt.plot(x, f(x))\n",
    "plt.title(r\"$f(x) = x^2$\")"
   ]
  },
  {
   "cell_type": "markdown",
   "metadata": {},
   "source": [
    "<div style=\"max-width:66ch;\">\n",
    "\n",
    "## Performance\n",
    "\n",
    "The typing in Python is dynamic which means that we also can create heterogenous lists, that is lists with different types. However this creates an overhead since each item needs to have information about its type, which means that each element in the list is an object. The information is redundant in case of all elements are one data type. \n",
    "\n",
    "- loops in Python are very slow due to its dynamic typing, it can't efficiently be compiled to machine code \n",
    "- numpy arrays have one fixed data type for each element\n",
    "  - less flexibility \n",
    "  - higher performance\n",
    "- don't loop through numpy arrays as loops are very slow\n",
    "- use numpy's methods (vectorization), which under the hood is implemented with ufuncs that operates on an array elementwise\n",
    "- these ufuncs gives the array processing to C, which is much faster than Python loops\n",
    "\n",
    "</div>"
   ]
  },
  {
   "cell_type": "code",
   "execution_count": 5,
   "metadata": {},
   "outputs": [
    {
     "name": "stdout",
     "output_type": "stream",
     "text": [
      "1.12 s ± 29.8 ms per loop (mean ± std. dev. of 7 runs, 1 loop each)\n"
     ]
    }
   ],
   "source": [
    "%%timeit\n",
    "import random as rnd \n",
    "\n",
    "number_dices = 1000000\n",
    "\n",
    "many_dices = [rnd.randint(1,6) for _ in range(number_dices)]"
   ]
  },
  {
   "cell_type": "code",
   "execution_count": 6,
   "metadata": {},
   "outputs": [
    {
     "name": "stdout",
     "output_type": "stream",
     "text": [
      "15 ms ± 768 µs per loop (mean ± std. dev. of 7 runs, 10 loops each)\n"
     ]
    }
   ],
   "source": [
    "%%timeit\n",
    "\n",
    "number_dices = 1000000\n",
    "\n",
    "many_dices = np.random.randint(1,6,number_dices)"
   ]
  },
  {
   "cell_type": "markdown",
   "metadata": {},
   "source": [
    "<div style=\"background-color: #FFF; color: #212121; border-radius: 1px; width:22ch; box-shadow: rgba(0, 0, 0, 0.16) 0px 1px 4px; display: flex; justify-content: center; align-items: center;\">\n",
    "<div style=\"padding: 1.5em 0; width: 70%;\">\n",
    "    <h2 style=\"font-size: 1.2rem;\">Kokchun Giang</h2>\n",
    "    <a href=\"https://www.linkedin.com/in/kokchungiang/\" target=\"_blank\" style=\"display: flex; align-items: center; gap: .4em; color:#0A66C2;\">\n",
    "        <img src=\"https://content.linkedin.com/content/dam/me/business/en-us/amp/brand-site/v2/bg/LI-Bug.svg.original.svg\" width=\"20\"> \n",
    "        LinkedIn profile\n",
    "    </a>\n",
    "    <a href=\"https://github.com/kokchun/Portfolio-Kokchun-Giang\" target=\"_blank\" style=\"display: flex; align-items: center; gap: .4em; margin: 1em 0; color:#0A66C2;\">\n",
    "        <img src=\"https://github.githubassets.com/images/modules/logos_page/GitHub-Mark.png\" width=\"20\"> \n",
    "        Github portfolio\n",
    "    </a>\n",
    "    <span>AIgineer AB</span>\n",
    "<div>\n",
    "</div>\n"
   ]
  }
 ],
 "metadata": {
  "kernelspec": {
   "display_name": "Python 3.9.6 64-bit",
   "language": "python",
   "name": "python3"
  },
  "language_info": {
   "codemirror_mode": {
    "name": "ipython",
    "version": 3
   },
   "file_extension": ".py",
   "mimetype": "text/x-python",
   "name": "python",
   "nbconvert_exporter": "python",
   "pygments_lexer": "ipython3",
   "version": "3.9.9"
  },
  "orig_nbformat": 4,
  "vscode": {
   "interpreter": {
    "hash": "0da836a34428266995a795f1e1e27b816fa1c02f148d9728b3fbbbc5459afca6"
   }
  }
 },
 "nbformat": 4,
 "nbformat_minor": 2
}
