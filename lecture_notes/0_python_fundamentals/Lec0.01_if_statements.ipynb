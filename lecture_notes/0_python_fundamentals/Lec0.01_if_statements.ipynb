{
 "cells": [
  {
   "cell_type": "markdown",
   "metadata": {},
   "source": [
    "\n",
    "<a href=\"https://colab.research.google.com/github/kokchun/Python-course-AI22/blob/main/Lecture_notes/L1-if-statements.ipynb\" target=\"_parent\"><img align=\"left\" src=\"https://colab.research.google.com/assets/colab-badge.svg\" alt=\"Open In Colab\"/></a> &nbsp; for interacting with the code"
   ]
  },
  {
   "cell_type": "markdown",
   "metadata": {},
   "source": [
    "# Lecture notes - if-statement\n",
    "\n",
    "<div style=\"max-width:66ch;\">\n",
    "This is a lecture note for **if-statements**, but it's built upon contents from previous lectures such as: \n",
    "- input-output\n",
    "- variables\n",
    "\n",
    "Note that this is an introduction to the subject, you are encouraged to read further\n",
    "\n",
    "**Read more:** \n",
    "- [if..else - w3schools](https://www.w3schools.com/python/python_conditions.asp)\n",
    "\n",
    "</div>"
   ]
  },
  {
   "cell_type": "markdown",
   "metadata": {},
   "source": [
    "## if-else\n",
    "\n",
    "<div style = \"border: 2px solid #F3F3F3; padding: 2em;  width: 70ch; background-color: #E3E3E3; color: #212121;\">\n",
    "    <div style=\"display:flex; align-items:flex-start; justify-content:space-evenly; gap:1em;\">\n",
    "        <div>\n",
    "        <p>\n",
    "            if-statement is a construct called <b>conditional statement</b> which is used for handling decisions. Note the syntax with \"colon\" operator \":\" and the indentation to define a scope in the code (many other languages use curly braces {})\n",
    "        </p>\n",
    "        <div style=\"display:flex; margin-bottom: -2em;\">\n",
    "            <pre style=\"padding: 0 1em; background-color: inherit;\">\n",
    "                <code style=\"color: #3A3A3A; background-color: inherit;\"><!--  -->\n",
    "if condition: \n",
    "    statements\n",
    "    ... \n",
    "else: \n",
    "    statements\n",
    "    ...\n",
    "                </code>\n",
    "            </pre>\n",
    "        </div>\n",
    "condition is a so called **boolean** which evaluates to either True or False\n",
    "    </div>\n",
    "    <img src=\"https://github.com/kokchun/Python-course-AI22/blob/9c01fbf1996e7c52c1bd551d929836a43cf4496c/assets/if-else-flowchart.png?raw=true\" width=\"250\"/>\n",
    "    <!-- <img src=\"../assets/if-else-flowchart.png\" width=\"250\"/> -->\n",
    "    </div>\n",
    "</div>"
   ]
  },
  {
   "cell_type": "code",
   "execution_count": null,
   "metadata": {},
   "outputs": [
    {
     "name": "stdout",
     "output_type": "stream",
     "text": [
      "Sorry, you are too young to watch this scary movie\n",
      "Watch this cartoon instead\n"
     ]
    }
   ],
   "source": [
    "age = int(input(\"Enter your age:\")) # 14\n",
    "age_limit = 15\n",
    "\n",
    "# note the syntax:\n",
    "if age < age_limit:\n",
    "    print(\"Sorry, you are too young to watch this scary movie\")\n",
    "    print(\"Watch this cartoon instead\")\n",
    "else:\n",
    "    print(\"Enjoy this scary movie\")"
   ]
  },
  {
   "cell_type": "code",
   "execution_count": 3,
   "metadata": {},
   "outputs": [
    {
     "name": "stdout",
     "output_type": "stream",
     "text": [
      "Du får åka balder\n"
     ]
    }
   ],
   "source": [
    "age = 15 \n",
    "height = 150\n",
    "\n",
    "if age > 11 and 130 < height < 210:\n",
    "    print(\"Du får åka balder\")\n",
    "else: \n",
    "    print(\"Du får inte åka balder\")"
   ]
  },
  {
   "cell_type": "markdown",
   "metadata": {},
   "source": [
    "### modulo operator\n",
    "\n",
    "Gives the remainder of a division. Example: \n",
    "\n",
    "```\n",
    "5 % 3 = 2 # read out \"5 mod 3\"\n",
    "9 % 3 = 0\n",
    "```"
   ]
  },
  {
   "cell_type": "code",
   "execution_count": 4,
   "metadata": {},
   "outputs": [
    {
     "name": "stdout",
     "output_type": "stream",
     "text": [
      "Odd number\n"
     ]
    }
   ],
   "source": [
    "number = 5\n",
    "if number % 2 == 0: \n",
    "    print(\"Even number\")\n",
    "else:\n",
    "    print(\"Odd number\")"
   ]
  },
  {
   "cell_type": "markdown",
   "metadata": {},
   "source": [
    "<div style=\"max-width:66ch;\">\n",
    "\n",
    "---\n",
    "## if - elif - else\n",
    "\n",
    "```python\n",
    "if condition: \n",
    "    statements \n",
    "    ...\n",
    "elif condition: \n",
    "    statements\n",
    "    ...\n",
    "...\n",
    "elif condition:\n",
    "    statements\n",
    "    ...\n",
    "else:\n",
    "    statements\n",
    "    ...\n",
    "```\n",
    "Example: \n",
    "\n",
    "<img src=\"https://github.com/kokchun/assets/blob/main/python/if-elif-else.png?raw=true\" style=\"max-width: 80%;\">\n",
    "\n",
    "</div>"
   ]
  },
  {
   "cell_type": "code",
   "execution_count": 5,
   "metadata": {},
   "outputs": [
    {
     "name": "stdout",
     "output_type": "stream",
     "text": [
      "Give patient 1000mg\n"
     ]
    }
   ],
   "source": [
    "weight = float(input(\"What is your weight? (kg) \")) # 40\n",
    "if weight < 20:\n",
    "    print(\"Give patient 500mg\")\n",
    "elif weight < 40:\n",
    "    print(\"Give patient 750mg\")\n",
    "else:\n",
    "    print(\"Give patient 1000mg\")"
   ]
  },
  {
   "cell_type": "markdown",
   "metadata": {},
   "source": [
    "\n",
    "\n",
    "<div style=\"max-width:66ch;\">\n",
    "\n",
    "---\n",
    "## logical operators\n",
    "\n",
    "<table style=\"display:inline-block; text-align:left;\">\n",
    "  <tr style=\"background-color: #174A7E; color: white;\">\n",
    "        <th>Name</th>\n",
    "        <th>Symbol</th>\n",
    "        <th>Example</th>\n",
    "        <th>Result</th>\n",
    "    </tr>\n",
    "    <tr>\n",
    "        <td>Less than</td>\n",
    "        <td>&lt;</td>\n",
    "        <td>3 &lt; 2</td>\n",
    "        <td>False</td>\n",
    "    </tr>\n",
    "    <tr>\n",
    "        <td>Less than or equal to</td>\n",
    "        <td>&lt;=</td>\n",
    "        <td>3 &lt;= 3</td>\n",
    "        <td>True</td>\n",
    "    </tr>\n",
    "    <tr>\n",
    "        <td>Larger than</td>\n",
    "        <td>&gt;</td>\n",
    "        <td>3 &gt; 2</td>\n",
    "        <td>True</td>\n",
    "    </tr>\n",
    "    <tr>\n",
    "        <td>Larger than or equal to</td>\n",
    "        <td>&gt;=</td>\n",
    "        <td>-3 &gt;= 4</td>\n",
    "        <td>False</td>\n",
    "    </tr>\n",
    "    <tr>\n",
    "        <td>Equal to</td>\n",
    "        <td>==</td>\n",
    "        <td>3 == 3</td>\n",
    "        <td>True</td>\n",
    "    </tr>\n",
    "    <tr>\n",
    "        <td>Not equal</td>\n",
    "        <td>!=</td>\n",
    "        <td>3 != 2</td>\n",
    "        <td>True</td>\n",
    "    </tr>\n",
    "    <tr>\n",
    "        <td>And operator</td>\n",
    "        <td>and</td>\n",
    "        <td>3 == 2 and 3 > 2</td>\n",
    "        <td>False</td>\n",
    "    </tr>\n",
    "    <tr>\n",
    "        <td>Or operator</td>\n",
    "        <td>or</td>\n",
    "        <td>3 == 2 or 3 > 2</td>\n",
    "        <td>True</td>\n",
    "    </tr>\n",
    "    <tr>\n",
    "        <td>Not operator</td>\n",
    "        <td>not</td>\n",
    "        <td>not 3 == 2</td>\n",
    "        <td>True</td>\n",
    "    </tr>\n",
    "</table>\n",
    "\n",
    "</div>\n"
   ]
  },
  {
   "cell_type": "code",
   "execution_count": 13,
   "metadata": {},
   "outputs": [
    {
     "name": "stdout",
     "output_type": "stream",
     "text": [
      "True and False gives: False\n",
      "True or False gives: True\n",
      "False or False gives: False\n",
      "True and True gives: True\n",
      "True or True gives: True\n"
     ]
    }
   ],
   "source": [
    "print(f\"True and False gives: {True and False}\")\n",
    "print(f\"True or False gives: {True or False}\")\n",
    "print(f\"False or False gives: {False or False}\")\n",
    "print(f\"True and True gives: {True and True}\")\n",
    "print(f\"True or True gives: {True or True}\")"
   ]
  },
  {
   "cell_type": "markdown",
   "metadata": {},
   "source": [
    "<div style=\"max-width:66ch;\">\n",
    "\n",
    "---\n",
    "## nested if-statements\n",
    "\n",
    "if-statement within an if-statement\n",
    "\n",
    "</div>"
   ]
  },
  {
   "cell_type": "code",
   "execution_count": 15,
   "metadata": {},
   "outputs": [
    {
     "name": "stdout",
     "output_type": "stream",
     "text": [
      "-100 is divisible by 5\n",
      "-100 is an even number\n"
     ]
    }
   ],
   "source": [
    "number = int(input(\"Give an integer: \")) #-100\n",
    "\n",
    "# if a number is divisible by 5, check if it also is even\n",
    "if number % 5 == 0: \n",
    "    print(f\"{number} is divisible by 5\")\n",
    "    if number % 2 == 0:\n",
    "        print(f\"{number} is an even number\")\n",
    "    else:\n",
    "        print(f\"{number} is an odd number\")"
   ]
  },
  {
   "cell_type": "markdown",
   "metadata": {},
   "source": [
    "<div style=\"max-width:66ch;\">\n",
    "\n",
    "---\n",
    "## one line if-statements\n",
    "\n",
    "<div style=\"width:66ch;\">\n",
    "\n",
    "When there is one statement, you can use one line if-statement or one line if-else.\n",
    "\n",
    "Note: don't overuse this structure just because you can. Always favor code that maximizes readability. \n",
    "\n",
    "</div>"
   ]
  },
  {
   "cell_type": "code",
   "execution_count": 1,
   "metadata": {},
   "outputs": [
    {
     "name": "stdout",
     "output_type": "stream",
     "text": [
      "Hi ms Olivia\n",
      "is_child=True\n"
     ]
    }
   ],
   "source": [
    "name = \"Olivia\"\n",
    "gender = \"female\"\n",
    "age = 7\n",
    "\n",
    "# one line if \n",
    "if \"o\" in name: print(f\"{name} contains the letter 'o'\") \n",
    "\n",
    "# one line if-else\n",
    "print(f\"Hi mr {name}\") if gender == \"male\" else print(f\"Hi ms {name}\")\n",
    "\n",
    "# one line if-else variable assignment\n",
    "is_child = True if age < 18 else False\n",
    "print(f\"{is_child=}\")"
   ]
  },
  {
   "cell_type": "markdown",
   "metadata": {},
   "source": [
    "<div style=\"background-color: #FFF; color: #212121; border-radius: 1px; width:22ch; box-shadow: rgba(0, 0, 0, 0.16) 0px 1px 4px; display: flex; justify-content: center; align-items: center;\">\n",
    "<div style=\"padding: 1.5em 0; width: 70%;\">\n",
    "    <h2 style=\"font-size: 1.2rem;\">Kokchun Giang</h2>\n",
    "    <a href=\"https://www.linkedin.com/in/kokchungiang/\" target=\"_blank\" style=\"display: flex; align-items: center; gap: .4em; color:#0A66C2;\">\n",
    "        <img src=\"https://content.linkedin.com/content/dam/me/business/en-us/amp/brand-site/v2/bg/LI-Bug.svg.original.svg\" width=\"20\"> \n",
    "        LinkedIn profile\n",
    "    </a>\n",
    "    <a href=\"https://github.com/kokchun/Portfolio-Kokchun-Giang\" target=\"_blank\" style=\"display: flex; align-items: center; gap: .4em; margin: 1em 0; color:#0A66C2;\">\n",
    "        <img src=\"https://github.githubassets.com/images/modules/logos_page/GitHub-Mark.png\" width=\"20\"> \n",
    "        Github portfolio\n",
    "    </a>\n",
    "    <span>AIgineer AB</span>\n",
    "<div>\n",
    "</div>\n"
   ]
  },
  {
   "cell_type": "markdown",
   "metadata": {},
   "source": []
  }
 ],
 "metadata": {
  "kernelspec": {
   "display_name": "Python 3.9.6 64-bit",
   "language": "python",
   "name": "python3"
  },
  "language_info": {
   "codemirror_mode": {
    "name": "ipython",
    "version": 3
   },
   "file_extension": ".py",
   "mimetype": "text/x-python",
   "name": "python",
   "nbconvert_exporter": "python",
   "pygments_lexer": "ipython3",
   "version": "3.9.9"
  },
  "orig_nbformat": 4,
  "vscode": {
   "interpreter": {
    "hash": "0da836a34428266995a795f1e1e27b816fa1c02f148d9728b3fbbbc5459afca6"
   }
  }
 },
 "nbformat": 4,
 "nbformat_minor": 2
}
