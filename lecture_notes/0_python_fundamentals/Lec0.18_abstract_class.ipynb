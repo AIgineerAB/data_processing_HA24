{
 "cells": [
  {
   "cell_type": "markdown",
   "metadata": {},
   "source": [
    "\n",
    "<div style=\"max-width:66ch;\">\n",
    "\n",
    "# Lecture notes - OOP abstract class\n",
    "\n",
    "This is the lecture note for **OOP abstract class** - but it's built upon contents from previous lectures such as: \n",
    "- input-output\n",
    "- variables\n",
    "- if-statement\n",
    "- for loop\n",
    "- while \n",
    "- lists\n",
    "- random\n",
    "- strings\n",
    "- functions\n",
    "- error handling\n",
    "- file handling\n",
    "- dictionary\n",
    "- OOP\n",
    "\n",
    "<p class = \"alert alert-info\" role=\"alert\"><b>Note</b> that this lecture note gives some introduction to OOP abstract classes.\n",
    "\n",
    "\n",
    "Read more \n",
    "- [abstract base class - Markovic P. teclado](https://blog.teclado.com/python-abc-abstract-base-classes/)\n",
    "  \n",
    "</div>"
   ]
  },
  {
   "cell_type": "markdown",
   "metadata": {},
   "source": [
    "\n",
    "<div style=\"max-width:66ch;\">\n",
    "\n",
    "## Example problem\n",
    "\n",
    "Many developers may implement similar classes in different ways\n",
    "- issue when similar method has different names \n",
    "- this makes it harder to e.g. iterate over different classes and utilise polymorphism\n",
    "\n",
    "</div>"
   ]
  },
  {
   "cell_type": "code",
   "execution_count": 1,
   "metadata": {},
   "outputs": [
    {
     "ename": "AttributeError",
     "evalue": "'VenusFlyTrap' object has no attribute 'photosynthesis'",
     "output_type": "error",
     "traceback": [
      "\u001b[0;31m---------------------------------------------------------------------------\u001b[0m",
      "\u001b[0;31mAttributeError\u001b[0m                            Traceback (most recent call last)",
      "\u001b[1;32m/Users/kokchungiang/Documents/AIgineer/AI-part-1-handelsakademin/lecture-notes/0. python-fundamentals/Lec0.18_abstract_class.ipynb Cell 3\u001b[0m line \u001b[0;36m1\n\u001b[1;32m     <a href='vscode-notebook-cell:/Users/kokchungiang/Documents/AIgineer/AI-part-1-handelsakademin/lecture-notes/0.%20python-fundamentals/Lec0.18_abstract_class.ipynb#W2sZmlsZQ%3D%3D?line=13'>14</a>\u001b[0m plants \u001b[39m=\u001b[39m (VenusFlyTrap(), Monstera(), MoneyPlant())\n\u001b[1;32m     <a href='vscode-notebook-cell:/Users/kokchungiang/Documents/AIgineer/AI-part-1-handelsakademin/lecture-notes/0.%20python-fundamentals/Lec0.18_abstract_class.ipynb#W2sZmlsZQ%3D%3D?line=15'>16</a>\u001b[0m \u001b[39mfor\u001b[39;00m plant \u001b[39min\u001b[39;00m plants: \n\u001b[0;32m---> <a href='vscode-notebook-cell:/Users/kokchungiang/Documents/AIgineer/AI-part-1-handelsakademin/lecture-notes/0.%20python-fundamentals/Lec0.18_abstract_class.ipynb#W2sZmlsZQ%3D%3D?line=16'>17</a>\u001b[0m     plant\u001b[39m.\u001b[39;49mphotosynthesis()\n\u001b[1;32m     <a href='vscode-notebook-cell:/Users/kokchungiang/Documents/AIgineer/AI-part-1-handelsakademin/lecture-notes/0.%20python-fundamentals/Lec0.18_abstract_class.ipynb#W2sZmlsZQ%3D%3D?line=18'>19</a>\u001b[0m \u001b[39m# here it would be good to have all these plants classes to implement photosynthesis and \u001b[39;00m\n\u001b[1;32m     <a href='vscode-notebook-cell:/Users/kokchungiang/Documents/AIgineer/AI-part-1-handelsakademin/lecture-notes/0.%20python-fundamentals/Lec0.18_abstract_class.ipynb#W2sZmlsZQ%3D%3D?line=19'>20</a>\u001b[0m \u001b[39m# not different variants of it stopping us from using polymorphism\u001b[39;00m\n",
      "\u001b[0;31mAttributeError\u001b[0m: 'VenusFlyTrap' object has no attribute 'photosynthesis'"
     ]
    }
   ],
   "source": [
    "class VenusFlyTrap: \n",
    "    def venus_photosynthesis(self):\n",
    "        print(\"Fly trap does photosynthesis\")\n",
    "\n",
    "    \n",
    "class Monstera: \n",
    "    def monstera_photosynthesis(self):\n",
    "        print(\"Monstera does photosynthesis\")\n",
    "\n",
    "class MoneyPlant:\n",
    "    def photosynthesis(self):\n",
    "        print(\"Money plant photosynthesis\")\n",
    "\n",
    "plants = (VenusFlyTrap(), Monstera(), MoneyPlant())\n",
    "\n",
    "for plant in plants: \n",
    "    plant.photosynthesis()\n",
    "\n",
    "# here it would be good to have all these plants classes to implement photosynthesis and \n",
    "# not different variants of it stopping us from using polymorphism"
   ]
  },
  {
   "cell_type": "markdown",
   "metadata": {},
   "source": [
    "\n",
    "<div style=\"max-width:66ch;\">\n",
    "\n",
    "## `ABC abstract base class`\n",
    "\n",
    "A class that inherits from ABC can make a method abstract using the decorator abstractmethod. Once a method or property is abstract, the whole class becomes abstract and you can't instantiate directly from that class. All subclasses must implemenet all abstract methods/properties in order for it to be possible to instantiate object from that class. If at least one abstract method/property is not implemented the subclass is also an abstract class as it has inherited the abstract method/property.\n",
    "\n",
    "\n",
    "\n",
    "</div>"
   ]
  },
  {
   "cell_type": "code",
   "execution_count": 2,
   "metadata": {},
   "outputs": [
    {
     "ename": "TypeError",
     "evalue": "Can't instantiate abstract class VenusFlyTrap with abstract method photosynthesis",
     "output_type": "error",
     "traceback": [
      "\u001b[0;31m---------------------------------------------------------------------------\u001b[0m",
      "\u001b[0;31mTypeError\u001b[0m                                 Traceback (most recent call last)",
      "\u001b[1;32m/Users/kokchungiang/Documents/AIgineer/AI-part-1-handelsakademin/lecture-notes/0. python-fundamentals/Lec0.18_abstract_class.ipynb Cell 5\u001b[0m line \u001b[0;36m2\n\u001b[1;32m     <a href='vscode-notebook-cell:/Users/kokchungiang/Documents/AIgineer/AI-part-1-handelsakademin/lecture-notes/0.%20python-fundamentals/Lec0.18_abstract_class.ipynb#W6sZmlsZQ%3D%3D?line=20'>21</a>\u001b[0m monsteru \u001b[39m=\u001b[39m Monstera()\n\u001b[1;32m     <a href='vscode-notebook-cell:/Users/kokchungiang/Documents/AIgineer/AI-part-1-handelsakademin/lecture-notes/0.%20python-fundamentals/Lec0.18_abstract_class.ipynb#W6sZmlsZQ%3D%3D?line=22'>23</a>\u001b[0m \u001b[39m# we see that we can't instantiate VenusFlyTrap as it is an abstract class \u001b[39;00m\n\u001b[0;32m---> <a href='vscode-notebook-cell:/Users/kokchungiang/Documents/AIgineer/AI-part-1-handelsakademin/lecture-notes/0.%20python-fundamentals/Lec0.18_abstract_class.ipynb#W6sZmlsZQ%3D%3D?line=23'>24</a>\u001b[0m VenusFlyTrap()\n",
      "\u001b[0;31mTypeError\u001b[0m: Can't instantiate abstract class VenusFlyTrap with abstract method photosynthesis"
     ]
    }
   ],
   "source": [
    "from abc import abstractmethod, ABC\n",
    "\n",
    "class Plant(ABC):\n",
    "    @abstractmethod\n",
    "    def photosynthesis(self):\n",
    "        pass\n",
    "\n",
    "class VenusFlyTrap(Plant): \n",
    "    def do_photosynthesis(self):\n",
    "        print(\"Fly trap does photosynthesis\")\n",
    "    \n",
    "class Monstera(Plant): \n",
    "    def photosynthesis(self):\n",
    "        print(\"Monstera does photosynthesis\")\n",
    "\n",
    "\n",
    "class MoneyPlant(Plant):\n",
    "    def photosynthesis(self):\n",
    "        print(\"Money plant photosynthesis\")\n",
    "\n",
    "monsteru = Monstera()\n",
    "\n",
    "# we see that we can't instantiate VenusFlyTrap as it is an abstract class \n",
    "VenusFlyTrap()\n",
    "        "
   ]
  },
  {
   "cell_type": "code",
   "execution_count": 3,
   "metadata": {},
   "outputs": [
    {
     "name": "stdout",
     "output_type": "stream",
     "text": [
      "Monstera does photosynthesis\n",
      "Fly trap does photosynthesis\n",
      "Money plant photosynthesis\n"
     ]
    }
   ],
   "source": [
    "from abc import abstractmethod, ABC\n",
    "\n",
    "class Plant(ABC):\n",
    "    @abstractmethod\n",
    "    def photosynthesis(self):\n",
    "        pass\n",
    "\n",
    "class VenusFlyTrap(Plant): \n",
    "    def photosynthesis(self):\n",
    "        print(\"Fly trap does photosynthesis\")\n",
    "    \n",
    "class Monstera(Plant): \n",
    "    def photosynthesis(self):\n",
    "        print(\"Monstera does photosynthesis\")\n",
    "\n",
    "\n",
    "class MoneyPlant(Plant):\n",
    "    def photosynthesis(self):\n",
    "        print(\"Money plant photosynthesis\")\n",
    "\n",
    "# now all implement photosynthesis\n",
    "monsteru = Monstera()\n",
    "venusu = VenusFlyTrap()\n",
    "monet = MoneyPlant()\n",
    "\n",
    "for plant in (monsteru, venusu, monet):\n",
    "    plant.photosynthesis()"
   ]
  },
  {
   "cell_type": "markdown",
   "metadata": {},
   "source": [
    "<div style=\"background-color: #FFF; color: #212121; border-radius: 1px; width:22ch; box-shadow: rgba(0, 0, 0, 0.16) 0px 1px 4px; display: flex; justify-content: center; align-items: center;\">\n",
    "<div style=\"padding: 1.5em 0; width: 70%;\">\n",
    "    <h2 style=\"font-size: 1.2rem;\">Kokchun Giang</h2>\n",
    "    <a href=\"https://www.linkedin.com/in/kokchungiang/\" target=\"_blank\" style=\"display: flex; align-items: center; gap: .4em; color:#0A66C2;\">\n",
    "        <img src=\"https://content.linkedin.com/content/dam/me/business/en-us/amp/brand-site/v2/bg/LI-Bug.svg.original.svg\" width=\"20\"> \n",
    "        LinkedIn profile\n",
    "    </a>\n",
    "    <a href=\"https://github.com/kokchun/Portfolio-Kokchun-Giang\" target=\"_blank\" style=\"display: flex; align-items: center; gap: .4em; margin: 1em 0; color:#0A66C2;\">\n",
    "        <img src=\"https://github.githubassets.com/images/modules/logos_page/GitHub-Mark.png\" width=\"20\"> \n",
    "        Github portfolio\n",
    "    </a>\n",
    "    <span>AIgineer AB</span>\n",
    "<div>\n",
    "</div>\n"
   ]
  }
 ],
 "metadata": {
  "kernelspec": {
   "display_name": "Python 3.9.6 64-bit",
   "language": "python",
   "name": "python3"
  },
  "language_info": {
   "codemirror_mode": {
    "name": "ipython",
    "version": 3
   },
   "file_extension": ".py",
   "mimetype": "text/x-python",
   "name": "python",
   "nbconvert_exporter": "python",
   "pygments_lexer": "ipython3",
   "version": "3.9.9"
  },
  "orig_nbformat": 4,
  "vscode": {
   "interpreter": {
    "hash": "0da836a34428266995a795f1e1e27b816fa1c02f148d9728b3fbbbc5459afca6"
   }
  }
 },
 "nbformat": 4,
 "nbformat_minor": 2
}
