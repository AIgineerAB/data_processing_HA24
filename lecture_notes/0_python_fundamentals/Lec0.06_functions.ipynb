{
 "cells": [
  {
   "cell_type": "markdown",
   "metadata": {},
   "source": [
    "\n",
    "<div style=\"max-width:66ch;\">\n",
    "\n",
    "# Lecture notes - functions\n",
    "\n",
    "This is the lecture note for **functions**, but it's built upon contents from previous lectures such as: \n",
    "- input-output\n",
    "- variables\n",
    "- if-statement\n",
    "- for loop\n",
    "- while \n",
    "- lists\n",
    "- random\n",
    "- strings\n",
    "\n",
    "A function is a block of code that runs when it is called. A function can have parameters and it can return some data.\n",
    "\n",
    "<p class = \"alert alert-info\" role=\"alert\"><b>Note</b> that this lecture note gives a brief introduction to functions. I encourage you to read further about functions.\n",
    "\n",
    "Read more [w3schools - functions](https://www.w3schools.com/python/python_functions.asp)\n",
    "\n",
    "\n",
    "</div>"
   ]
  },
  {
   "cell_type": "markdown",
   "metadata": {},
   "source": [
    "<div style=\"max-width:66ch;\">\n",
    "\n",
    "## Creating a function - def\n",
    "\n",
    "```py\n",
    "def name(param1, param2, ...): \n",
    "    statements\n",
    "    ...\n",
    "\n",
    "name(arg1, arg2, ...)\n",
    "```\n",
    "\n",
    "\n",
    "</div>"
   ]
  },
  {
   "cell_type": "code",
   "execution_count": 1,
   "metadata": {},
   "outputs": [
    {
     "name": "stdout",
     "output_type": "stream",
     "text": [
      "9\n",
      "[0, 1, 4, 9, 16, 25, 36, 49, 64, 81]\n"
     ]
    }
   ],
   "source": [
    "def squarer(x): # input parameter x \n",
    "    return x**2 # returns x**2\n",
    "\n",
    "print(squarer(3))\n",
    "squares = [squarer(x) for x in range(10)]\n",
    "print(squares)"
   ]
  },
  {
   "cell_type": "markdown",
   "metadata": {},
   "source": [
    "## Default value"
   ]
  },
  {
   "cell_type": "code",
   "execution_count": 2,
   "metadata": {},
   "outputs": [
    {
     "name": "stdout",
     "output_type": "stream",
     "text": [
      "Hi Ada\n",
      "Hi friend\n",
      "Hi Beda\n",
      "None\n"
     ]
    }
   ],
   "source": [
    "# this function returns None but prints out\n",
    "def say_hello(name = \"friend\"):\n",
    "    print(f\"Hi {name}\") \n",
    "\n",
    "say_hello(\"Ada\")\n",
    "say_hello() # since no argument is sent - name is assigned the default value \"friend\"\n",
    "print(say_hello(\"Beda\")) #it returns None after the statements have executed"
   ]
  },
  {
   "cell_type": "markdown",
   "metadata": {},
   "source": [
    "<div style=\"max-width:66ch;\">\n",
    "\n",
    "<img src=\"https://github.com/kokchun/assets/blob/main/python/function_fig.png?raw=true\" width=60%>\n",
    "\n",
    "</div>"
   ]
  },
  {
   "cell_type": "code",
   "execution_count": 3,
   "metadata": {},
   "outputs": [
    {
     "name": "stdout",
     "output_type": "stream",
     "text": [
      "3\n"
     ]
    }
   ],
   "source": [
    "def smallest(number1, number2):\n",
    "    if number1 > number2:\n",
    "        return number2\n",
    "    else:\n",
    "        return number1\n",
    "\n",
    "print(smallest(3,5))"
   ]
  },
  {
   "cell_type": "markdown",
   "metadata": {},
   "source": [
    "<div style=\"max-width:66ch;\">\n",
    "\n",
    "## Keyword arguments\n",
    "\n",
    "Keyword arguments allow you to pass arguments to a function using the syntax parameter_name=value. This is particularly useful when a function has a large number of parameters, and you want to make the function call more readable and self-explanatory. Keyword arguments are also valuable when you want to provide values for only a subset of the parameters, and you don't want to rely on the order of the arguments.\n",
    "\n",
    "</div>\n"
   ]
  },
  {
   "cell_type": "code",
   "execution_count": 4,
   "metadata": {},
   "outputs": [
    {
     "name": "stdout",
     "output_type": "stream",
     "text": [
      "7\n"
     ]
    }
   ],
   "source": [
    "def count_words(text):\n",
    "    words = text.split() # assuming a word ends with space\n",
    "    return len(words)\n",
    "\n",
    "quote = \"I stand on the shoulders of giants\"\n",
    "print(count_words(text = quote)) # used keyword arguments to call this function"
   ]
  },
  {
   "cell_type": "markdown",
   "metadata": {},
   "source": [
    "<div style=\"max-width:66ch;\">\n",
    "\n",
    "## Arbitrary arguments, *args\n",
    "\n",
    "The *args syntax in a function definition allows you to pass a variable number of positional arguments to the function. The *args collects any number of positional arguments into a tuple. This can be particularly useful when you want to create a function that can accept an arbitrary number of arguments.\n",
    "\n",
    "- will receive a tuple of arguments, which can be accessed\n",
    "- use * before parameter name e.g.\n",
    "  \n",
    "```py\n",
    "def func_name(*args):\n",
    "    statements\n",
    "    ....\n",
    "```\n",
    "\n",
    "</div>\n"
   ]
  },
  {
   "cell_type": "code",
   "execution_count": 5,
   "metadata": {},
   "outputs": [
    {
     "name": "stdout",
     "output_type": "stream",
     "text": [
      "2.5\n"
     ]
    }
   ],
   "source": [
    "def my_mean(*args):\n",
    "    sum_ = 0\n",
    "    for arg in args:\n",
    "        sum_ += arg\n",
    "    return sum_/len(args)\n",
    "\n",
    "print(my_mean(1,2,3,4))"
   ]
  },
  {
   "cell_type": "markdown",
   "metadata": {},
   "source": [
    "<div style=\"max-width:66ch;\">\n",
    "\n",
    "## Draw lines\n",
    "\n",
    "</div>"
   ]
  },
  {
   "cell_type": "code",
   "execution_count": 7,
   "metadata": {},
   "outputs": [
    {
     "data": {
      "image/png": "[encoded data removed]",
      "text/plain": [
       "<Figure size 640x480 with 1 Axes>"
      ]
     },
     "metadata": {},
     "output_type": "display_data"
    }
   ],
   "source": [
    "import matplotlib.pyplot as plt \n",
    "\n",
    "x = list(range(-5, 5))\n",
    "\n",
    "# y = ax + b \n",
    "def draw_line(x, a=1, b=1):\n",
    "    y = [a*x_+b for x_ in x]\n",
    "    \n",
    "    plt.plot(x,y)\n",
    "    plt.title(\"y = ax + b lines\")\n",
    "    plt.xlabel(\"x\")\n",
    "    plt.ylabel(\"y\")\n",
    "\n",
    "\n",
    "draw_line(x)\n",
    "draw_line(x,a=-1,b=-1)"
   ]
  },
  {
   "cell_type": "markdown",
   "metadata": {},
   "source": [
    "## Draw circle"
   ]
  },
  {
   "cell_type": "code",
   "execution_count": 8,
   "metadata": {},
   "outputs": [
    {
     "data": {
      "image/png": "[encoded data removed]",
      "text/plain": [
       "<Figure size 640x480 with 1 Axes>"
      ]
     },
     "metadata": {},
     "output_type": "display_data"
    }
   ],
   "source": [
    "import numpy as np  \n",
    "import matplotlib.pyplot as plt \n",
    "\n",
    "def draw_circle(radius = 1, center = (0,0)):\n",
    "    x = np.linspace(0, 2*np.pi)\n",
    "    plt.plot(radius*np.sin(x)+center[0], radius*np.cos(x)+center[1])\n",
    "    plt.plot(center[0], center[1], '*r')\n",
    "    plt.axis(\"equal\")\n",
    "\n",
    "draw_circle()\n",
    "draw_circle(radius=10,center=(2,2))\n"
   ]
  },
  {
   "cell_type": "markdown",
   "metadata": {},
   "source": [
    "<div style=\"max-width:66ch;\">\n",
    "\n",
    "## Lambda functions\n",
    "\n",
    "Lambda function is a small, anonymous function defined using the lambda keyword. It allows you to create a simple, one-line function without formally defining it using the def keyword. Lambda functions are often used for short-term operations where a full function definition is unnecessary.\n",
    "\n",
    "- can take many arguments but have one expression\n",
    "- can be used inside another function\n",
    "\n",
    "Read more [w3schools - lambda functions](https://www.w3schools.com/python/python_lambda.asp)\n",
    "\n",
    "</div>"
   ]
  },
  {
   "cell_type": "code",
   "execution_count": 10,
   "metadata": {},
   "outputs": [
    {
     "name": "stdout",
     "output_type": "stream",
     "text": [
      "25\n"
     ]
    }
   ],
   "source": [
    "squarer = lambda x: x**2\n",
    "print(squarer(5))"
   ]
  },
  {
   "cell_type": "code",
   "execution_count": 9,
   "metadata": {},
   "outputs": [
    {
     "name": "stdout",
     "output_type": "stream",
     "text": [
      "8\n"
     ]
    }
   ],
   "source": [
    "def n_power(n):\n",
    "    return lambda x: x**n\n",
    "\n",
    "third_power = n_power(3)\n",
    "\n",
    "print(third_power(2))"
   ]
  },
  {
   "cell_type": "markdown",
   "metadata": {},
   "source": [
    "<div style=\"background-color: #FFF; color: #212121; border-radius: 1px; width:22ch; box-shadow: rgba(0, 0, 0, 0.16) 0px 1px 4px; display: flex; justify-content: center; align-items: center;\">\n",
    "<div style=\"padding: 1.5em 0; width: 70%;\">\n",
    "    <h2 style=\"font-size: 1.2rem;\">Kokchun Giang</h2>\n",
    "    <a href=\"https://www.linkedin.com/in/kokchungiang/\" target=\"_blank\" style=\"display: flex; align-items: center; gap: .4em; color:#0A66C2;\">\n",
    "        <img src=\"https://content.linkedin.com/content/dam/me/business/en-us/amp/brand-site/v2/bg/LI-Bug.svg.original.svg\" width=\"20\"> \n",
    "        LinkedIn profile\n",
    "    </a>\n",
    "    <a href=\"https://github.com/kokchun/Portfolio-Kokchun-Giang\" target=\"_blank\" style=\"display: flex; align-items: center; gap: .4em; margin: 1em 0; color:#0A66C2;\">\n",
    "        <img src=\"https://github.githubassets.com/images/modules/logos_page/GitHub-Mark.png\" width=\"20\"> \n",
    "        Github portfolio\n",
    "    </a>\n",
    "    <span>AIgineer AB</span>\n",
    "<div>\n",
    "</div>\n"
   ]
  }
 ],
 "metadata": {
  "kernelspec": {
   "display_name": "Python 3.9.6 64-bit",
   "language": "python",
   "name": "python3"
  },
  "language_info": {
   "codemirror_mode": {
    "name": "ipython",
    "version": 3
   },
   "file_extension": ".py",
   "mimetype": "text/x-python",
   "name": "python",
   "nbconvert_exporter": "python",
   "pygments_lexer": "ipython3",
   "version": "3.9.9"
  },
  "orig_nbformat": 4,
  "vscode": {
   "interpreter": {
    "hash": "0da836a34428266995a795f1e1e27b816fa1c02f148d9728b3fbbbc5459afca6"
   }
  }
 },
 "nbformat": 4,
 "nbformat_minor": 2
}
