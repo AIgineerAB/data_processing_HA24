{
 "cells": [
  {
   "cell_type": "markdown",
   "metadata": {},
   "source": [
    "\n",
    "<div style=\"max-width:66ch;\">\n",
    "\n",
    "# Lecture notes - for-statement\n",
    "\n",
    "This is the lecture note for **for-statement**, but it's built upon contents from previous lectures such as: \n",
    "- input-output\n",
    "- variables\n",
    "- if-statement\n",
    "\n",
    "for loop is used for repeating code by iterating over a sequence such as a list. \n",
    "\n",
    "Read more [w3schools - for loop](https://www.w3schools.com/python/python_for_loops.asp)\n",
    "\n",
    "\n",
    "</div>"
   ]
  },
  {
   "cell_type": "markdown",
   "metadata": {},
   "source": [
    "<div style=\"max-width:66ch;\">\n",
    "\n",
    "## range() function\n",
    "\n",
    "Used together with for loop to repeat code a certain number of times. \n",
    "\n",
    "```python\n",
    "for i in range(n): \n",
    "    print(i)\n",
    "```\n",
    "i will start from 0 and end with n-1. n must be an integer. \n",
    "\n",
    "```python\n",
    "for i in range(start, end, step):\n",
    "    print(i)\n",
    "``` \n",
    "prints i from start to end-1 with step as the increment\n",
    "\n",
    "</div>"
   ]
  },
  {
   "cell_type": "code",
   "execution_count": 1,
   "metadata": {},
   "outputs": [
    {
     "name": "stdout",
     "output_type": "stream",
     "text": [
      "0 Hello\n",
      "1 Hello\n",
      "2 Hello\n"
     ]
    }
   ],
   "source": [
    "for i in range(3): # note that the count starts from 0\n",
    "    print(f\"{i} Hello\")"
   ]
  },
  {
   "cell_type": "code",
   "execution_count": 2,
   "metadata": {},
   "outputs": [
    {
     "name": "stdout",
     "output_type": "stream",
     "text": [
      "0 1 2 3 4 5 6 7 8 9 "
     ]
    }
   ],
   "source": [
    "# print out numbers without newlines\n",
    "for i in range(10):\n",
    "    print(i, end=\" \")"
   ]
  },
  {
   "cell_type": "code",
   "execution_count": 3,
   "metadata": {},
   "outputs": [
    {
     "name": "stdout",
     "output_type": "stream",
     "text": [
      "0+1+2+3+4+5=15\n"
     ]
    }
   ],
   "source": [
    "sum = 0\n",
    "# calculate sum from 0-5\n",
    "for i in range(6): # note that 6\n",
    "    sum += i\n",
    "\n",
    "print(f\"0+1+2+3+4+5={sum}\")"
   ]
  },
  {
   "cell_type": "code",
   "execution_count": 4,
   "metadata": {},
   "outputs": [
    {
     "name": "stdout",
     "output_type": "stream",
     "text": [
      "1+3+5+7+9+11+13+15+17+19=100"
     ]
    }
   ],
   "source": [
    "sum = 0\n",
    "# calculate sum of all odd numbers between 1 and 100\n",
    "for i in range(1,20,2):\n",
    "    sum += i # addition\n",
    "\n",
    "    # nice printing\n",
    "    print(f\"{i}\", end = \"\")\n",
    "    if i != 19:\n",
    "        print(\"+\", end=\"\")\n",
    "\n",
    "    if i == 19:\n",
    "        print(f\"={sum}\", end=\"\")"
   ]
  },
  {
   "cell_type": "markdown",
   "metadata": {},
   "source": [
    "<div style=\"max-width:66ch;\">\n",
    "\n",
    "## random module\n",
    "\n",
    "Used to generate random numbers. \n",
    "\n",
    "Read more: [w3schools - random module](https://www.w3schools.com/python/module_random.asp)\n",
    "\n",
    "</div>"
   ]
  },
  {
   "cell_type": "code",
   "execution_count": 5,
   "metadata": {},
   "outputs": [
    {
     "name": "stdout",
     "output_type": "stream",
     "text": [
      "Number of sixes 1690 in 10000 dice rolls\n",
      "Probability of six 0.169\n"
     ]
    }
   ],
   "source": [
    "import random as rnd # the random module can now be accessed through rnd \n",
    "\n",
    "num_six = 0\n",
    "dice_rolls = 10000\n",
    "\n",
    "# dice simulations - count number of sixes \n",
    "for i in range(dice_rolls):\n",
    "    dice = rnd.randint(1,6) # generates a random integer between 1 and 6\n",
    "    if dice == 6:\n",
    "        num_six += 1\n",
    "\n",
    "print(f\"Number of sixes {num_six} in {dice_rolls} dice rolls\")  \n",
    "print(f\"Probability of six {num_six/dice_rolls}\")"
   ]
  },
  {
   "cell_type": "markdown",
   "metadata": {},
   "source": [
    "<div style=\"max-width:66ch;\">\n",
    "\n",
    "## Loop through list\n",
    "\n",
    "A list is a data type to store several items in a variable. There will be a separate lecture note for lists.\n",
    "\n",
    "Read more [w3schools - lists](https://www.w3schools.com/python/python_lists.asp)\n",
    "\n",
    "</div>\n"
   ]
  },
  {
   "cell_type": "code",
   "execution_count": 6,
   "metadata": {},
   "outputs": [
    {
     "name": "stdout",
     "output_type": "stream",
     "text": [
      "I love to eat\n",
      "apple\n",
      "orange\n",
      "grape\n",
      "strawberry\n"
     ]
    }
   ],
   "source": [
    "fruits = [\"apple\", \"orange\", \"grape\", \"strawberry\"]\n",
    "\n",
    "print(\"I love to eat\")\n",
    "for fruit in fruits: # variable fruit will contain a value at a time from fruits\n",
    "    print(fruit)"
   ]
  },
  {
   "cell_type": "code",
   "execution_count": 7,
   "metadata": {},
   "outputs": [
    {
     "name": "stdout",
     "output_type": "stream",
     "text": [
      "My favorite fruits are: \n",
      "1. apple\n",
      "2. orange\n",
      "3. grape\n",
      "4. strawberry\n"
     ]
    }
   ],
   "source": [
    "print(\"My favorite fruits are: \")\n",
    "# enumerate to get a number for each element in a list that you loop through\n",
    "for i, fruit in enumerate(fruits,1): # 1 gives the starting number\n",
    "    print(f\"{i}. {fruit}\")\n"
   ]
  },
  {
   "cell_type": "markdown",
   "metadata": {},
   "source": [
    "<div style=\"max-width:66ch;\">\n",
    "\n",
    "## Nested for loop\n",
    "\n",
    "A for loop inside another for loop. The inner loop will run for each iteration of the outer loop.\n",
    "\n",
    "\n",
    "</div>"
   ]
  },
  {
   "cell_type": "code",
   "execution_count": 8,
   "metadata": {},
   "outputs": [
    {
     "name": "stdout",
     "output_type": "stream",
     "text": [
      "(0,0)(0,1)(0,2)\n",
      "(1,0)(1,1)(1,2)\n",
      "(2,0)(2,1)(2,2)\n"
     ]
    }
   ],
   "source": [
    "# matrix coordinates\n",
    "for x in range(0,3):\n",
    "    for j in range(0,3):\n",
    "        print(f\"({x},{j})\", end=\"\")    \n",
    "    print() "
   ]
  },
  {
   "cell_type": "markdown",
   "metadata": {},
   "source": [
    "<div style=\"background-color: #FFF; color: #212121; border-radius: 1px; width:22ch; box-shadow: rgba(0, 0, 0, 0.16) 0px 1px 4px; display: flex; justify-content: center; align-items: center;\">\n",
    "<div style=\"padding: 1.5em 0; width: 70%;\">\n",
    "    <h2 style=\"font-size: 1.2rem;\">Kokchun Giang</h2>\n",
    "    <a href=\"https://www.linkedin.com/in/kokchungiang/\" target=\"_blank\" style=\"display: flex; align-items: center; gap: .4em; color:#0A66C2;\">\n",
    "        <img src=\"https://content.linkedin.com/content/dam/me/business/en-us/amp/brand-site/v2/bg/LI-Bug.svg.original.svg\" width=\"20\"> \n",
    "        LinkedIn profile\n",
    "    </a>\n",
    "    <a href=\"https://github.com/kokchun/Portfolio-Kokchun-Giang\" target=\"_blank\" style=\"display: flex; align-items: center; gap: .4em; margin: 1em 0; color:#0A66C2;\">\n",
    "        <img src=\"https://github.githubassets.com/images/modules/logos_page/GitHub-Mark.png\" width=\"20\"> \n",
    "        Github portfolio\n",
    "    </a>\n",
    "    <span>AIgineer AB</span>\n",
    "<div>\n",
    "</div>\n"
   ]
  }
 ],
 "metadata": {
  "kernelspec": {
   "display_name": "Python 3.9.6 64-bit",
   "language": "python",
   "name": "python3"
  },
  "language_info": {
   "codemirror_mode": {
    "name": "ipython",
    "version": 3
   },
   "file_extension": ".py",
   "mimetype": "text/x-python",
   "name": "python",
   "nbconvert_exporter": "python",
   "pygments_lexer": "ipython3",
   "version": "3.9.9"
  },
  "orig_nbformat": 4,
  "vscode": {
   "interpreter": {
    "hash": "0da836a34428266995a795f1e1e27b816fa1c02f148d9728b3fbbbc5459afca6"
   }
  }
 },
 "nbformat": 4,
 "nbformat_minor": 2
}
