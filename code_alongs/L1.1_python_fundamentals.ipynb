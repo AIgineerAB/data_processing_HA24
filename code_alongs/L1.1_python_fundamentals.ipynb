{
 "cells": [
  {
   "cell_type": "markdown",
   "metadata": {},
   "source": [
    "# Python fundamentals continued"
   ]
  },
  {
   "cell_type": "markdown",
   "metadata": {},
   "source": [
    "## if - statements\n",
    "\n",
    "- if\n",
    "- if - else\n",
    "- if - elif - elif - else\n",
    "- oneline if-statement"
   ]
  },
  {
   "cell_type": "code",
   "execution_count": 5,
   "metadata": {},
   "outputs": [
    {
     "name": "stdout",
     "output_type": "stream",
     "text": [
      "Accuracy level is 0.3, which is a bad performance\n"
     ]
    }
   ],
   "source": [
    "accuracy = .3\n",
    "\n",
    "if accuracy > .9:\n",
    "    model_performance = \"Good\"\n",
    "elif accuracy > .5:\n",
    "    model_performance = \"Moderate\"\n",
    "else:\n",
    "    model_performance = \"Bad\"\n",
    "\n",
    "print(f\"Accuracy level is {accuracy}, which is a {model_performance.lower()} performance\")"
   ]
  },
  {
   "cell_type": "code",
   "execution_count": 7,
   "metadata": {},
   "outputs": [
    {
     "data": {
      "text/plain": [
       "'Not good'"
      ]
     },
     "execution_count": 7,
     "metadata": {},
     "output_type": "execute_result"
    }
   ],
   "source": [
    "# ternary operator: ? :\n",
    "performance = \"Good\" if accuracy > .9 else \"Not good\"\n",
    "performance"
   ]
  },
  {
   "cell_type": "markdown",
   "metadata": {},
   "source": [
    "# while statement \n",
    "\n",
    "- \"if-loop\"\n",
    "\n",
    "## Example - oil leakage\n",
    "\n",
    "There is an oil leakage causing the bird population in an island to 1/2 in each year. From start there were 80000 birds, how many years does it take for it to have 1/10 remaining?"
   ]
  },
  {
   "cell_type": "code",
   "execution_count": 8,
   "metadata": {},
   "outputs": [
    {
     "data": {
      "text/plain": [
       "4"
      ]
     },
     "execution_count": 8,
     "metadata": {},
     "output_type": "execute_result"
    }
   ],
   "source": [
    "birds = 80000\n",
    "year = 0\n",
    "\n",
    "while birds > 8000:\n",
    "    # assignment operator\n",
    "    birds /= 2 # birds = birds / 2\n",
    "    year += 1 # year = year + 1\n",
    "\n",
    "year"
   ]
  },
  {
   "cell_type": "markdown",
   "metadata": {},
   "source": [
    "## for statements"
   ]
  },
  {
   "cell_type": "code",
   "execution_count": 9,
   "metadata": {},
   "outputs": [
    {
     "name": "stdout",
     "output_type": "stream",
     "text": [
      "K-means\n",
      "PCA\n",
      "GMM\n"
     ]
    }
   ],
   "source": [
    "unsupervised_abbreviations = [\"K-means\", \"PCA\", \"GMM\"]\n",
    "unsupervised_algorithms = [\"K-means clustering\", \"Principal component analysis\", \"Gaussian Mixture Models\"]\n",
    "\n",
    "# iterate through a list\n",
    "for abbreviation in unsupervised_abbreviations:\n",
    "    print(abbreviation)"
   ]
  },
  {
   "cell_type": "code",
   "execution_count": 11,
   "metadata": {},
   "outputs": [
    {
     "name": "stdout",
     "output_type": "stream",
     "text": [
      "0 K-means\n",
      "1 PCA\n",
      "2 GMM\n"
     ]
    }
   ],
   "source": [
    "for i, abbreviation in enumerate(unsupervised_abbreviations):\n",
    "    print(i, abbreviation)"
   ]
  },
  {
   "cell_type": "code",
   "execution_count": 14,
   "metadata": {},
   "outputs": [
    {
     "name": "stdout",
     "output_type": "stream",
     "text": [
      "1 K-means\n",
      "2 PCA\n",
      "3 GMM\n"
     ]
    }
   ],
   "source": [
    "for i, abbreviation in enumerate(unsupervised_abbreviations, 1):\n",
    "    print(i, abbreviation)"
   ]
  },
  {
   "cell_type": "code",
   "execution_count": 15,
   "metadata": {},
   "outputs": [
    {
     "name": "stdout",
     "output_type": "stream",
     "text": [
      "K-means: K-means clustering\n",
      "PCA: Principal component analysis\n",
      "GMM: Gaussian Mixture Models\n"
     ]
    }
   ],
   "source": [
    "for abbreviation, full_name in zip(unsupervised_abbreviations, unsupervised_algorithms):\n",
    "    print(f\"{abbreviation}: {full_name}\")"
   ]
  }
 ],
 "metadata": {
  "kernelspec": {
   "display_name": "venv",
   "language": "python",
   "name": "python3"
  },
  "language_info": {
   "codemirror_mode": {
    "name": "ipython",
    "version": 3
   },
   "file_extension": ".py",
   "mimetype": "text/x-python",
   "name": "python",
   "nbconvert_exporter": "python",
   "pygments_lexer": "ipython3",
   "version": "3.12.0"
  }
 },
 "nbformat": 4,
 "nbformat_minor": 2
}
