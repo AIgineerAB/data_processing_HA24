{
 "cells": [
  {
   "cell_type": "markdown",
   "metadata": {},
   "source": [
    "# Code alongs - OOP polymorphism and inheritance"
   ]
  },
  {
   "cell_type": "code",
   "execution_count": 1,
   "metadata": {},
   "outputs": [
    {
     "data": {
      "text/plain": [
       "OldCoinStash(owner='Ragnar')"
      ]
     },
     "execution_count": 1,
     "metadata": {},
     "output_type": "execute_result"
    }
   ],
   "source": [
    "from helper_modules.oldcoins import OldCoinsStash\n",
    "\n",
    "OldCoinsStash(\"Ragnar\")"
   ]
  },
  {
   "cell_type": "code",
   "execution_count": 4,
   "metadata": {},
   "outputs": [
    {
     "name": "stdout",
     "output_type": "stream",
     "text": [
      "Person Kokchun says hi\n",
      "Age must be a number not <class 'str'>\n"
     ]
    }
   ],
   "source": [
    "from numbers import Number\n",
    "\n",
    "class Person:\n",
    "    \"\"\"Base class with generic methods and attributes shared by all subclasses\"\"\"\n",
    "    def __init__(self, name: str, age: int) -> None:\n",
    "        self.age = age \n",
    "        self.name = name \n",
    "\n",
    "    @property\n",
    "    def age(self) -> int:\n",
    "        return self._age \n",
    "    \n",
    "    @age.setter\n",
    "    def age(self, value: Number) -> None:\n",
    "        if not isinstance(value, Number):\n",
    "            raise TypeError(f\"Age must be a number not {type(value)}\")\n",
    "        \n",
    "        # validate that age is valid age \n",
    "        # VALIDATION CODE GOES HERE\n",
    "\n",
    "        self._age = value\n",
    "\n",
    "    # property for name with validation code in setter \n",
    "        \n",
    "    def say_hi(self) -> None:\n",
    "        print(f\"Person {self.name} says hi\")\n",
    "\n",
    "\n",
    "        \n",
    "p1 = Person(\"Kokchun\", 32)\n",
    "p1.say_hi()\n",
    "\n",
    "try:\n",
    "    p2 = Person(\"Gore Bord\", \"trettiofem\")\n",
    "except TypeError as err:\n",
    "    print(err)"
   ]
  },
  {
   "cell_type": "code",
   "execution_count": 7,
   "metadata": {},
   "outputs": [
    {
     "name": "stdout",
     "output_type": "stream",
     "text": [
      "Student Bella talks Python\n",
      "Age must be a number not <class 'str'>\n"
     ]
    }
   ],
   "source": [
    "# Student inherits from Person\n",
    "class Student(Person):\n",
    "    \"\"\"A student is a Person that knows a language\"\"\"\n",
    "    def __init__(self, name: str, age: int, language: str) -> None:\n",
    "        super().__init__(name, age) # uses parent class dunder init\n",
    "        \n",
    "        self.language = language\n",
    "\n",
    "    # overrides say_hi() \n",
    "    def say_hi(self) -> None:\n",
    "        print(f\"Student {self.name} talks {self.language}\")\n",
    "\n",
    "\n",
    "s1 = Student(\"Bella\", 2, \"Python\")\n",
    "s1.say_hi()\n",
    "\n",
    "# validation code for age is taken from parents age property\n",
    "try:\n",
    "    s2 = Student(\"Hanna\", \"twenty-two\", \"C#\")\n",
    "except TypeError as err:\n",
    "    print(err)"
   ]
  },
  {
   "cell_type": "code",
   "execution_count": 9,
   "metadata": {},
   "outputs": [
    {
     "name": "stdout",
     "output_type": "stream",
     "text": [
      "Person Bjorn Ironsight says hi\n"
     ]
    }
   ],
   "source": [
    "class Viking(Person):\n",
    "    \"\"\"Viking is a Person, Viking has an OldCoinsStash\"\"\"\n",
    "    def __init__(self, name: str, age: int) -> None:\n",
    "        super().__init__(name, age)\n",
    "\n",
    "        # composition - \"has a\" relation while inheritance \"is a\" relation\n",
    "        self.stash = OldCoinsStash(name)\n",
    "\n",
    "\n",
    "v1 = Viking(\"Bjorn Ironsight\", 36)\n",
    "v1.say_hi()"
   ]
  },
  {
   "cell_type": "code",
   "execution_count": 10,
   "metadata": {},
   "outputs": [
    {
     "name": "stdout",
     "output_type": "stream",
     "text": [
      "Person Kokchun says hi\n",
      "Student Bella talks Python\n",
      "Person Bjorn Ironsight says hi\n"
     ]
    }
   ],
   "source": [
    "people = (p1, s1, v1)\n",
    "\n",
    "# polymorphism\n",
    "for person in people:\n",
    "    # does different things for different types\n",
    "    person.say_hi()\n"
   ]
  },
  {
   "cell_type": "markdown",
   "metadata": {},
   "source": [
    "<div style=\"max-width:66ch;\">\n",
    "\n",
    "---\n",
    "## Operator overloading\n",
    "\n",
    "Ability to define and use custom behavior of operators for your objects. This is achieved by implementing dunder or special methods that correspond to that operator.\n",
    "\n",
    "- it gives additional functionality to an operator\n",
    "- e.g. + is overloaded for strings, int, float etc. \n",
    "- Read more: [operator overloading](https://www.geeksforgeeks.org/operator-overloading-in-python/)\n",
    "\n",
    "<table style=\"display:inline-block; text-align:left;\">\n",
    "  <tr style=\"background-color: #174A7E; color: white;\">\n",
    "    <th>Operator</th>\n",
    "    <th>Dunder Method</th>\n",
    "  </tr>\n",
    "  <tr>\n",
    "    <td style=\"text-align: center;\">+</td>\n",
    "    <td style=\"text-align: center;\">__add__(self, other)</td>\n",
    "  </tr>\n",
    "  <tr>\n",
    "    <td style=\"text-align: center;\">-</td>\n",
    "    <td style=\"text-align: center;\">__sub__(self, other)</td>\n",
    "  </tr>\n",
    "  <tr>\n",
    "    <td style=\"text-align: center;\">*</td>\n",
    "    <td style=\"text-align: center;\">__mul__(self, other)</td>\n",
    "  </tr>\n",
    "  <tr>\n",
    "    <td style=\"text-align: center;\">/</td>\n",
    "    <td style=\"text-align: center;\">__div__(self, other)</td>\n",
    "  </tr>\n",
    "  <tr>\n",
    "    <td style=\"text-align: center;\">//</td>\n",
    "    <td style=\"text-align: center;\">__floordiv__(self, other)</td>\n",
    "  </tr>\n",
    "  <tr>\n",
    "    <td style=\"text-align: center;\">%</td>\n",
    "    <td style=\"text-align: center;\">__mod__(self, other)</td>\n",
    "  </tr>\n",
    "  <tr>\n",
    "    <td style=\"text-align: center;\">**</td>\n",
    "    <td style=\"text-align: center;\">__pow__(self, other)</td>\n",
    "  </tr>\n",
    "  <tr>\n",
    "    <td style=\"text-align: center;\"><</td>\n",
    "    <td style=\"text-align: center;\">__lt__(self, other)</td>\n",
    "  </tr>\n",
    "  <tr>\n",
    "    <td style=\"text-align: center;\"><=</td>\n",
    "    <td style=\"text-align: center;\">__le__(self, other)</td>\n",
    "  </tr>\n",
    "  <tr>\n",
    "    <td style=\"text-align: center;\">></td>\n",
    "    <td style=\"text-align: center;\">__gt__(self, other)</td>\n",
    "  </tr>\n",
    "  <tr>\n",
    "    <td style=\"text-align: center;\">>=</td>\n",
    "    <td style=\"text-align: center;\">__ge__(self, other)</td>\n",
    "  </tr>\n",
    "  <tr>\n",
    "    <td style=\"text-align: center;\">==</td>\n",
    "    <td style=\"text-align: center;\">__eq__(self, other)</td>\n",
    "  </tr>\n",
    "</table>\n",
    "\n",
    "\n",
    "- Note that there are more operators that can be overloaded than those specified in this list\n",
    "\n",
    "</div>"
   ]
  },
  {
   "cell_type": "code",
   "execution_count": 23,
   "metadata": {},
   "outputs": [
    {
     "name": "stdout",
     "output_type": "stream",
     "text": [
      "v1.numbers = (1, 2, 3)\n",
      "v2.numbers = (-4, 2, 1)\n"
     ]
    },
    {
     "ename": "TypeError",
     "evalue": "unsupported operand type(s) for +: 'Vector' and 'Vector'",
     "output_type": "error",
     "traceback": [
      "\u001b[0;31m---------------------------------------------------------------------------\u001b[0m",
      "\u001b[0;31mTypeError\u001b[0m                                 Traceback (most recent call last)",
      "Cell \u001b[0;32mIn[23], line 25\u001b[0m\n\u001b[1;32m     22\u001b[0m v2 \u001b[38;5;241m=\u001b[39m Vector(\u001b[38;5;241m-\u001b[39m\u001b[38;5;241m4\u001b[39m,\u001b[38;5;241m2\u001b[39m,\u001b[38;5;241m1\u001b[39m)\n\u001b[1;32m     23\u001b[0m \u001b[38;5;28mprint\u001b[39m(\u001b[38;5;124mf\u001b[39m\u001b[38;5;124m\"\u001b[39m\u001b[38;5;132;01m{\u001b[39;00mv2\u001b[38;5;241m.\u001b[39mnumbers\u001b[38;5;250m \u001b[39m\u001b[38;5;132;01m= }\u001b[39;00m\u001b[38;5;124m\"\u001b[39m)\n\u001b[0;32m---> 25\u001b[0m \u001b[43mv1\u001b[49m\u001b[43m \u001b[49m\u001b[38;5;241;43m+\u001b[39;49m\u001b[43m \u001b[49m\u001b[43mv2\u001b[49m\n",
      "\u001b[0;31mTypeError\u001b[0m: unsupported operand type(s) for +: 'Vector' and 'Vector'"
     ]
    }
   ],
   "source": [
    "class Vector:\n",
    "    \"\"\"A class to represent a Euclidean vector with magnitude and direction\"\"\"\n",
    "    \n",
    "    # *numbers is a variadic parameter\n",
    "    def __init__(self, *numbers: float) -> None:\n",
    "        for number in numbers:\n",
    "            if not isinstance(number, Number):\n",
    "                raise TypeError(f\"{number} is not a valid number in a vector\")\n",
    "        \n",
    "        if len(numbers) <= 0:\n",
    "            raise ValueError(\"Vector can't be empty\")\n",
    "        \n",
    "        self._numbers = numbers \n",
    "\n",
    "    @property    \n",
    "    def numbers(self) -> tuple:\n",
    "        return self._numbers\n",
    "    \n",
    "v1 = Vector(1,2,3)\n",
    "print(f\"{v1.numbers = }\")\n",
    "\n",
    "v2 = Vector(-4,2,1)\n",
    "print(f\"{v2.numbers = }\")\n",
    "\n",
    "# we haven't implemented __add__() - so plus operator doesn't work\n",
    "v1 + v2"
   ]
  },
  {
   "cell_type": "code",
   "execution_count": 26,
   "metadata": {},
   "outputs": [
    {
     "name": "stdout",
     "output_type": "stream",
     "text": [
      "v1.numbers = (1, 2, 3)\n",
      "v2.numbers = (-4, 2, 1)\n"
     ]
    },
    {
     "data": {
      "text/plain": [
       "(3, 3)"
      ]
     },
     "execution_count": 26,
     "metadata": {},
     "output_type": "execute_result"
    }
   ],
   "source": [
    "class Vector:\n",
    "    \"\"\"A class to represent a Euclidean vector with magnitude and direction\"\"\"\n",
    "    \n",
    "    # *numbers is a variadic parameter\n",
    "    def __init__(self, *numbers: float) -> None:\n",
    "        for number in numbers:\n",
    "            if not isinstance(number, Number):\n",
    "                raise TypeError(f\"{number} is not a valid number in a vector\")\n",
    "        \n",
    "        if len(numbers) <= 0:\n",
    "            raise ValueError(\"Vector can't be empty\")\n",
    "        \n",
    "        self._numbers = numbers \n",
    "\n",
    "    @property    \n",
    "    def numbers(self) -> tuple:\n",
    "        return self._numbers\n",
    "    \n",
    "    def __add__(self, other: Vector) -> Vector:\n",
    "        if self.validate_vectors(other):\n",
    "            numbers = (a+b for a,b in zip(self.numbers, other.numbers))\n",
    "            return Vector(*numbers)\n",
    "\n",
    "    def validate_vectors(self, other: Vector) -> bool:\n",
    "        \"\"\"Validates if two vectors have same number of elements\"\"\"\n",
    "        if not isinstance(other, Vector) or len(other) != len(self):\n",
    "            raise TypeError(\"Both must be Vector and have same number of elements\")\n",
    "        return len(self) == len(other)\n",
    "\n",
    "    # operator overloaded len()\n",
    "    def __len__(self) -> int:\n",
    "        return len(self.numbers)\n",
    "\n",
    "\n",
    "v1 = Vector(1,2,3)\n",
    "print(f\"{v1.numbers = }\")\n",
    "\n",
    "v2 = Vector(-4,2,1)\n",
    "print(f\"{v2.numbers = }\")\n",
    "\n",
    "len(v2), len(v1)"
   ]
  }
 ],
 "metadata": {
  "kernelspec": {
   "display_name": "venv",
   "language": "python",
   "name": "python3"
  },
  "language_info": {
   "codemirror_mode": {
    "name": "ipython",
    "version": 3
   },
   "file_extension": ".py",
   "mimetype": "text/x-python",
   "name": "python",
   "nbconvert_exporter": "python",
   "pygments_lexer": "ipython3",
   "version": "3.12.0"
  }
 },
 "nbformat": 4,
 "nbformat_minor": 2
}
