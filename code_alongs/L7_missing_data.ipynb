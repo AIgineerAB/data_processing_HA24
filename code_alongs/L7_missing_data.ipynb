{
 "cells": [
  {
   "cell_type": "markdown",
   "metadata": {},
   "source": [
    "# Code alongs missing data"
   ]
  },
  {
   "cell_type": "markdown",
   "metadata": {},
   "source": [
    "## Simulating missing values"
   ]
  },
  {
   "cell_type": "code",
   "execution_count": 10,
   "metadata": {},
   "outputs": [
    {
     "data": {
      "text/plain": [
       "array([[7, 4, 8, 5, 7, 3, 7, 8],\n",
       "       [5, 4, 8, 8, 3, 6, 5, 2],\n",
       "       [8, 6, 2, 5, 1, 6, 9, 1],\n",
       "       [3, 7, 4, 9, 3, 5, 3, 7],\n",
       "       [5, 9, 7, 2, 4, 9, 2, 9],\n",
       "       [5, 2, 4, 7, 8, 3, 1, 4],\n",
       "       [2, 8, 4, 2, 6, 6, 4, 6],\n",
       "       [2, 2, 4, 8, 7, 9, 8, 5]])"
      ]
     },
     "execution_count": 10,
     "metadata": {},
     "output_type": "execute_result"
    }
   ],
   "source": [
    "import numpy as np \n",
    "import pandas as pd \n",
    "\n",
    "# in order to get comparable results \n",
    "np.random.seed(42)\n",
    "n = 8 \n",
    "\n",
    "random_matrix = np.random.randint(1,10, size=(n,n))\n",
    "random_matrix\n",
    "\n"
   ]
  },
  {
   "cell_type": "code",
   "execution_count": 12,
   "metadata": {},
   "outputs": [
    {
     "data": {
      "text/plain": [
       "64"
      ]
     },
     "execution_count": 12,
     "metadata": {},
     "output_type": "execute_result"
    }
   ],
   "source": [
    "random_matrix.size"
   ]
  },
  {
   "cell_type": "code",
   "execution_count": 11,
   "metadata": {},
   "outputs": [
    {
     "data": {
      "text/plain": [
       "array([21, 20, 36,  3,  5, 29, 12, 37, 41, 33])"
      ]
     },
     "execution_count": 11,
     "metadata": {},
     "output_type": "execute_result"
    }
   ],
   "source": [
    "index = np.random.choice(random_matrix.size, 10, replace=False)\n",
    "index"
   ]
  },
  {
   "cell_type": "code",
   "execution_count": 13,
   "metadata": {},
   "outputs": [
    {
     "data": {
      "text/plain": [
       "array([7, 4, 8, 5, 7, 3, 7, 8, 5, 4, 8, 8, 3, 6, 5, 2, 8, 6, 2, 5, 1, 6,\n",
       "       9, 1, 3, 7, 4, 9, 3, 5, 3, 7, 5, 9, 7, 2, 4, 9, 2, 9, 5, 2, 4, 7,\n",
       "       8, 3, 1, 4, 2, 8, 4, 2, 6, 6, 4, 6, 2, 2, 4, 8, 7, 9, 8, 5])"
      ]
     },
     "execution_count": 13,
     "metadata": {},
     "output_type": "execute_result"
    }
   ],
   "source": [
    "# flattens our 8x8 2D-array into a 64 1D-array \n",
    "random_matrix.ravel()"
   ]
  },
  {
   "cell_type": "code",
   "execution_count": 17,
   "metadata": {},
   "outputs": [
    {
     "data": {
      "text/plain": [
       "array([[ 7.,  4.,  8., nan,  7., nan,  7.,  8.],\n",
       "       [ 5.,  4.,  8.,  8., nan,  6.,  5.,  2.],\n",
       "       [ 8.,  6.,  2.,  5., nan, nan,  9.,  1.],\n",
       "       [ 3.,  7.,  4.,  9.,  3., nan,  3.,  7.],\n",
       "       [ 5., nan,  7.,  2., nan, nan,  2.,  9.],\n",
       "       [ 5., nan,  4.,  7.,  8.,  3.,  1.,  4.],\n",
       "       [ 2.,  8.,  4.,  2.,  6.,  6.,  4.,  6.],\n",
       "       [ 2.,  2.,  4.,  8.,  7.,  9.,  8.,  5.]])"
      ]
     },
     "execution_count": 17,
     "metadata": {},
     "output_type": "execute_result"
    }
   ],
   "source": [
    "# need to convert our random_matrix into floats \n",
    "# because can't assign None to int as np.nan is float\n",
    "random_matrix = random_matrix*1.0\n",
    "random_matrix.ravel()[index] = None\n",
    "random_matrix"
   ]
  },
  {
   "cell_type": "markdown",
   "metadata": {},
   "source": []
  }
 ],
 "metadata": {
  "kernelspec": {
   "display_name": "venv",
   "language": "python",
   "name": "python3"
  },
  "language_info": {
   "codemirror_mode": {
    "name": "ipython",
    "version": 3
   },
   "file_extension": ".py",
   "mimetype": "text/x-python",
   "name": "python",
   "nbconvert_exporter": "python",
   "pygments_lexer": "ipython3",
   "version": "3.12.0"
  }
 },
 "nbformat": 4,
 "nbformat_minor": 2
}
