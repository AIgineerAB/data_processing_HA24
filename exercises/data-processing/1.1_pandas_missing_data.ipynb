{
 "cells": [
  {
   "cell_type": "markdown",
   "metadata": {},
   "source": [
    "<div style=\"max-width:66ch;\">\n",
    "\n",
    "# Missing data and aggregations exercises\n",
    "\n",
    "---\n",
    "These are introductory exercises in Pandas with focus in **syntax, indexing, data selection, missing data, aggregations, visualizations** and **data cleaning**.\n",
    "\n",
    "<p class = \"alert alert-info\" role=\"alert\"><b>Note</b> all datasets used in this exercise can be found under Data folder of the course Github repo</p>\n",
    "\n",
    "<p class = \"alert alert-info\" role=\"alert\"><b>Note</b> that there are usually many ways to achieve same results using operations in pandas. Feel free to investigate several ways. </p>\n",
    "\n",
    "<p class = \"alert alert-info\" role=\"alert\"><b>Note</b> that in cases when you start to repeat code, try not to. Create functions to reuse code instead. </p>\n",
    "\n",
    "<p class = \"alert alert-info\" role=\"alert\"><b>Remember</b> to use <b>descriptive variable, function, index </b> and <b> column names</b> in order to get readable code </p>\n",
    "\n",
    "<p class = \"alert alert-info\" role=\"alert\"><b>Remember</b> to format your input questions in a pedagogical way to guide the user\n",
    "\n",
    "The number of stars (\\*), (\\*\\*), (\\*\\*\\*) denotes the difficulty level of the task\n",
    "\n",
    "---\n",
    "\n",
    "</div>"
   ]
  },
  {
   "cell_type": "markdown",
   "metadata": {},
   "source": [
    "<div style=\"max-width:66ch;\">\n",
    "\n",
    "## 0. Find missing values (*)\n",
    "\n",
    "&nbsp; a) Read in the file \"student-mat-missing-data.csv\" found in the course github repo into a Pandas DataFrame\n",
    "\n",
    "&nbsp; b) Do some initial explorations with the methods to get an understanding of the dataset:\n",
    "```py\n",
    "head(), info(), describe(), value_counts(), unique, columns()\n",
    "```\n",
    "\n",
    "&nbsp; c) Create a function that takes in a DataFrame as input parameter and plots a barplot with the columns that have missing values. Put this function into a file called data_utils.py.\n",
    "When you come across more useful functions, you can store them in your data_utils module. \n",
    "\n",
    "&nbsp; d) Now import your function from the module data_utils and use it to visualize NaNs in your dataset.\n",
    "\n",
    "&nbsp; e) Find all rows where the freetime is NaN.   \n",
    "\n",
    "&nbsp; f) Find all rows where the freetime **or** the age is NaN.  \n",
    "\n",
    "&nbsp; g) You will notice that some rows have several NaNs. Now compute the proportion that these rows constitute of the whole dataset.\n",
    "\n",
    "</div>\n",
    "\n",
    "\n"
   ]
  },
  {
   "cell_type": "markdown",
   "metadata": {},
   "source": [
    "<div style=\"max-width:66ch;\">\n",
    "\n",
    "---\n",
    "## 2. Clean the data (*)\n",
    "\n",
    "&nbsp; a) As you have conversed with a domain expert you both agree that there are too many missing data to fill in and the proportion is small enough to be safe to just remove.  \n",
    "Now remove these rows and use your missing-value utility function visualize the remaining NaNs.\n",
    "\n",
    "&nbsp; b) The domain expert has told you that you have to fill in the missing age values.\n",
    "Start with visualising the age distribution in the dataset using a histogram. \n",
    "\n",
    "&nbsp; c) Check which columns there are in the dataset to see what can be utilised in determining the age.\n",
    "\n",
    "&nbsp; d) The column higher seems interesting. Let's see which unique values it can have. \n",
    "\n",
    "&nbsp; e) Let's see if we can see some connection between age distribution and higher.\n",
    "Make 3 subplots of age histograms:\n",
    "- Plot 1: same as b)\n",
    "- Plot 2: age distribution when higher is yes \n",
    "- Plot 3: age distribution when higher is no  \n",
    "\n",
    "&nbsp; f) That was hard to find a connection. When reading [dataset source](https://www.kaggle.com/uciml/student-alcohol-consumption) we find alcohol consumption, maybe there is some connection between age and alcohol consumption.\n",
    "- Dalc - workday alcohol consumption (numeric: from 1 - very low to 5 - very high)\n",
    "- Walc - weekend alcohol consumption (numeric: from 1 - very low to 5 - very high)\n",
    "\n",
    "&nbsp; Start with creating a new column called Alcohol, which is a sum of Dalc and Walc columns\n",
    "\n",
    "&nbsp; g) Make a barchart for alcohol consumption vs age.\n",
    "\n",
    "&nbsp; h) We see that older students tend to drink more, but notice how few 20-22 year-old students we have in the dataset. We can definitely exclude them when computing the missing values. However there are also few 19 year-old students in the dataset, say for simplicity that we can exclude them as well. This leaves: \n",
    "- alcohol level >= 4 -> 16, 17 or 18 years old -> take median to simplify \n",
    "- alcohol level < 4 -> 15 years old\n",
    "\n",
    "Fill these in and visualize missing values. \n",
    "\n",
    "&nbsp; Note: could make more stringent by computing percentages based on the distribution\n",
    "\n",
    "</div>\n",
    "\n",
    "\n"
   ]
  },
  {
   "cell_type": "markdown",
   "metadata": {},
   "source": [
    "<div style=\"max-width:66ch;\">\n",
    "\n",
    "---\n",
    "## 3. Clean freetime column (**)\n",
    "\n",
    "Now there are missing data on freetime that needs to be filled. \n",
    "- Try yourself and find reasonable approaches for how you would fill those missing data.\n",
    "- Document what you have tried and different findings\n",
    "- Combine suitable visualizations with pandas methods\n",
    "\n",
    "</div>\n"
   ]
  },
  {
   "cell_type": "markdown",
   "metadata": {},
   "source": [
    "<div style=\"width: 66ch;\">\n",
    "\n",
    "\n",
    "</div>"
   ]
  },
  {
   "cell_type": "markdown",
   "metadata": {},
   "source": [
    "<div style=\"background-color: #FFF; color: #212121; border-radius: 20px; width:25ch; box-shadow: rgba(0, 0, 0, 0.16) 0px 1px 4px; display: flex; justify-content: center; align-items: center;\">\n",
    "<div style=\"padding: 1em; width: 60%;\">\n",
    "    <h2 style=\"font-size: 1.2rem;\">Kokchun Giang</h2>\n",
    "    <a href=\"https://www.linkedin.com/in/kokchungiang/\" target=\"_blank\" style=\"display: flex; align-items: center; gap: .4em; color:#0A66C2;\">\n",
    "        <img src=\"https://content.linkedin.com/content/dam/me/business/en-us/amp/brand-site/v2/bg/LI-Bug.svg.original.svg\" width=\"20\"> \n",
    "        LinkedIn profile\n",
    "    </a>\n",
    "    <a href=\"https://github.com/kokchun/Portfolio-Kokchun-Giang\" target=\"_blank\" style=\"display: flex; align-items: center; gap: .4em; margin: 1em 0; color:#0A66C2;\">\n",
    "        <img src=\"https://github.githubassets.com/images/modules/logos_page/GitHub-Mark.png\" width=\"20\"> \n",
    "        Github portfolio\n",
    "    </a>\n",
    "    <span>AIgineer AB</span>\n",
    "    <div>\n",
    "</div>"
   ]
  }
 ],
 "metadata": {
  "kernelspec": {
   "display_name": "Python 3.9.6 64-bit",
   "language": "python",
   "name": "python3"
  },
  "language_info": {
   "codemirror_mode": {
    "name": "ipython",
    "version": 3
   },
   "file_extension": ".py",
   "mimetype": "text/x-python",
   "name": "python",
   "nbconvert_exporter": "python",
   "pygments_lexer": "ipython3",
   "version": "3.9.9"
  },
  "orig_nbformat": 4,
  "vscode": {
   "interpreter": {
    "hash": "0da836a34428266995a795f1e1e27b816fa1c02f148d9728b3fbbbc5459afca6"
   }
  }
 },
 "nbformat": 4,
 "nbformat_minor": 2
}
