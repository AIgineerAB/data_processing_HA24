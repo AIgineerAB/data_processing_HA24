{
 "cells": [
  {
   "cell_type": "markdown",
   "metadata": {},
   "source": [
    "# Exercise - exceptions and error handling\n",
    "\n",
    "<div style=\"max-width: 66ch;\">\n",
    "\n",
    "---\n",
    "These are introductory exercises in Python with focus in **error handling**, which refers to the process of anticipating, detecting, and responding to errors that may occur during the execution of a program.  \n",
    "\n",
    "<p class = \"alert alert-info\" role=\"alert\"><b>Remember</b> to use <b>descriptive variables</b> in order to get readable code </p>\n",
    "\n",
    "<p class = \"alert alert-info\" role=\"alert\"><b>Remember</b> to format your answers in a neat way using <b>f-strings</b>\n",
    "\n",
    "<p class = \"alert alert-info\" role=\"alert\"><b>Remember</b> to format your input questions in a pedagogical way to guide the user\n",
    "\n",
    "The number of stars (\\*), (\\*\\*), (\\*\\*\\*) denotes the difficulty level of the task\n",
    "\n",
    "---\n",
    "\n",
    "</div>"
   ]
  },
  {
   "cell_type": "markdown",
   "metadata": {},
   "source": [
    "<div style=\"max-width:66ch;\">\n",
    "\n",
    "## 0. Find and fix errors (*)\n",
    "\n",
    "Find the errors in this code to compute the distance between the point $(x,y)$ and the origin in a cartesian coordinate system.\n",
    "\n",
    "```python\n",
    "impor numpy as np\n",
    "\n",
    "def distance(x,y)\n",
    "    reurn np.sqrt(x+y)\n",
    "\n",
    "print(distance([0.5, 0.5]))\n",
    "\n",
    "```\n",
    "\n",
    "\n",
    "---\n",
    "## 1. Find and fix errors (*)\n",
    "\n",
    "Find the errors in this code. Just change the function, don't touch the test program.\n",
    "\n",
    "```python\n",
    "\n",
    "def is_fourdigit(number):\n",
    "    if number//1000 < 10\n",
    "        return true\n",
    "    else \n",
    "        return false\n",
    "\n",
    "# test program\n",
    "test_numbers = [231, 3124, -4124, -1000,-999, 1001, 10000, -10000, 999]\n",
    "\n",
    "for number in test_numbers:\n",
    "    if is_fourdigit(number):\n",
    "        print(f\"{number} is four-digit\")\n",
    "    else:\n",
    "        print(f\"{number} is not four-digit\")\n",
    "\n",
    "```\n",
    "\n",
    "---\n",
    "## 2. Tram (*)\n",
    "\n",
    "Kokchun is a **clumpsy** computer user that doesn't take trams too often. Write a program to prompt the user for: \n",
    "- number of times he/she wants to take tram in one month\n",
    "- cost for one ticket\n",
    "- cost for monthly card\n",
    "\n",
    "The program should calculate if it's worth for him to buy  monthly card or not. Make the program user friendly with clear error messages and ask again in case of input errors. \n",
    "\n",
    "---\n",
    "\n",
    "</div>\n",
    "\n",
    "\n"
   ]
  },
  {
   "cell_type": "markdown",
   "metadata": {},
   "source": [
    "<div style=\"width: 66ch;\">\n",
    "\n",
    "\n",
    "</div>"
   ]
  },
  {
   "cell_type": "markdown",
   "metadata": {},
   "source": [
    "<div style=\"background-color: #FFF; color: #212121; border-radius: 20px; width:25ch; box-shadow: rgba(0, 0, 0, 0.16) 0px 1px 4px; display: flex; justify-content: center; align-items: center;\">\n",
    "<div style=\"padding: 1em; width: 60%;\">\n",
    "    <h2 style=\"font-size: 1.2rem;\">Kokchun Giang</h2>\n",
    "    <a href=\"https://www.linkedin.com/in/kokchungiang/\" target=\"_blank\" style=\"display: flex; align-items: center; gap: .4em; color:#0A66C2;\">\n",
    "        <img src=\"https://content.linkedin.com/content/dam/me/business/en-us/amp/brand-site/v2/bg/LI-Bug.svg.original.svg\" width=\"20\"> \n",
    "        LinkedIn profile\n",
    "    </a>\n",
    "    <a href=\"https://github.com/kokchun/Portfolio-Kokchun-Giang\" target=\"_blank\" style=\"display: flex; align-items: center; gap: .4em; margin: 1em 0; color:#0A66C2;\">\n",
    "        <img src=\"https://github.githubassets.com/images/modules/logos_page/GitHub-Mark.png\" width=\"20\"> \n",
    "        Github portfolio\n",
    "    </a>\n",
    "    <span>AIgineer AB</span>\n",
    "    <div>\n",
    "</div>"
   ]
  }
 ],
 "metadata": {
  "kernelspec": {
   "display_name": "Python 3.9.6 64-bit",
   "language": "python",
   "name": "python3"
  },
  "language_info": {
   "codemirror_mode": {
    "name": "ipython",
    "version": 3
   },
   "file_extension": ".py",
   "mimetype": "text/x-python",
   "name": "python",
   "nbconvert_exporter": "python",
   "pygments_lexer": "ipython3",
   "version": "3.9.9"
  },
  "orig_nbformat": 4,
  "vscode": {
   "interpreter": {
    "hash": "0da836a34428266995a795f1e1e27b816fa1c02f148d9728b3fbbbc5459afca6"
   }
  }
 },
 "nbformat": 4,
 "nbformat_minor": 2
}
