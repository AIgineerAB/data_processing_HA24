{
 "cells": [
  {
   "cell_type": "markdown",
   "metadata": {},
   "source": [
    "# Exercise - functions\n",
    "\n",
    "<div style=\"max-width: 66ch;\">\n",
    "\n",
    "---\n",
    "These are introductory exercises in Python with focus in **functions**, which is  a reusable block of code that performs a specific task. \n",
    "\n",
    "<p class = \"alert alert-info\" role=\"alert\"><b>Remember</b> to use <b>descriptive variables</b> in order to get readable code </p>\n",
    "\n",
    "<p class = \"alert alert-info\" role=\"alert\"><b>Remember</b> to format your answers in a neat way using <b>f-strings</b>\n",
    "\n",
    "<p class = \"alert alert-info\" role=\"alert\"><b>Remember</b> to format your input questions in a pedagogical way to guide the user\n",
    "\n",
    "The number of stars (\\*), (\\*\\*), (\\*\\*\\*) denotes the difficulty level of the task\n",
    "\n",
    "---\n",
    "\n",
    "</div>"
   ]
  },
  {
   "cell_type": "markdown",
   "metadata": {},
   "source": [
    "<div style=\"max-width:66ch;\">\n",
    "\n",
    "## 0. Area (*)\n",
    "\n",
    "Create a function that takes the base and height of a triangle as input parameters and returns the area of the triangle.   \n",
    "\n",
    "---\n",
    "## 1. Euclidean distance (*)\n",
    "\n",
    "The formula for Euclidean distance in 2D between $P: (p_1, p_2)$ and $Q: (q_1, q_2)$  is: \n",
    "\n",
    "$d(P,Q) = \\sqrt{(p_1-q_1)^2 + (p_2-q_2)^2}$\n",
    "\n",
    "&nbsp; a) &nbsp; Create a function that takes two points as input parameters and return the Euclidean between them. (*)\n",
    "\n",
    "&nbsp; b) &nbsp; Let the user input two points. Call the function using the users input points. (*)\n",
    "\n",
    "&nbsp; c) &nbsp; Use your function to calculate distances between the origin (0, 0) and each of these points: (10, 3), (-1, -9), (10, -10), (4, -2), (9, -10). (*)\n",
    "\n",
    "---\n",
    "## 2. Mathematical functions (*)\n",
    "\n",
    "Make the following functions with **def** or **lambda** and plot their graphs in the same figure window, with $x\\in [-10,10]$ :\n",
    "\n",
    "&nbsp; a) &nbsp;  $f(x) = x^2 -3$ (*)\n",
    "\n",
    "&nbsp; b) &nbsp; $g(x) = 4x-7$ (*)\n",
    "\n",
    "What could the relation between $f(x)$ and $g(x)$ be?\n",
    "\n",
    "---\n",
    "## 3. Name cleaner (*)\n",
    "\n",
    "Create a function that takes a name as an input and:\n",
    "\n",
    "- removes all leading and trailing blank spaces\n",
    "- make capitalize the first character of each name, and make the rest lowercase\n",
    "\n",
    "Use your function on this list of strings: \n",
    "\n",
    "```\n",
    "[\"  MaRcUs \", \" iDA aNderSon\", \"OLOF Olofsson            \"  ]\n",
    "```\n",
    "\n",
    "---\n",
    "## 4. Change (**)\n",
    "\n",
    "Create a function that takes a value as input parameter and print out the banknotes and coins in Swedish currency representing this value. For example 5289 would give the following printout: \n",
    "\n",
    "- 5st 1000-lapp\n",
    "- 1st 200-lapp\n",
    "- 1st 50-lapp\n",
    "- 1st 20-lapp\n",
    "- 1st 10-krona\n",
    "- 1st 5-krona\n",
    "- 2st 2-krona\n",
    "\n",
    "Now let the user input a value, and use the function to calculate the change.\n",
    "\n",
    "---\n",
    "\n",
    "</div>\n",
    "\n",
    "\n"
   ]
  },
  {
   "cell_type": "markdown",
   "metadata": {},
   "source": [
    "<div style=\"width: 66ch;\">\n",
    "\n",
    "\n",
    "</div>"
   ]
  },
  {
   "cell_type": "markdown",
   "metadata": {},
   "source": [
    "<div style=\"background-color: #FFF; color: #212121; border-radius: 20px; width:25ch; box-shadow: rgba(0, 0, 0, 0.16) 0px 1px 4px; display: flex; justify-content: center; align-items: center;\">\n",
    "<div style=\"padding: 1em; width: 60%;\">\n",
    "    <h2 style=\"font-size: 1.2rem;\">Kokchun Giang</h2>\n",
    "    <a href=\"https://www.linkedin.com/in/kokchungiang/\" target=\"_blank\" style=\"display: flex; align-items: center; gap: .4em; color:#0A66C2;\">\n",
    "        <img src=\"https://content.linkedin.com/content/dam/me/business/en-us/amp/brand-site/v2/bg/LI-Bug.svg.original.svg\" width=\"20\"> \n",
    "        LinkedIn profile\n",
    "    </a>\n",
    "    <a href=\"https://github.com/kokchun/Portfolio-Kokchun-Giang\" target=\"_blank\" style=\"display: flex; align-items: center; gap: .4em; margin: 1em 0; color:#0A66C2;\">\n",
    "        <img src=\"https://github.githubassets.com/images/modules/logos_page/GitHub-Mark.png\" width=\"20\"> \n",
    "        Github portfolio\n",
    "    </a>\n",
    "    <span>AIgineer AB</span>\n",
    "    <div>\n",
    "</div>"
   ]
  }
 ],
 "metadata": {
  "kernelspec": {
   "display_name": "Python 3.9.6 64-bit",
   "language": "python",
   "name": "python3"
  },
  "language_info": {
   "codemirror_mode": {
    "name": "ipython",
    "version": 3
   },
   "file_extension": ".py",
   "mimetype": "text/x-python",
   "name": "python",
   "nbconvert_exporter": "python",
   "pygments_lexer": "ipython3",
   "version": "3.9.9"
  },
  "orig_nbformat": 4,
  "vscode": {
   "interpreter": {
    "hash": "0da836a34428266995a795f1e1e27b816fa1c02f148d9728b3fbbbc5459afca6"
   }
  }
 },
 "nbformat": 4,
 "nbformat_minor": 2
}
